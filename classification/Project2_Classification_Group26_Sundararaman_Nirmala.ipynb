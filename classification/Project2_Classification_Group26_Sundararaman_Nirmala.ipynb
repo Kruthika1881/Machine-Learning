{
 "cells": [
  {
   "cell_type": "markdown",
   "metadata": {},
   "source": [
    "# <font color='green'>Project 2 \n",
    "## Group 26 \n",
    "### Members: \n",
    "1.Durgalakshmi Sundaraman(dxs190016)                                                                                         \n",
    "2.Kruthika Natarajan Nirmala(kxn190008)"
   ]
  },
  {
   "cell_type": "markdown",
   "metadata": {},
   "source": [
    "## <font color='green'> Classification"
   ]
  },
  {
   "cell_type": "markdown",
   "metadata": {},
   "source": [
    "\n",
    "Classification Task:\n",
    "- Apply two voting classifiers - one with hard voting and one with soft voting\n",
    "- Apply any two models with bagging and any two models with pasting.\n",
    "- Apply any two models with adaboost boosting\n",
    "- Apply one model with gradient boosting\n",
    "- Apply PCA on data and then apply all the models in project 1 again on data you get from PCA. Compare your results with results in project 1. You don't need to apply all the models twice. Just copy the result table from project 1, prepare similar table for all the models after PCA and compare both tables. Does PCA help in getting better results?\n",
    "- Apply deep learning models covered in class"
   ]
  },
  {
   "cell_type": "markdown",
   "metadata": {},
   "source": [
    "### DataSet\n",
    "\n",
    "This dataset is  taken from kaggel from  Global Health Observatory (GHO) data repository under World Health Organization (WHO). It contains hotel booking information and includes information such as for which date booking was made, the lead time,the week night and weekend night stay, the number of adults, children, and/or babies, and the number of available parking spaces etc. There are <b>1207 total observations</b> with <b>19 columns</b>. Out of this 19 columns we have 6 categorical variables and the target column is with 1 representing a cancellation made and 0 representing no cancellation.\n",
    "\n",
    "The <b>target variable</b> in this is <b>is_canceled</b> variable . The model works to predict the life expectancy of a person given his living conditions\n"
   ]
  },
  {
   "cell_type": "markdown",
   "metadata": {},
   "source": [
    "### Importing necessary libraries for the project"
   ]
  },
  {
   "cell_type": "code",
   "execution_count": 1,
   "metadata": {},
   "outputs": [],
   "source": [
    "#Importing the required libraries\n",
    "import numpy as np\n",
    "import pandas as pd\n",
    "import matplotlib.pyplot as plt\n",
    "import seaborn as sns\n",
    "from sklearn.neighbors import KNeighborsClassifier\n",
    "from sklearn.model_selection import train_test_split\n",
    "from sklearn.preprocessing import StandardScaler\n",
    "from sklearn.preprocessing import MinMaxScaler\n",
    "from sklearn.model_selection import cross_val_score\n",
    "from sklearn.model_selection import GridSearchCV\n",
    "\n",
    "\n",
    "from sklearn import neighbors\n",
    "from sklearn.metrics import mean_squared_error \n",
    "from sklearn.metrics import mean_absolute_error\n",
    "from sklearn.metrics import r2_score\n",
    "from math import sqrt\n",
    "import warnings\n",
    "warnings.filterwarnings(\"ignore\")\n"
   ]
  },
  {
   "cell_type": "markdown",
   "metadata": {},
   "source": [
    "### Dataset for classification"
   ]
  },
  {
   "cell_type": "code",
   "execution_count": 2,
   "metadata": {
    "scrolled": true
   },
   "outputs": [
    {
     "data": {
      "text/plain": [
       "(1207, 19)"
      ]
     },
     "execution_count": 2,
     "metadata": {},
     "output_type": "execute_result"
    }
   ],
   "source": [
    "#reading the dataset\n",
    "df_hotel = pd.read_excel(\"C:\\\\Users\\\\sundh\\\\Desktop\\\\ML\\\\ML_Project1_Group26\\\\ML Project\\\\ML Classification\\\\hotel_cancel_predictions.xlsx\")\n",
    "#checking the shape of the dataset\n",
    "df_hotel.shape"
   ]
  },
  {
   "cell_type": "markdown",
   "metadata": {},
   "source": [
    "<b>Column                         : Description</b><br>\n",
    "<b>is_canceled </b>                    : Target variable if booking was cancelled<br>\n",
    "<b>lead_time  </b>                     : No. of days between booking and hotel checkin <br>\n",
    "<b>arrival_date_month</b>              : Month of hotel booking<br>\n",
    "<b>arrival_date_week_number  </b>      : Week number of hotel booking<br>\n",
    "<b>arrival_date_day_of_month </b>      : Day of hotel booking<br>\n",
    "<b>stays_in_weekend_nights  </b>       : No. of weekend nights stayed<br>\n",
    "<b>stays_in_week_nights   </b>         : No. of week nights stayed<br>\n",
    "<b>adults              </b>            : No. of adults<br>\n",
    "<b>children         </b>               : No. of children<br>\n",
    "<b>babies         </b>                 : No. of babies<br>\n",
    "<b>meal            </b>                : Meal plan booked<br>\n",
    "<b>market_segment   </b>               : Market segment of the customer<br>\n",
    "<b>distribution_channel </b>           : distribution channel the customer is in<br>\n",
    "<b>booking_changes    </b>             : No. of booking changes made<br>\n",
    "<b>deposit_type    </b>                : Deposite type made<br>\n",
    "<b>days_in_waiting_list  </b>          : No. of days in waiting for booking<br>\n",
    "<b>adr                   </b>          : Dollars paid<br>\n",
    "<b>required_car_parking_spaces   </b>  : No. of car parking spaces<br>\n",
    "<b>reservation_status      </b>        : status of reservation<br>\n"
   ]
  },
  {
   "cell_type": "markdown",
   "metadata": {},
   "source": [
    "## Exploratory Data Analysis"
   ]
  },
  {
   "cell_type": "markdown",
   "metadata": {},
   "source": [
    "The exploratory data analysis is performed on the dataset to understand the variations, range, detect outliers and collinearity if it exists in the dataset."
   ]
  },
  {
   "cell_type": "markdown",
   "metadata": {},
   "source": [
    "### <b>Check for null</b>"
   ]
  },
  {
   "cell_type": "markdown",
   "metadata": {},
   "source": [
    " Upon checking for null we find that 1728 of the data cells in the dataset have a randomly disbursed null presence"
   ]
  },
  {
   "cell_type": "code",
   "execution_count": 3,
   "metadata": {},
   "outputs": [
    {
     "name": "stdout",
     "output_type": "stream",
     "text": [
      "<class 'pandas.core.frame.DataFrame'>\n",
      "RangeIndex: 1207 entries, 0 to 1206\n",
      "Data columns (total 19 columns):\n",
      " #   Column                       Non-Null Count  Dtype  \n",
      "---  ------                       --------------  -----  \n",
      " 0   is_canceled                  1112 non-null   float64\n",
      " 1   lead_time                    1132 non-null   float64\n",
      " 2   arrival_date_month           1120 non-null   object \n",
      " 3   arrival_date_week_number     1119 non-null   float64\n",
      " 4   arrival_date_day_of_month    1097 non-null   float64\n",
      " 5   stays_in_weekend_nights      1111 non-null   float64\n",
      " 6   stays_in_week_nights         1114 non-null   float64\n",
      " 7   adults                       1116 non-null   float64\n",
      " 8   children                     1117 non-null   float64\n",
      " 9   babies                       1124 non-null   float64\n",
      " 10  meal                         1118 non-null   object \n",
      " 11  market_segment               1125 non-null   object \n",
      " 12  distribution_channel         1107 non-null   object \n",
      " 13  booking_changes              1110 non-null   float64\n",
      " 14  deposit_type                 1117 non-null   object \n",
      " 15  days_in_waiting_list         1114 non-null   float64\n",
      " 16  adr                          1117 non-null   float64\n",
      " 17  required_car_parking_spaces  1127 non-null   float64\n",
      " 18  reservation_status           1108 non-null   object \n",
      "dtypes: float64(13), object(6)\n",
      "memory usage: 179.3+ KB\n"
     ]
    }
   ],
   "source": [
    "#Checking data information\n",
    "df_hotel.info()"
   ]
  },
  {
   "cell_type": "markdown",
   "metadata": {},
   "source": [
    "There are totally 19 columns with more than two categorical columns "
   ]
  },
  {
   "cell_type": "code",
   "execution_count": 4,
   "metadata": {},
   "outputs": [
    {
     "data": {
      "text/plain": [
       "1728"
      ]
     },
     "execution_count": 4,
     "metadata": {},
     "output_type": "execute_result"
    }
   ],
   "source": [
    "#Total count of null\n",
    "df_hotel.isna().sum().sum()"
   ]
  },
  {
   "cell_type": "code",
   "execution_count": 5,
   "metadata": {},
   "outputs": [
    {
     "data": {
      "text/plain": [
       "is_canceled                     95\n",
       "lead_time                       75\n",
       "arrival_date_month              87\n",
       "arrival_date_week_number        88\n",
       "arrival_date_day_of_month      110\n",
       "stays_in_weekend_nights         96\n",
       "stays_in_week_nights            93\n",
       "adults                          91\n",
       "children                        90\n",
       "babies                          83\n",
       "meal                            89\n",
       "market_segment                  82\n",
       "distribution_channel           100\n",
       "booking_changes                 97\n",
       "deposit_type                    90\n",
       "days_in_waiting_list            93\n",
       "adr                             90\n",
       "required_car_parking_spaces     80\n",
       "reservation_status              99\n",
       "dtype: int64"
      ]
     },
     "execution_count": 5,
     "metadata": {},
     "output_type": "execute_result"
    }
   ],
   "source": [
    "#Count of null by column\n",
    "df_hotel.isna().sum()"
   ]
  },
  {
   "cell_type": "markdown",
   "metadata": {},
   "source": [
    "To handle the null we check the data in the first five rows"
   ]
  },
  {
   "cell_type": "code",
   "execution_count": 6,
   "metadata": {
    "scrolled": true
   },
   "outputs": [
    {
     "data": {
      "text/html": [
       "<div>\n",
       "<style scoped>\n",
       "    .dataframe tbody tr th:only-of-type {\n",
       "        vertical-align: middle;\n",
       "    }\n",
       "\n",
       "    .dataframe tbody tr th {\n",
       "        vertical-align: top;\n",
       "    }\n",
       "\n",
       "    .dataframe thead th {\n",
       "        text-align: right;\n",
       "    }\n",
       "</style>\n",
       "<table border=\"1\" class=\"dataframe\">\n",
       "  <thead>\n",
       "    <tr style=\"text-align: right;\">\n",
       "      <th></th>\n",
       "      <th>is_canceled</th>\n",
       "      <th>lead_time</th>\n",
       "      <th>arrival_date_month</th>\n",
       "      <th>arrival_date_week_number</th>\n",
       "      <th>arrival_date_day_of_month</th>\n",
       "      <th>stays_in_weekend_nights</th>\n",
       "      <th>stays_in_week_nights</th>\n",
       "      <th>adults</th>\n",
       "      <th>children</th>\n",
       "      <th>babies</th>\n",
       "      <th>meal</th>\n",
       "      <th>market_segment</th>\n",
       "      <th>distribution_channel</th>\n",
       "      <th>booking_changes</th>\n",
       "      <th>deposit_type</th>\n",
       "      <th>days_in_waiting_list</th>\n",
       "      <th>adr</th>\n",
       "      <th>required_car_parking_spaces</th>\n",
       "      <th>reservation_status</th>\n",
       "    </tr>\n",
       "  </thead>\n",
       "  <tbody>\n",
       "    <tr>\n",
       "      <th>0</th>\n",
       "      <td>0.0</td>\n",
       "      <td>26.0</td>\n",
       "      <td>March</td>\n",
       "      <td>12.0</td>\n",
       "      <td>17.0</td>\n",
       "      <td>2.0</td>\n",
       "      <td>NaN</td>\n",
       "      <td>2.0</td>\n",
       "      <td>0.0</td>\n",
       "      <td>0.0</td>\n",
       "      <td>NaN</td>\n",
       "      <td>Online TA</td>\n",
       "      <td>TA/TO</td>\n",
       "      <td>0.0</td>\n",
       "      <td>No Deposit</td>\n",
       "      <td>0.0</td>\n",
       "      <td>72.89</td>\n",
       "      <td>0.0</td>\n",
       "      <td>Check-Out</td>\n",
       "    </tr>\n",
       "    <tr>\n",
       "      <th>1</th>\n",
       "      <td>1.0</td>\n",
       "      <td>NaN</td>\n",
       "      <td>October</td>\n",
       "      <td>44.0</td>\n",
       "      <td>28.0</td>\n",
       "      <td>2.0</td>\n",
       "      <td>5.0</td>\n",
       "      <td>2.0</td>\n",
       "      <td>0.0</td>\n",
       "      <td>0.0</td>\n",
       "      <td>BB</td>\n",
       "      <td>Online TA</td>\n",
       "      <td>TA/TO</td>\n",
       "      <td>0.0</td>\n",
       "      <td>No Deposit</td>\n",
       "      <td>0.0</td>\n",
       "      <td>63.03</td>\n",
       "      <td>0.0</td>\n",
       "      <td>Canceled</td>\n",
       "    </tr>\n",
       "    <tr>\n",
       "      <th>2</th>\n",
       "      <td>0.0</td>\n",
       "      <td>0.0</td>\n",
       "      <td>April</td>\n",
       "      <td>16.0</td>\n",
       "      <td>12.0</td>\n",
       "      <td>0.0</td>\n",
       "      <td>5.0</td>\n",
       "      <td>1.0</td>\n",
       "      <td>0.0</td>\n",
       "      <td>0.0</td>\n",
       "      <td>BB</td>\n",
       "      <td>Offline TA/TO</td>\n",
       "      <td>NaN</td>\n",
       "      <td>0.0</td>\n",
       "      <td>No Deposit</td>\n",
       "      <td>0.0</td>\n",
       "      <td>55.00</td>\n",
       "      <td>0.0</td>\n",
       "      <td>NaN</td>\n",
       "    </tr>\n",
       "    <tr>\n",
       "      <th>3</th>\n",
       "      <td>0.0</td>\n",
       "      <td>0.0</td>\n",
       "      <td>May</td>\n",
       "      <td>21.0</td>\n",
       "      <td>NaN</td>\n",
       "      <td>1.0</td>\n",
       "      <td>1.0</td>\n",
       "      <td>2.0</td>\n",
       "      <td>0.0</td>\n",
       "      <td>0.0</td>\n",
       "      <td>BB</td>\n",
       "      <td>Online TA</td>\n",
       "      <td>TA/TO</td>\n",
       "      <td>1.0</td>\n",
       "      <td>No Deposit</td>\n",
       "      <td>0.0</td>\n",
       "      <td>79.20</td>\n",
       "      <td>0.0</td>\n",
       "      <td>Check-Out</td>\n",
       "    </tr>\n",
       "    <tr>\n",
       "      <th>4</th>\n",
       "      <td>0.0</td>\n",
       "      <td>138.0</td>\n",
       "      <td>NaN</td>\n",
       "      <td>13.0</td>\n",
       "      <td>NaN</td>\n",
       "      <td>0.0</td>\n",
       "      <td>3.0</td>\n",
       "      <td>2.0</td>\n",
       "      <td>0.0</td>\n",
       "      <td>0.0</td>\n",
       "      <td>BB</td>\n",
       "      <td>Offline TA/TO</td>\n",
       "      <td>TA/TO</td>\n",
       "      <td>1.0</td>\n",
       "      <td>No Deposit</td>\n",
       "      <td>0.0</td>\n",
       "      <td>42.67</td>\n",
       "      <td>0.0</td>\n",
       "      <td>Check-Out</td>\n",
       "    </tr>\n",
       "  </tbody>\n",
       "</table>\n",
       "</div>"
      ],
      "text/plain": [
       "   is_canceled  lead_time arrival_date_month  arrival_date_week_number  \\\n",
       "0          0.0       26.0              March                      12.0   \n",
       "1          1.0        NaN            October                      44.0   \n",
       "2          0.0        0.0              April                      16.0   \n",
       "3          0.0        0.0                May                      21.0   \n",
       "4          0.0      138.0                NaN                      13.0   \n",
       "\n",
       "   arrival_date_day_of_month  stays_in_weekend_nights  stays_in_week_nights  \\\n",
       "0                       17.0                      2.0                   NaN   \n",
       "1                       28.0                      2.0                   5.0   \n",
       "2                       12.0                      0.0                   5.0   \n",
       "3                        NaN                      1.0                   1.0   \n",
       "4                        NaN                      0.0                   3.0   \n",
       "\n",
       "   adults  children  babies meal market_segment distribution_channel  \\\n",
       "0     2.0       0.0     0.0  NaN      Online TA                TA/TO   \n",
       "1     2.0       0.0     0.0   BB      Online TA                TA/TO   \n",
       "2     1.0       0.0     0.0   BB  Offline TA/TO                  NaN   \n",
       "3     2.0       0.0     0.0   BB      Online TA                TA/TO   \n",
       "4     2.0       0.0     0.0   BB  Offline TA/TO                TA/TO   \n",
       "\n",
       "   booking_changes deposit_type  days_in_waiting_list    adr  \\\n",
       "0              0.0   No Deposit                   0.0  72.89   \n",
       "1              0.0   No Deposit                   0.0  63.03   \n",
       "2              0.0   No Deposit                   0.0  55.00   \n",
       "3              1.0   No Deposit                   0.0  79.20   \n",
       "4              1.0   No Deposit                   0.0  42.67   \n",
       "\n",
       "   required_car_parking_spaces reservation_status  \n",
       "0                          0.0          Check-Out  \n",
       "1                          0.0           Canceled  \n",
       "2                          0.0                NaN  \n",
       "3                          0.0          Check-Out  \n",
       "4                          0.0          Check-Out  "
      ]
     },
     "execution_count": 6,
     "metadata": {},
     "output_type": "execute_result"
    }
   ],
   "source": [
    "#reading the first five rows in the dataset\n",
    "df_hotel.head()"
   ]
  },
  {
   "cell_type": "markdown",
   "metadata": {},
   "source": [
    "<b>Handle Null</b>\n",
    "To handle the null, we choose to impute the mean value of the numeric columns and for categorical variables we have imputed the value with most count"
   ]
  },
  {
   "cell_type": "code",
   "execution_count": 7,
   "metadata": {},
   "outputs": [],
   "source": [
    "#Fill NULL with mean of the column data\n",
    "df_hotel['is_canceled'].fillna(df_hotel['is_canceled'].mean(), inplace=True)\n",
    "df_hotel['lead_time'].fillna(df_hotel['lead_time'].mean(), inplace=True)\n",
    "df_hotel['arrival_date_day_of_month'].fillna(df_hotel['arrival_date_day_of_month'].mean(), inplace=True)\n",
    "df_hotel['stays_in_weekend_nights'].fillna(df_hotel['stays_in_weekend_nights'].mean(), inplace=True)\n",
    "df_hotel['stays_in_week_nights'].fillna(df_hotel['stays_in_week_nights'].mean(), inplace=True)\n",
    "df_hotel['adults'].fillna(df_hotel['adults'].mean(), inplace=True)\n",
    "df_hotel['children'].fillna(df_hotel['children'].mean(), inplace=True)\n",
    "df_hotel['adr'].fillna(df_hotel['adr'].mean(), inplace=True)\n",
    "df_hotel['booking_changes'].fillna(df_hotel['booking_changes'].mean(), inplace=True)\n",
    "df_hotel['market_segment'].fillna(df_hotel['market_segment'].value_counts().index[0], inplace=True)\n",
    "df_hotel['arrival_date_week_number'].fillna(df_hotel['arrival_date_week_number'].mean(), inplace=True)\n",
    "df_hotel['arrival_date_month'].fillna(df_hotel['arrival_date_month'].value_counts().index[0], inplace=True)\n",
    "df_hotel['babies'].fillna(df_hotel['babies'].mean(), inplace=True)\n",
    "df_hotel['meal'].fillna(df_hotel['meal'].value_counts().index[0], inplace=True)\n",
    "df_hotel['distribution_channel'].fillna(df_hotel['distribution_channel'].value_counts().index[0], inplace=True)\n",
    "df_hotel['required_car_parking_spaces'].fillna(df_hotel['required_car_parking_spaces'].mean(), inplace=True)\n",
    "df_hotel['reservation_status'].fillna(df_hotel['reservation_status'].value_counts().index[0], inplace=True)\n",
    "df_hotel['days_in_waiting_list'].fillna(df_hotel['days_in_waiting_list'].mean(), inplace=True)\n",
    "df_hotel['deposit_type'].fillna(df_hotel['deposit_type'].value_counts().index[0], inplace=True)\n"
   ]
  },
  {
   "cell_type": "markdown",
   "metadata": {},
   "source": [
    "We check to see if all the columns have 0 null presence"
   ]
  },
  {
   "cell_type": "code",
   "execution_count": 8,
   "metadata": {},
   "outputs": [
    {
     "data": {
      "text/plain": [
       "is_canceled                    0\n",
       "lead_time                      0\n",
       "arrival_date_month             0\n",
       "arrival_date_week_number       0\n",
       "arrival_date_day_of_month      0\n",
       "stays_in_weekend_nights        0\n",
       "stays_in_week_nights           0\n",
       "adults                         0\n",
       "children                       0\n",
       "babies                         0\n",
       "meal                           0\n",
       "market_segment                 0\n",
       "distribution_channel           0\n",
       "booking_changes                0\n",
       "deposit_type                   0\n",
       "days_in_waiting_list           0\n",
       "adr                            0\n",
       "required_car_parking_spaces    0\n",
       "reservation_status             0\n",
       "dtype: int64"
      ]
     },
     "execution_count": 8,
     "metadata": {},
     "output_type": "execute_result"
    }
   ],
   "source": [
    "#checking for nulls in each column\n",
    "df_hotel.isna().sum()"
   ]
  },
  {
   "cell_type": "code",
   "execution_count": 9,
   "metadata": {},
   "outputs": [],
   "source": [
    "#Changing the datatype from float to integer\n",
    "df_hotel['lead_time']=df_hotel['lead_time'].astype(int)\n",
    "df_hotel['arrival_date_day_of_month']=df_hotel['arrival_date_day_of_month'].astype(int)\n",
    "df_hotel['stays_in_weekend_nights']=df_hotel['stays_in_weekend_nights'].astype(int)\n",
    "df_hotel['stays_in_week_nights']=df_hotel['stays_in_week_nights'].astype(int)\n",
    "df_hotel['stays_in_weekend_nights']=df_hotel['stays_in_weekend_nights'].astype(int)\n",
    "df_hotel['adults']=df_hotel['adults'].astype(int)\n",
    "df_hotel['children']=df_hotel['children'].astype(int)\n",
    "df_hotel['booking_changes']=df_hotel['booking_changes'].astype(int)\n",
    "df_hotel['is_canceled']=df_hotel['is_canceled'].astype(int)\n",
    "\n"
   ]
  },
  {
   "cell_type": "markdown",
   "metadata": {},
   "source": [
    "### Data Visualisation"
   ]
  },
  {
   "cell_type": "markdown",
   "metadata": {},
   "source": [
    "We check the spread of the target variable is_canceled. We see that most of the hotel bookings in our dataset are not canceled."
   ]
  },
  {
   "cell_type": "code",
   "execution_count": 10,
   "metadata": {},
   "outputs": [
    {
     "data": {
      "image/png": "[encoded data removed]",
      "text/plain": [
       "<Figure size 432x288 with 1 Axes>"
      ]
     },
     "metadata": {
      "needs_background": "light"
     },
     "output_type": "display_data"
    }
   ],
   "source": [
    "#Plot depicting the number of cancellations\n",
    "sns.countplot(data=df_hotel,x=df_hotel.is_canceled)\n",
    "plt.show()"
   ]
  },
  {
   "cell_type": "markdown",
   "metadata": {},
   "source": [
    "Visualising the spread of cancellations and booking over the months. \n",
    "It can be seen that most of the bookings done in March are not cancelled and August has least booking.\n",
    "Maximum booking cancellation are also done in March with least in January"
   ]
  },
  {
   "cell_type": "code",
   "execution_count": 11,
   "metadata": {},
   "outputs": [
    {
     "data": {
      "image/png": "[encoded data removed]",
      "text/plain": [
       "<Figure size 1152x432 with 1 Axes>"
      ]
     },
     "metadata": {
      "needs_background": "light"
     },
     "output_type": "display_data"
    }
   ],
   "source": [
    "#Plotting number of cancellations and confirmed bookings done month-wise\n",
    "plt.figure(figsize=(16, 6))\n",
    "plot2=sns.countplot(data=df_hotel,x=df_hotel.arrival_date_month,hue=df_hotel.is_canceled,color='Pink')\n",
    "plot2.set(xlabel=\"Arrival_month\", ylabel=\"Number of bookings\")\n",
    "plt.show()"
   ]
  },
  {
   "cell_type": "markdown",
   "metadata": {},
   "source": [
    "Checking the presence of outliera in is_canceled with respect to the lead time which is the number of days between the booking made and the date of hotel stay\n",
    "We find that as the lead days increases, the outliers are present in both cancelled as well as confirmed bookings.\n",
    "But we dont remove these to as it would be the case in real time data"
   ]
  },
  {
   "cell_type": "code",
   "execution_count": 12,
   "metadata": {},
   "outputs": [
    {
     "data": {
      "text/plain": [
       "<Figure size 1440x432 with 0 Axes>"
      ]
     },
     "metadata": {},
     "output_type": "display_data"
    },
    {
     "data": {
      "image/png": "[encoded data removed]",
      "text/plain": [
       "<Figure size 360x360 with 1 Axes>"
      ]
     },
     "metadata": {
      "needs_background": "light"
     },
     "output_type": "display_data"
    }
   ],
   "source": [
    "#PLotting the scatterplot of lead times of canceled and confirmed bookings\n",
    "plt.figure(figsize=(20, 6))\n",
    "plot2=sns.catplot(data=df_hotel,x='is_canceled',y='lead_time',color='Pink')#,order=[0,1]\n",
    "plot2.set(xlabel=\"is_canceled\", ylabel=\"Lead time\")\n",
    "plt.show()"
   ]
  },
  {
   "cell_type": "markdown",
   "metadata": {},
   "source": [
    "Cancelled a booking always puts a hole in the pocket. We can see the variation in the dollars spent in this case."
   ]
  },
  {
   "cell_type": "code",
   "execution_count": 13,
   "metadata": {},
   "outputs": [
    {
     "data": {
      "image/png": "[encoded data removed]",
      "text/plain": [
       "<Figure size 1152x432 with 1 Axes>"
      ]
     },
     "metadata": {
      "needs_background": "light"
     },
     "output_type": "display_data"
    }
   ],
   "source": [
    "# Plotting the box plot depicting the dollar amount spent for canceled and confirmed bookings\n",
    "plt.figure(figsize=(16, 6))\n",
    "plot3=sns.boxplot(data=df_hotel,x='is_canceled', y='adr',\n",
    "            palette=[\"m\", \"g\"])\n",
    "#sns.despine(offset=10, trim=True)\n",
    "plot3.set(xlabel=\"is_canceled\", ylabel=\"Dollars\")\n",
    "plt.show()"
   ]
  },
  {
   "cell_type": "markdown",
   "metadata": {},
   "source": [
    "Weekends are always for getaways and sometime it ends up with a spoiler. This can be seen in the plot below showing that cancellations are more in weekend night stays as people tentatively make a booking"
   ]
  },
  {
   "cell_type": "code",
   "execution_count": 14,
   "metadata": {},
   "outputs": [
    {
     "data": {
      "text/plain": [
       "<Figure size 1440x432 with 0 Axes>"
      ]
     },
     "metadata": {},
     "output_type": "display_data"
    },
    {
     "data": {
      "image/png": "[encoded data removed]",
      "text/plain": [
       "<Figure size 432x288 with 2 Axes>"
      ]
     },
     "metadata": {
      "needs_background": "light"
     },
     "output_type": "display_data"
    }
   ],
   "source": [
    "#Plotting the count of canceled and confirmed bookings having weekend and week nights \n",
    "plt.figure(figsize=(20, 6))\n",
    "fig, ax =plt.subplots(1,2)\n",
    "sns.countplot(data=df_hotel,x='stays_in_weekend_nights',hue='is_canceled',color='Pink', ax=ax[0])\n",
    "sns.countplot(data=df_hotel,x='stays_in_week_nights',hue='is_canceled',color='Pink', ax=ax[1])\n",
    "plt.show()\n"
   ]
  },
  {
   "cell_type": "markdown",
   "metadata": {},
   "source": [
    "The number of changes made to a booking are visualised and can be infered that people who dont cancel make more changes to their bookings"
   ]
  },
  {
   "cell_type": "code",
   "execution_count": 15,
   "metadata": {},
   "outputs": [
    {
     "data": {
      "image/png": "[encoded data removed]",
      "text/plain": [
       "<Figure size 360x360 with 1 Axes>"
      ]
     },
     "metadata": {
      "needs_background": "light"
     },
     "output_type": "display_data"
    }
   ],
   "source": [
    "#Plotting the booking changes done for canceled and confirmed bookings\n",
    "plot2=sns.catplot(data=df_hotel,x='is_canceled',y='booking_changes',color='Pink')\n",
    "plot2.set(xlabel=\"is_canceled\", ylabel=\"No of booking changes\")\n",
    "plt.show()"
   ]
  },
  {
   "cell_type": "markdown",
   "metadata": {},
   "source": [
    "When no deposit is expected upfront to make a booking, people are seen to book more and cancel it as well"
   ]
  },
  {
   "cell_type": "code",
   "execution_count": 16,
   "metadata": {},
   "outputs": [
    {
     "data": {
      "image/png": "[encoded data removed]",
      "text/plain": [
       "<Figure size 1152x432 with 1 Axes>"
      ]
     },
     "metadata": {
      "needs_background": "light"
     },
     "output_type": "display_data"
    }
   ],
   "source": [
    "#Plotting the deposit type for confirmed and canceled bookings\n",
    "plt.figure(figsize=(16, 6))\n",
    "plot2=sns.countplot(data=df_hotel,x='deposit_type',hue='is_canceled',color='Pink')\n",
    "plot2.set(xlabel=\"Deposit type\", ylabel=\"Number of bookings\")\n",
    "plt.show()"
   ]
  },
  {
   "cell_type": "markdown",
   "metadata": {},
   "source": [
    "We check for correlation among the variables"
   ]
  },
  {
   "cell_type": "code",
   "execution_count": 17,
   "metadata": {},
   "outputs": [
    {
     "data": {
      "image/png": "[encoded data removed]",
      "text/plain": [
       "<Figure size 1440x1080 with 2 Axes>"
      ]
     },
     "metadata": {
      "needs_background": "light"
     },
     "output_type": "display_data"
    }
   ],
   "source": [
    "# Making Correlation Matrix to find the relations between the variables\n",
    "plt.figure(figsize=(20,15))\n",
    "sns.heatmap(df_hotel.corr(), cmap='RdBu', annot=True)\n",
    "plt.tight_layout()"
   ]
  },
  {
   "cell_type": "markdown",
   "metadata": {},
   "source": [
    "Distribution of all variables"
   ]
  },
  {
   "cell_type": "code",
   "execution_count": 18,
   "metadata": {},
   "outputs": [
    {
     "data": {
      "text/plain": [
       "array([[<matplotlib.axes._subplots.AxesSubplot object at 0x000001D1CB2B2388>,\n",
       "        <matplotlib.axes._subplots.AxesSubplot object at 0x000001D1CB2BCBC8>,\n",
       "        <matplotlib.axes._subplots.AxesSubplot object at 0x000001D1CABE7808>,\n",
       "        <matplotlib.axes._subplots.AxesSubplot object at 0x000001D1CAC20948>],\n",
       "       [<matplotlib.axes._subplots.AxesSubplot object at 0x000001D1CAC58A48>,\n",
       "        <matplotlib.axes._subplots.AxesSubplot object at 0x000001D1CAC91B08>,\n",
       "        <matplotlib.axes._subplots.AxesSubplot object at 0x000001D1CB20C288>,\n",
       "        <matplotlib.axes._subplots.AxesSubplot object at 0x000001D1CA8FD088>],\n",
       "       [<matplotlib.axes._subplots.AxesSubplot object at 0x000001D1CA91D588>,\n",
       "        <matplotlib.axes._subplots.AxesSubplot object at 0x000001D1CA78DAC8>,\n",
       "        <matplotlib.axes._subplots.AxesSubplot object at 0x000001D1C9A3D948>,\n",
       "        <matplotlib.axes._subplots.AxesSubplot object at 0x000001D1C99A2A88>],\n",
       "       [<matplotlib.axes._subplots.AxesSubplot object at 0x000001D1C99B3908>,\n",
       "        <matplotlib.axes._subplots.AxesSubplot object at 0x000001D1C9994188>,\n",
       "        <matplotlib.axes._subplots.AxesSubplot object at 0x000001D1C999A408>,\n",
       "        <matplotlib.axes._subplots.AxesSubplot object at 0x000001D1CB21B248>]],\n",
       "      dtype=object)"
      ]
     },
     "execution_count": 18,
     "metadata": {},
     "output_type": "execute_result"
    },
    {
     "data": {
      "image/png": "[encoded data removed]",
      "text/plain": [
       "<Figure size 1152x1440 with 16 Axes>"
      ]
     },
     "metadata": {
      "needs_background": "light"
     },
     "output_type": "display_data"
    }
   ],
   "source": [
    "#Further exploration using histogram to check the distributions\n",
    "df_hotel.hist(figsize=(16, 20), bins=50, xlabelsize=8, ylabelsize=8)"
   ]
  },
  {
   "cell_type": "markdown",
   "metadata": {},
   "source": [
    "### Handle categorical variables"
   ]
  },
  {
   "cell_type": "markdown",
   "metadata": {},
   "source": [
    "The categorical variables need to be converted to dummy variables which add more columns. Categorical variables will be represented as 0 or 1 in the columns "
   ]
  },
  {
   "cell_type": "code",
   "execution_count": 19,
   "metadata": {},
   "outputs": [],
   "source": [
    "#creating dummies for arrival_date_month column\n",
    "cols = pd.get_dummies(df_hotel['arrival_date_month'], prefix= 'arrival_month')\n",
    "df_hotel[cols.columns] = cols\n",
    "df_hotel.drop('arrival_date_month', axis = 1, inplace = True)"
   ]
  },
  {
   "cell_type": "code",
   "execution_count": 20,
   "metadata": {},
   "outputs": [],
   "source": [
    "#creating dummies for meal column\n",
    "cols = pd.get_dummies(df_hotel['meal'], prefix= 'meal')\n",
    "df_hotel[cols.columns] = cols\n",
    "df_hotel.drop('meal', axis = 1, inplace = True)"
   ]
  },
  {
   "cell_type": "code",
   "execution_count": 21,
   "metadata": {},
   "outputs": [],
   "source": [
    "#creating dummies for market_segment column\n",
    "cols = pd.get_dummies(df_hotel['market_segment'], prefix= 'market_segment')\n",
    "df_hotel[cols.columns] = cols\n",
    "df_hotel.drop('market_segment', axis = 1, inplace = True)\n"
   ]
  },
  {
   "cell_type": "code",
   "execution_count": 22,
   "metadata": {},
   "outputs": [],
   "source": [
    "#creating dummies for deposit_type column\n",
    "cols = pd.get_dummies(df_hotel['deposit_type'], prefix= 'deposit_type')\n",
    "df_hotel[cols.columns] = cols\n",
    "df_hotel.drop('deposit_type', axis = 1, inplace = True)"
   ]
  },
  {
   "cell_type": "code",
   "execution_count": 23,
   "metadata": {},
   "outputs": [],
   "source": [
    "#creating dummies for arrival_date_month column\n",
    "cols = pd.get_dummies(df_hotel['distribution_channel'], prefix= 'distribution_channel')\n",
    "df_hotel[cols.columns] = cols\n",
    "df_hotel.drop('distribution_channel', axis = 1, inplace = True)"
   ]
  },
  {
   "cell_type": "code",
   "execution_count": 24,
   "metadata": {},
   "outputs": [],
   "source": [
    "#creating dummies for reservation_status column\n",
    "cols = pd.get_dummies(df_hotel['reservation_status'], prefix= 'reservation_status')\n",
    "df_hotel[cols.columns] = cols\n",
    "df_hotel.drop('reservation_status', axis = 1, inplace = True)"
   ]
  },
  {
   "cell_type": "code",
   "execution_count": 25,
   "metadata": {
    "scrolled": false
   },
   "outputs": [
    {
     "data": {
      "text/html": [
       "<div>\n",
       "<style scoped>\n",
       "    .dataframe tbody tr th:only-of-type {\n",
       "        vertical-align: middle;\n",
       "    }\n",
       "\n",
       "    .dataframe tbody tr th {\n",
       "        vertical-align: top;\n",
       "    }\n",
       "\n",
       "    .dataframe thead th {\n",
       "        text-align: right;\n",
       "    }\n",
       "</style>\n",
       "<table border=\"1\" class=\"dataframe\">\n",
       "  <thead>\n",
       "    <tr style=\"text-align: right;\">\n",
       "      <th></th>\n",
       "      <th>is_canceled</th>\n",
       "      <th>lead_time</th>\n",
       "      <th>arrival_date_week_number</th>\n",
       "      <th>arrival_date_day_of_month</th>\n",
       "      <th>stays_in_weekend_nights</th>\n",
       "      <th>stays_in_week_nights</th>\n",
       "      <th>adults</th>\n",
       "      <th>children</th>\n",
       "      <th>babies</th>\n",
       "      <th>booking_changes</th>\n",
       "      <th>...</th>\n",
       "      <th>market_segment_Online TA</th>\n",
       "      <th>deposit_type_No Deposit</th>\n",
       "      <th>deposit_type_Non Refund</th>\n",
       "      <th>deposit_type_Refundable</th>\n",
       "      <th>distribution_channel_Corporate</th>\n",
       "      <th>distribution_channel_Direct</th>\n",
       "      <th>distribution_channel_TA/TO</th>\n",
       "      <th>reservation_status_Canceled</th>\n",
       "      <th>reservation_status_Check-Out</th>\n",
       "      <th>reservation_status_No-Show</th>\n",
       "    </tr>\n",
       "  </thead>\n",
       "  <tbody>\n",
       "    <tr>\n",
       "      <th>0</th>\n",
       "      <td>0</td>\n",
       "      <td>26</td>\n",
       "      <td>12.0</td>\n",
       "      <td>17</td>\n",
       "      <td>2</td>\n",
       "      <td>3</td>\n",
       "      <td>2</td>\n",
       "      <td>0</td>\n",
       "      <td>0.0</td>\n",
       "      <td>0</td>\n",
       "      <td>...</td>\n",
       "      <td>1</td>\n",
       "      <td>1</td>\n",
       "      <td>0</td>\n",
       "      <td>0</td>\n",
       "      <td>0</td>\n",
       "      <td>0</td>\n",
       "      <td>1</td>\n",
       "      <td>0</td>\n",
       "      <td>1</td>\n",
       "      <td>0</td>\n",
       "    </tr>\n",
       "    <tr>\n",
       "      <th>1</th>\n",
       "      <td>1</td>\n",
       "      <td>95</td>\n",
       "      <td>44.0</td>\n",
       "      <td>28</td>\n",
       "      <td>2</td>\n",
       "      <td>5</td>\n",
       "      <td>2</td>\n",
       "      <td>0</td>\n",
       "      <td>0.0</td>\n",
       "      <td>0</td>\n",
       "      <td>...</td>\n",
       "      <td>1</td>\n",
       "      <td>1</td>\n",
       "      <td>0</td>\n",
       "      <td>0</td>\n",
       "      <td>0</td>\n",
       "      <td>0</td>\n",
       "      <td>1</td>\n",
       "      <td>1</td>\n",
       "      <td>0</td>\n",
       "      <td>0</td>\n",
       "    </tr>\n",
       "    <tr>\n",
       "      <th>2</th>\n",
       "      <td>0</td>\n",
       "      <td>0</td>\n",
       "      <td>16.0</td>\n",
       "      <td>12</td>\n",
       "      <td>0</td>\n",
       "      <td>5</td>\n",
       "      <td>1</td>\n",
       "      <td>0</td>\n",
       "      <td>0.0</td>\n",
       "      <td>0</td>\n",
       "      <td>...</td>\n",
       "      <td>0</td>\n",
       "      <td>1</td>\n",
       "      <td>0</td>\n",
       "      <td>0</td>\n",
       "      <td>0</td>\n",
       "      <td>0</td>\n",
       "      <td>1</td>\n",
       "      <td>0</td>\n",
       "      <td>1</td>\n",
       "      <td>0</td>\n",
       "    </tr>\n",
       "    <tr>\n",
       "      <th>3</th>\n",
       "      <td>0</td>\n",
       "      <td>0</td>\n",
       "      <td>21.0</td>\n",
       "      <td>16</td>\n",
       "      <td>1</td>\n",
       "      <td>1</td>\n",
       "      <td>2</td>\n",
       "      <td>0</td>\n",
       "      <td>0.0</td>\n",
       "      <td>1</td>\n",
       "      <td>...</td>\n",
       "      <td>1</td>\n",
       "      <td>1</td>\n",
       "      <td>0</td>\n",
       "      <td>0</td>\n",
       "      <td>0</td>\n",
       "      <td>0</td>\n",
       "      <td>1</td>\n",
       "      <td>0</td>\n",
       "      <td>1</td>\n",
       "      <td>0</td>\n",
       "    </tr>\n",
       "    <tr>\n",
       "      <th>4</th>\n",
       "      <td>0</td>\n",
       "      <td>138</td>\n",
       "      <td>13.0</td>\n",
       "      <td>16</td>\n",
       "      <td>0</td>\n",
       "      <td>3</td>\n",
       "      <td>2</td>\n",
       "      <td>0</td>\n",
       "      <td>0.0</td>\n",
       "      <td>1</td>\n",
       "      <td>...</td>\n",
       "      <td>0</td>\n",
       "      <td>1</td>\n",
       "      <td>0</td>\n",
       "      <td>0</td>\n",
       "      <td>0</td>\n",
       "      <td>0</td>\n",
       "      <td>1</td>\n",
       "      <td>0</td>\n",
       "      <td>1</td>\n",
       "      <td>0</td>\n",
       "    </tr>\n",
       "  </tbody>\n",
       "</table>\n",
       "<p>5 rows × 44 columns</p>\n",
       "</div>"
      ],
      "text/plain": [
       "   is_canceled  lead_time  arrival_date_week_number  \\\n",
       "0            0         26                      12.0   \n",
       "1            1         95                      44.0   \n",
       "2            0          0                      16.0   \n",
       "3            0          0                      21.0   \n",
       "4            0        138                      13.0   \n",
       "\n",
       "   arrival_date_day_of_month  stays_in_weekend_nights  stays_in_week_nights  \\\n",
       "0                         17                        2                     3   \n",
       "1                         28                        2                     5   \n",
       "2                         12                        0                     5   \n",
       "3                         16                        1                     1   \n",
       "4                         16                        0                     3   \n",
       "\n",
       "   adults  children  babies  booking_changes  ...  market_segment_Online TA  \\\n",
       "0       2         0     0.0                0  ...                         1   \n",
       "1       2         0     0.0                0  ...                         1   \n",
       "2       1         0     0.0                0  ...                         0   \n",
       "3       2         0     0.0                1  ...                         1   \n",
       "4       2         0     0.0                1  ...                         0   \n",
       "\n",
       "   deposit_type_No Deposit  deposit_type_Non Refund  deposit_type_Refundable  \\\n",
       "0                        1                        0                        0   \n",
       "1                        1                        0                        0   \n",
       "2                        1                        0                        0   \n",
       "3                        1                        0                        0   \n",
       "4                        1                        0                        0   \n",
       "\n",
       "   distribution_channel_Corporate  distribution_channel_Direct  \\\n",
       "0                               0                            0   \n",
       "1                               0                            0   \n",
       "2                               0                            0   \n",
       "3                               0                            0   \n",
       "4                               0                            0   \n",
       "\n",
       "   distribution_channel_TA/TO  reservation_status_Canceled  \\\n",
       "0                           1                            0   \n",
       "1                           1                            1   \n",
       "2                           1                            0   \n",
       "3                           1                            0   \n",
       "4                           1                            0   \n",
       "\n",
       "   reservation_status_Check-Out  reservation_status_No-Show  \n",
       "0                             1                           0  \n",
       "1                             0                           0  \n",
       "2                             1                           0  \n",
       "3                             1                           0  \n",
       "4                             1                           0  \n",
       "\n",
       "[5 rows x 44 columns]"
      ]
     },
     "execution_count": 25,
     "metadata": {},
     "output_type": "execute_result"
    }
   ],
   "source": [
    "#reading the first five rows in the dataset\n",
    "df_hotel.head()"
   ]
  },
  {
   "cell_type": "code",
   "execution_count": 26,
   "metadata": {},
   "outputs": [
    {
     "name": "stdout",
     "output_type": "stream",
     "text": [
      "<class 'pandas.core.frame.DataFrame'>\n",
      "RangeIndex: 1207 entries, 0 to 1206\n",
      "Data columns (total 44 columns):\n",
      " #   Column                          Non-Null Count  Dtype  \n",
      "---  ------                          --------------  -----  \n",
      " 0   is_canceled                     1207 non-null   int32  \n",
      " 1   lead_time                       1207 non-null   int32  \n",
      " 2   arrival_date_week_number        1207 non-null   float64\n",
      " 3   arrival_date_day_of_month       1207 non-null   int32  \n",
      " 4   stays_in_weekend_nights         1207 non-null   int32  \n",
      " 5   stays_in_week_nights            1207 non-null   int32  \n",
      " 6   adults                          1207 non-null   int32  \n",
      " 7   children                        1207 non-null   int32  \n",
      " 8   babies                          1207 non-null   float64\n",
      " 9   booking_changes                 1207 non-null   int32  \n",
      " 10  days_in_waiting_list            1207 non-null   float64\n",
      " 11  adr                             1207 non-null   float64\n",
      " 12  required_car_parking_spaces     1207 non-null   float64\n",
      " 13  arrival_month_April             1207 non-null   uint8  \n",
      " 14  arrival_month_August            1207 non-null   uint8  \n",
      " 15  arrival_month_December          1207 non-null   uint8  \n",
      " 16  arrival_month_February          1207 non-null   uint8  \n",
      " 17  arrival_month_January           1207 non-null   uint8  \n",
      " 18  arrival_month_July              1207 non-null   uint8  \n",
      " 19  arrival_month_June              1207 non-null   uint8  \n",
      " 20  arrival_month_March             1207 non-null   uint8  \n",
      " 21  arrival_month_May               1207 non-null   uint8  \n",
      " 22  arrival_month_November          1207 non-null   uint8  \n",
      " 23  arrival_month_October           1207 non-null   uint8  \n",
      " 24  arrival_month_September         1207 non-null   uint8  \n",
      " 25  meal_BB                         1207 non-null   uint8  \n",
      " 26  meal_FB                         1207 non-null   uint8  \n",
      " 27  meal_HB                         1207 non-null   uint8  \n",
      " 28  meal_Undefined                  1207 non-null   uint8  \n",
      " 29  market_segment_Complementary    1207 non-null   uint8  \n",
      " 30  market_segment_Corporate        1207 non-null   uint8  \n",
      " 31  market_segment_Direct           1207 non-null   uint8  \n",
      " 32  market_segment_Groups           1207 non-null   uint8  \n",
      " 33  market_segment_Offline TA/TO    1207 non-null   uint8  \n",
      " 34  market_segment_Online TA        1207 non-null   uint8  \n",
      " 35  deposit_type_No Deposit         1207 non-null   uint8  \n",
      " 36  deposit_type_Non Refund         1207 non-null   uint8  \n",
      " 37  deposit_type_Refundable         1207 non-null   uint8  \n",
      " 38  distribution_channel_Corporate  1207 non-null   uint8  \n",
      " 39  distribution_channel_Direct     1207 non-null   uint8  \n",
      " 40  distribution_channel_TA/TO      1207 non-null   uint8  \n",
      " 41  reservation_status_Canceled     1207 non-null   uint8  \n",
      " 42  reservation_status_Check-Out    1207 non-null   uint8  \n",
      " 43  reservation_status_No-Show      1207 non-null   uint8  \n",
      "dtypes: float64(5), int32(8), uint8(31)\n",
      "memory usage: 121.5 KB\n"
     ]
    }
   ],
   "source": [
    "df_hotel.info()"
   ]
  },
  {
   "cell_type": "code",
   "execution_count": 27,
   "metadata": {},
   "outputs": [
    {
     "name": "stdout",
     "output_type": "stream",
     "text": [
      "is_canceled\n",
      "lead_time\n",
      "arrival_date_week_number\n",
      "arrival_date_day_of_month\n",
      "stays_in_weekend_nights\n",
      "stays_in_week_nights\n",
      "adults\n",
      "children\n",
      "babies\n",
      "booking_changes\n",
      "days_in_waiting_list\n",
      "adr\n",
      "required_car_parking_spaces\n",
      "arrival_month_April\n",
      "arrival_month_August\n",
      "arrival_month_December\n",
      "arrival_month_February\n",
      "arrival_month_January\n",
      "arrival_month_July\n",
      "arrival_month_June\n",
      "arrival_month_March\n",
      "arrival_month_May\n",
      "arrival_month_November\n",
      "arrival_month_October\n",
      "arrival_month_September\n",
      "meal_BB\n",
      "meal_FB\n",
      "meal_HB\n",
      "meal_Undefined\n",
      "market_segment_Complementary\n",
      "market_segment_Corporate\n",
      "market_segment_Direct\n",
      "market_segment_Groups\n",
      "market_segment_Offline TA/TO\n",
      "market_segment_Online TA\n",
      "deposit_type_No Deposit\n",
      "deposit_type_Non Refund\n",
      "deposit_type_Refundable\n",
      "distribution_channel_Corporate\n",
      "distribution_channel_Direct\n",
      "distribution_channel_TA/TO\n",
      "reservation_status_Canceled\n",
      "reservation_status_Check-Out\n",
      "reservation_status_No-Show\n"
     ]
    }
   ],
   "source": [
    "#Checking the final list of columns\n",
    "for col in df_hotel.columns: \n",
    "    print(col) "
   ]
  },
  {
   "cell_type": "code",
   "execution_count": 28,
   "metadata": {},
   "outputs": [
    {
     "data": {
      "text/plain": [
       "is_canceled                       0\n",
       "lead_time                         0\n",
       "arrival_date_week_number          0\n",
       "arrival_date_day_of_month         0\n",
       "stays_in_weekend_nights           0\n",
       "stays_in_week_nights              0\n",
       "adults                            0\n",
       "children                          0\n",
       "babies                            0\n",
       "booking_changes                   0\n",
       "days_in_waiting_list              0\n",
       "adr                               0\n",
       "required_car_parking_spaces       0\n",
       "arrival_month_April               0\n",
       "arrival_month_August              0\n",
       "arrival_month_December            0\n",
       "arrival_month_February            0\n",
       "arrival_month_January             0\n",
       "arrival_month_July                0\n",
       "arrival_month_June                0\n",
       "arrival_month_March               0\n",
       "arrival_month_May                 0\n",
       "arrival_month_November            0\n",
       "arrival_month_October             0\n",
       "arrival_month_September           0\n",
       "meal_BB                           0\n",
       "meal_FB                           0\n",
       "meal_HB                           0\n",
       "meal_Undefined                    0\n",
       "market_segment_Complementary      0\n",
       "market_segment_Corporate          0\n",
       "market_segment_Direct             0\n",
       "market_segment_Groups             0\n",
       "market_segment_Offline TA/TO      0\n",
       "market_segment_Online TA          0\n",
       "deposit_type_No Deposit           0\n",
       "deposit_type_Non Refund           0\n",
       "deposit_type_Refundable           0\n",
       "distribution_channel_Corporate    0\n",
       "distribution_channel_Direct       0\n",
       "distribution_channel_TA/TO        0\n",
       "reservation_status_Canceled       0\n",
       "reservation_status_Check-Out      0\n",
       "reservation_status_No-Show        0\n",
       "dtype: int64"
      ]
     },
     "execution_count": 28,
     "metadata": {},
     "output_type": "execute_result"
    }
   ],
   "source": [
    "#checking the number of nulls in each column\n",
    "df_hotel.isna().sum()"
   ]
  },
  {
   "cell_type": "code",
   "execution_count": 29,
   "metadata": {},
   "outputs": [
    {
     "data": {
      "text/plain": [
       "(1207, 44)"
      ]
     },
     "execution_count": 29,
     "metadata": {},
     "output_type": "execute_result"
    }
   ],
   "source": [
    "#Checking the number of rows and columns\n",
    "df_hotel.shape"
   ]
  },
  {
   "cell_type": "markdown",
   "metadata": {},
   "source": [
    "### Train and Test Split\n",
    "The test and train split is done with 0.2"
   ]
  },
  {
   "cell_type": "code",
   "execution_count": 30,
   "metadata": {},
   "outputs": [],
   "source": [
    "#X and y split\n",
    "y = df_hotel['is_canceled'].values\n",
    "X = df_hotel.drop(['is_canceled'], axis = 1).values"
   ]
  },
  {
   "cell_type": "code",
   "execution_count": 31,
   "metadata": {},
   "outputs": [],
   "source": [
    "#test and train split\n",
    "X_train, X_test, y_train, y_test = train_test_split(X, y,random_state=0,test_size=0.2)"
   ]
  },
  {
   "cell_type": "code",
   "execution_count": 32,
   "metadata": {},
   "outputs": [
    {
     "data": {
      "text/plain": [
       "array([[ 26.,  12.,  17., ...,   0.,   1.,   0.],\n",
       "       [ 95.,  44.,  28., ...,   1.,   0.,   0.],\n",
       "       [  0.,  16.,  12., ...,   0.,   1.,   0.],\n",
       "       ...,\n",
       "       [112.,  39.,  19., ...,   0.,   1.,   0.],\n",
       "       [ 32.,  35.,  27., ...,   0.,   1.,   0.],\n",
       "       [106.,  17.,  23., ...,   1.,   0.,   0.]])"
      ]
     },
     "execution_count": 32,
     "metadata": {},
     "output_type": "execute_result"
    }
   ],
   "source": [
    "#checking X values\n",
    "X"
   ]
  },
  {
   "cell_type": "markdown",
   "metadata": {},
   "source": [
    "### Scaling\n",
    "Scaling is done with MinMax scaler which scales the data with respect to the minimum and maximum values, this is better than the standard scaler which will mostly incline towards the mean of the data."
   ]
  },
  {
   "cell_type": "code",
   "execution_count": 33,
   "metadata": {},
   "outputs": [],
   "source": [
    "# Scaling the dataset\n",
    "#through histogram we see that data is not much normally distributed for some of the columns.  \n",
    "#Hence we use Standard Scaler to normalize and scale\n",
    "from sklearn.preprocessing import MinMaxScaler\n",
    "scaler = MinMaxScaler()\n",
    "X_train = scaler.fit_transform(X_train)\n",
    "X_test = scaler.transform(X_test)"
   ]
  },
  {
   "cell_type": "code",
   "execution_count": 34,
   "metadata": {},
   "outputs": [],
   "source": [
    "Classification_Scores={}"
   ]
  },
  {
   "cell_type": "markdown",
   "metadata": {},
   "source": [
    "# 1) Voting Classifier"
   ]
  },
  {
   "cell_type": "markdown",
   "metadata": {},
   "source": [
    "Voting is an ensemble classifier which is a combination from multiple machine learning algorithms.It helps in lowering error\n",
    "and lessen over-fitting"
   ]
  },
  {
   "cell_type": "code",
   "execution_count": 35,
   "metadata": {},
   "outputs": [],
   "source": [
    "from sklearn.ensemble import VotingClassifier\n",
    "from sklearn.linear_model import LogisticRegression\n",
    "from sklearn.svm import SVC\n",
    "from sklearn.tree import DecisionTreeClassifier"
   ]
  },
  {
   "cell_type": "markdown",
   "metadata": {},
   "source": [
    "#####  <b> Hard voting </b>: Case where the class with more votes are selected"
   ]
  },
  {
   "cell_type": "markdown",
   "metadata": {},
   "source": [
    "# a) Voting Classifier - Hard"
   ]
  },
  {
   "cell_type": "markdown",
   "metadata": {},
   "source": [
    "Logistic regression is run with c=1 , penalty set as l2 and liblinear solver is used.\n",
    "\n",
    "SVM poly kernel is run with gamma=0.1, c=1\n",
    "\n",
    "KNN with neighbor = 9 is run\n",
    "\n",
    "These models are used with voting to find a best model with highest votes"
   ]
  },
  {
   "cell_type": "code",
   "execution_count": 36,
   "metadata": {},
   "outputs": [],
   "source": [
    "logistic_clf = LogisticRegression(C=1, penalty= 'l2',solver='liblinear')\n",
    "svc_clf = SVC(kernel = 'poly', gamma = 0.1, C=1, probability=True)\n",
    "knn_clf=KNeighborsClassifier(9)"
   ]
  },
  {
   "cell_type": "markdown",
   "metadata": {},
   "source": [
    "Train data is fit into the different models without voting"
   ]
  },
  {
   "cell_type": "code",
   "execution_count": 37,
   "metadata": {},
   "outputs": [
    {
     "data": {
      "text/plain": [
       "KNeighborsClassifier(algorithm='auto', leaf_size=30, metric='minkowski',\n",
       "                     metric_params=None, n_jobs=None, n_neighbors=9, p=2,\n",
       "                     weights='uniform')"
      ]
     },
     "execution_count": 37,
     "metadata": {},
     "output_type": "execute_result"
    }
   ],
   "source": [
    "logistic_clf.fit(X_train, y_train)\n",
    "svc_clf.fit(X_train, y_train)\n",
    "#decisiontree_clf.fit(X_train, y_train)\n",
    "knn_clf.fit(X_train,y_train)"
   ]
  },
  {
   "cell_type": "markdown",
   "metadata": {},
   "source": [
    "Voting is done with the three models"
   ]
  },
  {
   "cell_type": "code",
   "execution_count": 38,
   "metadata": {},
   "outputs": [],
   "source": [
    "voting = VotingClassifier(estimators=[('lr', logistic_clf), ('svc', svc_clf), ('kn', knn_clf)], voting = 'hard')"
   ]
  },
  {
   "cell_type": "markdown",
   "metadata": {},
   "source": [
    "The scores of the training set of the models are shown:"
   ]
  },
  {
   "cell_type": "code",
   "execution_count": 39,
   "metadata": {},
   "outputs": [
    {
     "name": "stdout",
     "output_type": "stream",
     "text": [
      "log_clf:  0.9461139896373058\n",
      "svc_clf:  0.9471502590673575\n",
      "kn_clf:  0.938860103626943\n"
     ]
    }
   ],
   "source": [
    "print('log_clf: ', logistic_clf.score(X_train, y_train))\n",
    "print('svc_clf: ', svc_clf.score(X_train, y_train))\n",
    "print('kn_clf: ', knn_clf.score(X_train, y_train))"
   ]
  },
  {
   "cell_type": "markdown",
   "metadata": {},
   "source": [
    "The train and test score for the voting classifier is obtained"
   ]
  },
  {
   "cell_type": "code",
   "execution_count": 40,
   "metadata": {},
   "outputs": [
    {
     "name": "stdout",
     "output_type": "stream",
     "text": [
      "vot_clf Train:0.9482\n",
      "vot_clf Test: 0.9380\n"
     ]
    }
   ],
   "source": [
    "voting.fit(X_train, y_train)\n",
    "print('vot_clf Train:{0:.4f}'.format(voting.score(X_train, y_train)))\n",
    "print('vot_clf Test: {0:.4f}'.format(voting.score(X_test, y_test)))"
   ]
  },
  {
   "cell_type": "markdown",
   "metadata": {},
   "source": [
    "Confusion matrix is printed with values of the voting classifier"
   ]
  },
  {
   "cell_type": "code",
   "execution_count": 41,
   "metadata": {},
   "outputs": [
    {
     "name": "stdout",
     "output_type": "stream",
     "text": [
      "0.9380165289256198\n",
      "              precision    recall  f1-score   support\n",
      "\n",
      "           0       0.95      0.95      0.95       151\n",
      "           1       0.92      0.91      0.92        91\n",
      "\n",
      "    accuracy                           0.94       242\n",
      "   macro avg       0.93      0.93      0.93       242\n",
      "weighted avg       0.94      0.94      0.94       242\n",
      "\n"
     ]
    },
    {
     "data": {
      "image/png": "[encoded data removed]",
      "text/plain": [
       "<Figure size 432x288 with 2 Axes>"
      ]
     },
     "metadata": {
      "needs_background": "light"
     },
     "output_type": "display_data"
    }
   ],
   "source": [
    "import sklearn.metrics as metrics\n",
    "from sklearn.metrics import confusion_matrix, classification_report \n",
    "pred_hardvotingclf = voting.predict(X_test)\n",
    "print(metrics.accuracy_score(y_test,pred_hardvotingclf))\n",
    "\n",
    "confusion = confusion_matrix(y_test, pred_hardvotingclf)\n",
    "import seaborn as sns\n",
    "import matplotlib.pyplot as plt     \n",
    "\n",
    "ax= plt.subplot()\n",
    "sns.heatmap(confusion, annot=True,fmt='d', ax = ax); #annot=True to annotate cells\n",
    "\n",
    "# labels, title and ticks\n",
    "ax.set_xlabel('Predicted labels')\n",
    "ax.set_ylabel('True labels')\n",
    "\n",
    "print(classification_report(y_test,pred_hardvotingclf))"
   ]
  },
  {
   "cell_type": "markdown",
   "metadata": {},
   "source": [
    "The F1 score and Recall is obtained"
   ]
  },
  {
   "cell_type": "code",
   "execution_count": 42,
   "metadata": {},
   "outputs": [
    {
     "name": "stdout",
     "output_type": "stream",
     "text": [
      "Recall    : 0.9536423841059603\n",
      "F1Score    : 0.9504950495049505\n"
     ]
    }
   ],
   "source": [
    "from sklearn.metrics import precision_recall_fscore_support as score\n",
    "\n",
    "precision,recall,fscore,support=score(y_test,pred_hardvotingclf)\n",
    "\n",
    "print ('Recall    : {}'.format(recall[0]))\n",
    "print ('F1Score    : {}'.format(fscore[0]))"
   ]
  },
  {
   "cell_type": "code",
   "execution_count": 43,
   "metadata": {},
   "outputs": [],
   "source": [
    "Classification_Scores.update({'Hard voting Classifier':[metrics.accuracy_score(y_test,pred_hardvotingclf),recall[0],fscore[0]]})"
   ]
  },
  {
   "cell_type": "markdown",
   "metadata": {},
   "source": [
    "# b) Voting Classifier - Soft"
   ]
  },
  {
   "cell_type": "markdown",
   "metadata": {},
   "source": [
    "Soft voting is done with probability vector of each class summed and averaged"
   ]
  },
  {
   "cell_type": "code",
   "execution_count": 44,
   "metadata": {},
   "outputs": [],
   "source": [
    "soft_voting = VotingClassifier(estimators=[('lr', logistic_clf), ('svc', svc_clf), ('kn', knn_clf)], voting = 'soft')"
   ]
  },
  {
   "cell_type": "markdown",
   "metadata": {},
   "source": [
    "The train and test of the soft voting classifier is obtained"
   ]
  },
  {
   "cell_type": "code",
   "execution_count": 45,
   "metadata": {},
   "outputs": [
    {
     "name": "stdout",
     "output_type": "stream",
     "text": [
      "vot_clf Train: 0.9451\n",
      "vot_clf Test: 0.9380\n"
     ]
    }
   ],
   "source": [
    "soft_voting.fit(X_train, y_train)\n",
    "print('vot_clf Train: {0:.4f}'.format(soft_voting.score(X_train, y_train)))\n",
    "print('vot_clf Test: {0:.4f}'.format(soft_voting.score(X_test, y_test)))"
   ]
  },
  {
   "cell_type": "markdown",
   "metadata": {},
   "source": [
    "The confusion matrix of the soft voting classifier is printed"
   ]
  },
  {
   "cell_type": "code",
   "execution_count": 46,
   "metadata": {},
   "outputs": [
    {
     "name": "stdout",
     "output_type": "stream",
     "text": [
      "0.9380165289256198\n",
      "              precision    recall  f1-score   support\n",
      "\n",
      "           0       0.95      0.95      0.95       151\n",
      "           1       0.92      0.91      0.92        91\n",
      "\n",
      "    accuracy                           0.94       242\n",
      "   macro avg       0.93      0.93      0.93       242\n",
      "weighted avg       0.94      0.94      0.94       242\n",
      "\n"
     ]
    },
    {
     "data": {
      "image/png": "[encoded data removed]",
      "text/plain": [
       "<Figure size 432x288 with 2 Axes>"
      ]
     },
     "metadata": {
      "needs_background": "light"
     },
     "output_type": "display_data"
    }
   ],
   "source": [
    "import sklearn.metrics as metrics\n",
    "from sklearn.metrics import confusion_matrix, classification_report \n",
    "pred_softvotingclf = soft_voting.predict(X_test)\n",
    "print(metrics.accuracy_score(y_test,pred_softvotingclf))\n",
    "\n",
    "confusion = confusion_matrix(y_test, pred_softvotingclf)\n",
    "import seaborn as sns\n",
    "import matplotlib.pyplot as plt     \n",
    "\n",
    "ax= plt.subplot()\n",
    "sns.heatmap(confusion, annot=True,fmt='d', ax = ax); #annot=True to annotate cells\n",
    "\n",
    "# labels, title and ticks\n",
    "ax.set_xlabel('Predicted labels')\n",
    "ax.set_ylabel('True labels')\n",
    "\n",
    "\n",
    "print(classification_report(y_test,pred_softvotingclf))"
   ]
  },
  {
   "cell_type": "markdown",
   "metadata": {},
   "source": [
    "The F1 score and Recall values are obtained"
   ]
  },
  {
   "cell_type": "code",
   "execution_count": 47,
   "metadata": {},
   "outputs": [
    {
     "name": "stdout",
     "output_type": "stream",
     "text": [
      "Recall    : 0.9536423841059603\n",
      "F1Score    : 0.9504950495049505\n"
     ]
    }
   ],
   "source": [
    "from sklearn.metrics import precision_recall_fscore_support as score\n",
    "\n",
    "precision,recall,fscore,support=score(y_test,pred_softvotingclf)\n",
    "\n",
    "print ('Recall    : {}'.format(recall[0]))\n",
    "print ('F1Score    : {}'.format(fscore[0]))"
   ]
  },
  {
   "cell_type": "code",
   "execution_count": 48,
   "metadata": {},
   "outputs": [],
   "source": [
    "Classification_Scores.update({'Soft voting calssifier':[metrics.accuracy_score(y_test,pred_softvotingclf),recall[0],fscore[0]]})"
   ]
  },
  {
   "cell_type": "markdown",
   "metadata": {},
   "source": [
    "# 2)Bagging"
   ]
  },
  {
   "cell_type": "markdown",
   "metadata": {},
   "source": [
    "Bagging is an aggregation ensemble meta-algorithm designed to improve the stability and accuracy of algorithms. \n",
    "\n",
    "It helps to reduce overfitting. One main parameter passed is the bootstrap parameter.It uses sampling with replacement.\n",
    "\n",
    "N_estimators and max_samples are parameters that control the number of decision trees and sample size used.\n"
   ]
  },
  {
   "cell_type": "markdown",
   "metadata": {},
   "source": [
    "The bagging is done with KNN and decision Tree"
   ]
  },
  {
   "cell_type": "markdown",
   "metadata": {},
   "source": [
    "## Bagging-Decision tree"
   ]
  },
  {
   "cell_type": "markdown",
   "metadata": {},
   "source": [
    "Bagging is run with decision tree with n_estimator=500 , max_features=0.5"
   ]
  },
  {
   "cell_type": "code",
   "execution_count": 49,
   "metadata": {},
   "outputs": [
    {
     "name": "stdout",
     "output_type": "stream",
     "text": [
      "Accuracy on training set: 0.977\n",
      "Accuracy on test set: 0.942\n"
     ]
    }
   ],
   "source": [
    "from sklearn.ensemble import BaggingClassifier\n",
    "\n",
    "from sklearn.tree import DecisionTreeClassifier\n",
    "from sklearn.ensemble import BaggingClassifier\n",
    "bag_clf = BaggingClassifier(DecisionTreeClassifier(),bootstrap=True,n_jobs=-1,random_state=0,max_features=0.5,n_estimators=500,max_samples=0.6)\n",
    "\n",
    "bag_clf.fit(X_train, y_train)\n",
    "print(\"Accuracy on training set: {:.3f}\".format(bag_clf.score(X_train, y_train)))\n",
    "print(\"Accuracy on test set: {:.3f}\".format(bag_clf.score(X_test, y_test)))"
   ]
  },
  {
   "cell_type": "markdown",
   "metadata": {},
   "source": [
    "Cross validation score for the bagging classifier"
   ]
  },
  {
   "cell_type": "code",
   "execution_count": 50,
   "metadata": {},
   "outputs": [
    {
     "name": "stdout",
     "output_type": "stream",
     "text": [
      "Cross-validation scores: [0.93814433 0.95876289 0.88659794 0.96907216 0.96907216 0.91666667\n",
      " 0.94791667 0.88541667 0.97916667 0.94791667]\n",
      "Average cross-validation score: 0.94\n"
     ]
    }
   ],
   "source": [
    "scores = cross_val_score(bag_clf, X_train, y_train, cv = 10, scoring = 'accuracy' )\n",
    "print(\"Cross-validation scores: {}\".format(scores))\n",
    "\n",
    "print(\"Average cross-validation score: {:.2f}\".format(scores.mean()))"
   ]
  },
  {
   "cell_type": "markdown",
   "metadata": {},
   "source": [
    "Grid Search is done with max_samples, max_features and n_estimators to find the best parameters"
   ]
  },
  {
   "cell_type": "code",
   "execution_count": 51,
   "metadata": {},
   "outputs": [
    {
     "name": "stdout",
     "output_type": "stream",
     "text": [
      "Best parameters: {'max_features': 0.5, 'max_samples': 0.6, 'n_estimators': 500}\n",
      "Best cross-validation score: 0.94\n"
     ]
    }
   ],
   "source": [
    "param_grid = {'max_samples': [0.5,0.6,0.8],\n",
    "             'max_features': [0.4,0.5,0.6],\n",
    "             'n_estimators': [100,300,500]}\n",
    "\n",
    "grid_search_bagclf = GridSearchCV(BaggingClassifier(random_state=0,bootstrap=True,n_jobs=-1), param_grid, cv=5, return_train_score=True)\n",
    "\n",
    "grid_search_bagclf.fit(X_train, y_train)\n",
    "\n",
    "print(\"Best parameters: {}\".format(grid_search_bagclf.best_params_))\n",
    "print(\"Best cross-validation score: {:.2f}\".format(grid_search_bagclf.best_score_))"
   ]
  },
  {
   "cell_type": "markdown",
   "metadata": {},
   "source": [
    "Confusion matrix is printed for the above classifier"
   ]
  },
  {
   "cell_type": "code",
   "execution_count": 52,
   "metadata": {},
   "outputs": [
    {
     "name": "stdout",
     "output_type": "stream",
     "text": [
      "0.9421487603305785\n",
      "              precision    recall  f1-score   support\n",
      "\n",
      "           0       0.95      0.95      0.95       151\n",
      "           1       0.92      0.92      0.92        91\n",
      "\n",
      "    accuracy                           0.94       242\n",
      "   macro avg       0.94      0.94      0.94       242\n",
      "weighted avg       0.94      0.94      0.94       242\n",
      "\n"
     ]
    },
    {
     "data": {
      "image/png": "[encoded data removed]",
      "text/plain": [
       "<Figure size 432x288 with 2 Axes>"
      ]
     },
     "metadata": {
      "needs_background": "light"
     },
     "output_type": "display_data"
    }
   ],
   "source": [
    "import sklearn.metrics as metrics\n",
    "from sklearn.metrics import confusion_matrix, classification_report \n",
    "pred_bagclf = grid_search_bagclf.predict(X_test)\n",
    "print(metrics.accuracy_score(y_test,pred_bagclf))\n",
    "\n",
    "confusion = confusion_matrix(y_test, pred_bagclf)\n",
    "import seaborn as sns\n",
    "import matplotlib.pyplot as plt     \n",
    "\n",
    "ax= plt.subplot()\n",
    "sns.heatmap(confusion, annot=True,fmt='d', ax = ax); #annot=True to annotate cells\n",
    "\n",
    "# labels, title and ticks\n",
    "ax.set_xlabel('Predicted labels')\n",
    "ax.set_ylabel('True labels')\n",
    "\n",
    "\n",
    "print(classification_report(y_test,pred_bagclf))"
   ]
  },
  {
   "cell_type": "markdown",
   "metadata": {},
   "source": [
    "The Recall and F1 score for the decision tree with bagging is obtained"
   ]
  },
  {
   "cell_type": "code",
   "execution_count": 53,
   "metadata": {},
   "outputs": [
    {
     "name": "stdout",
     "output_type": "stream",
     "text": [
      "Recall    : 0.9536423841059603\n",
      "F1Score    : 0.9536423841059603\n"
     ]
    }
   ],
   "source": [
    "from sklearn.metrics import precision_recall_fscore_support as score\n",
    "\n",
    "precision,recall,fscore,support=score(y_test,pred_bagclf)\n",
    "\n",
    "print ('Recall    : {}'.format(recall[0]))\n",
    "print ('F1Score    : {}'.format(fscore[0]))"
   ]
  },
  {
   "cell_type": "code",
   "execution_count": 54,
   "metadata": {},
   "outputs": [],
   "source": [
    "Classification_Scores.update({'Bagging-Decision Tree Classifier':[metrics.accuracy_score(y_test,pred_bagclf),recall[0],fscore[0]]})"
   ]
  },
  {
   "cell_type": "markdown",
   "metadata": {},
   "source": [
    "### Bagging - KNN "
   ]
  },
  {
   "cell_type": "markdown",
   "metadata": {},
   "source": [
    "The KNN model is run with neighbors = 4 with bagging"
   ]
  },
  {
   "cell_type": "code",
   "execution_count": 55,
   "metadata": {},
   "outputs": [
    {
     "name": "stdout",
     "output_type": "stream",
     "text": [
      "Accuracy on training set: 0.945\n",
      "Accuracy on test set: 0.938\n"
     ]
    }
   ],
   "source": [
    "from sklearn.ensemble import BaggingClassifier\n",
    "\n",
    "bagknn_clf = BaggingClassifier(KNeighborsClassifier(n_neighbors=4), bootstrap=True, n_jobs=-1, random_state=0)\n",
    "\n",
    "bagknn_clf.fit(X_train, y_train)\n",
    "print(\"Accuracy on training set: {:.3f}\".format(bagknn_clf.score(X_train, y_train)))\n",
    "print(\"Accuracy on test set: {:.3f}\".format(bagknn_clf.score(X_test, y_test)))"
   ]
  },
  {
   "cell_type": "markdown",
   "metadata": {},
   "source": [
    "The cross validation score is calculated with cv=5"
   ]
  },
  {
   "cell_type": "code",
   "execution_count": 56,
   "metadata": {},
   "outputs": [
    {
     "name": "stdout",
     "output_type": "stream",
     "text": [
      "Cross-validation scores: [0.93264249 0.89119171 0.94818653 0.9119171  0.94818653]\n",
      "Average cross-validation score: 0.93\n"
     ]
    }
   ],
   "source": [
    "scores = cross_val_score(bagknn_clf, X_train, y_train, cv = 5, scoring = 'accuracy' )\n",
    "print(\"Cross-validation scores: {}\".format(scores))\n",
    "\n",
    "print(\"Average cross-validation score: {:.2f}\".format(scores.mean()))"
   ]
  },
  {
   "cell_type": "markdown",
   "metadata": {},
   "source": [
    "Grid search is used to find the best parameters for max_sample, max_features and n_estimators "
   ]
  },
  {
   "cell_type": "code",
   "execution_count": 57,
   "metadata": {},
   "outputs": [
    {
     "name": "stdout",
     "output_type": "stream",
     "text": [
      "Best parameters: {'max_features': 0.5, 'max_samples': 0.6, 'n_estimators': 500}\n",
      "Best cross-validation score: 0.94\n"
     ]
    }
   ],
   "source": [
    "param_grid = {'max_samples': [0.5,0.6],\n",
    "             'max_features': [0.4,0.5],\n",
    "             'n_estimators': [100,500]}\n",
    "\n",
    "grid_search_bagclfknn = GridSearchCV(BaggingClassifier(KNeighborsClassifier(n_neighbors=4),random_state=0,bootstrap=True,n_jobs=-1), param_grid, cv=5, return_train_score=True)\n",
    "\n",
    "grid_search_bagclfknn.fit(X_train, y_train)\n",
    "\n",
    "print(\"Best parameters: {}\".format(grid_search_bagclf.best_params_))\n",
    "print(\"Best cross-validation score: {:.2f}\".format(grid_search_bagclf.best_score_))"
   ]
  },
  {
   "cell_type": "markdown",
   "metadata": {},
   "source": [
    "Confusion matrix is printed "
   ]
  },
  {
   "cell_type": "code",
   "execution_count": 58,
   "metadata": {},
   "outputs": [
    {
     "name": "stdout",
     "output_type": "stream",
     "text": [
      "0.9380165289256198\n",
      "              precision    recall  f1-score   support\n",
      "\n",
      "           0       0.95      0.95      0.95       151\n",
      "           1       0.92      0.91      0.92        91\n",
      "\n",
      "    accuracy                           0.94       242\n",
      "   macro avg       0.93      0.93      0.93       242\n",
      "weighted avg       0.94      0.94      0.94       242\n",
      "\n"
     ]
    },
    {
     "data": {
      "image/png": "[encoded data removed]",
      "text/plain": [
       "<Figure size 432x288 with 2 Axes>"
      ]
     },
     "metadata": {
      "needs_background": "light"
     },
     "output_type": "display_data"
    }
   ],
   "source": [
    "\n",
    "import sklearn.metrics as metrics\n",
    "from sklearn.metrics import confusion_matrix, classification_report \n",
    "pred_bagknn_clf = grid_search_bagclfknn.predict(X_test)\n",
    "print(metrics.accuracy_score(y_test,pred_bagknn_clf))\n",
    "\n",
    "confusion = confusion_matrix(y_test, pred_bagknn_clf)\n",
    "import seaborn as sns\n",
    "import matplotlib.pyplot as plt     \n",
    "\n",
    "ax= plt.subplot()\n",
    "sns.heatmap(confusion, annot=True,fmt='d', ax = ax); #annot=True to annotate cells\n",
    "\n",
    "# labels, title and ticks\n",
    "ax.set_xlabel('Predicted labels')\n",
    "ax.set_ylabel('True labels')\n",
    "#ax.xaxis.set_ticklabels(['Attrition', 'No-Attrition'])\n",
    "#ax.yaxis.set_ticklabels(['Attrition', 'No-Attrition'])\n",
    "\n",
    "print(classification_report(y_test,pred_bagknn_clf))"
   ]
  },
  {
   "cell_type": "markdown",
   "metadata": {},
   "source": [
    "The Recall and F1 score is calculated "
   ]
  },
  {
   "cell_type": "code",
   "execution_count": 59,
   "metadata": {},
   "outputs": [
    {
     "name": "stdout",
     "output_type": "stream",
     "text": [
      "Recall    : 0.9536423841059603\n",
      "F1Score    : 0.9504950495049505\n"
     ]
    }
   ],
   "source": [
    "from sklearn.metrics import precision_recall_fscore_support as score\n",
    "\n",
    "precision,recall,fscore,support=score(y_test,pred_bagknn_clf)\n",
    "\n",
    "print ('Recall    : {}'.format(recall[0]))\n",
    "print ('F1Score    : {}'.format(fscore[0]))"
   ]
  },
  {
   "cell_type": "code",
   "execution_count": 60,
   "metadata": {},
   "outputs": [],
   "source": [
    "Classification_Scores.update({'Bagging-KNN Classifier':[metrics.accuracy_score(y_test,pred_bagknn_clf),recall[0],fscore[0]]})"
   ]
  },
  {
   "cell_type": "markdown",
   "metadata": {},
   "source": [
    "# 3)Pasting "
   ]
  },
  {
   "cell_type": "markdown",
   "metadata": {},
   "source": [
    "Pasting is an aggregation ensemble meta-algorithm designed to improve the stability and accuracy of algorithms. It helps to reduce overfitting. One main parameter passed is the bootstrap parameter which is set to false.It uses sampling without replacement.\n",
    "\n",
    "N_estimators and max_samples are parameters that control the number of decision trees and sample size used."
   ]
  },
  {
   "cell_type": "markdown",
   "metadata": {},
   "source": [
    "Pasting is done on Decision Tree and KNN models"
   ]
  },
  {
   "cell_type": "markdown",
   "metadata": {},
   "source": [
    "### Pasting - Decision Tree"
   ]
  },
  {
   "cell_type": "markdown",
   "metadata": {},
   "source": [
    "Decision tree is run with bootstrap=false for pasting"
   ]
  },
  {
   "cell_type": "code",
   "execution_count": 61,
   "metadata": {},
   "outputs": [
    {
     "name": "stdout",
     "output_type": "stream",
     "text": [
      "Accuracy on training set: 0.945\n",
      "Accuracy on test set: 0.938\n"
     ]
    }
   ],
   "source": [
    "from sklearn.ensemble import BaggingClassifier\n",
    "\n",
    "pasteknn_clf = BaggingClassifier(DecisionTreeClassifier(random_state = 0, max_depth= 2), bootstrap=False, n_jobs=-1, random_state=0,n_estimators=150,max_samples=100)\n",
    "\n",
    "pasteknn_clf.fit(X_train, y_train)\n",
    "print(\"Accuracy on training set: {:.3f}\".format(bagknn_clf.score(X_train, y_train)))\n",
    "print(\"Accuracy on test set: {:.3f}\".format(bagknn_clf.score(X_test, y_test)))"
   ]
  },
  {
   "cell_type": "markdown",
   "metadata": {},
   "source": [
    "Cross validation is done on the model with cv=10"
   ]
  },
  {
   "cell_type": "code",
   "execution_count": 62,
   "metadata": {},
   "outputs": [
    {
     "name": "stdout",
     "output_type": "stream",
     "text": [
      "Cross-validation scores: [0.91752577 0.95876289 0.87628866 0.89690722 0.97938144 0.91666667\n",
      " 0.91666667 0.88541667 0.95833333 0.9375    ]\n",
      "Average cross-validation score: 0.92\n"
     ]
    }
   ],
   "source": [
    "scores = cross_val_score(bagknn_clf, X_train, y_train, cv = 10, scoring = 'accuracy' )\n",
    "print(\"Cross-validation scores: {}\".format(scores))\n",
    "\n",
    "print(\"Average cross-validation score: {:.2f}\".format(scores.mean()))"
   ]
  },
  {
   "cell_type": "markdown",
   "metadata": {},
   "source": [
    "The gridsearch is used to find best parameters for max_samples, max_features and n_estimators for the decision tree "
   ]
  },
  {
   "cell_type": "code",
   "execution_count": 63,
   "metadata": {},
   "outputs": [
    {
     "name": "stdout",
     "output_type": "stream",
     "text": [
      "Best parameters: {'max_features': 0.4, 'max_samples': 0.5, 'n_estimators': 500}\n",
      "Best cross-validation score: 0.95\n"
     ]
    }
   ],
   "source": [
    "param_grid = {'max_samples': [0.5,0.6],\n",
    "             'max_features': [0.4,0.5],\n",
    "             'n_estimators': [100,500]}\n",
    "\n",
    "grid_search_pasteknnclf = GridSearchCV(BaggingClassifier(DecisionTreeClassifier(max_depth= 2),random_state=0,bootstrap=False,n_jobs=-1), param_grid, cv=5, return_train_score=True)\n",
    "\n",
    "grid_search_pasteknnclf.fit(X_train, y_train)\n",
    "\n",
    "print(\"Best parameters: {}\".format(grid_search_pasteknnclf.best_params_))\n",
    "print(\"Best cross-validation score: {:.2f}\".format(grid_search_pasteknnclf.best_score_))"
   ]
  },
  {
   "cell_type": "markdown",
   "metadata": {},
   "source": [
    "Confusion matrix is printed with the model outcome"
   ]
  },
  {
   "cell_type": "code",
   "execution_count": 64,
   "metadata": {},
   "outputs": [
    {
     "name": "stdout",
     "output_type": "stream",
     "text": [
      "0.9380165289256198\n",
      "              precision    recall  f1-score   support\n",
      "\n",
      "           0       0.95      0.95      0.95       151\n",
      "           1       0.92      0.91      0.92        91\n",
      "\n",
      "    accuracy                           0.94       242\n",
      "   macro avg       0.93      0.93      0.93       242\n",
      "weighted avg       0.94      0.94      0.94       242\n",
      "\n"
     ]
    },
    {
     "data": {
      "image/png": "[encoded data removed]",
      "text/plain": [
       "<Figure size 432x288 with 2 Axes>"
      ]
     },
     "metadata": {
      "needs_background": "light"
     },
     "output_type": "display_data"
    }
   ],
   "source": [
    "import sklearn.metrics as metrics\n",
    "from sklearn.metrics import confusion_matrix, classification_report \n",
    "pred_pasteclf = pasteknn_clf.predict(X_test)\n",
    "print(metrics.accuracy_score(y_test,pred_pasteclf))\n",
    "\n",
    "confusion = confusion_matrix(y_test, pred_pasteclf)\n",
    "import seaborn as sns\n",
    "import matplotlib.pyplot as plt     \n",
    "\n",
    "ax= plt.subplot()\n",
    "sns.heatmap(confusion, annot=True, fmt='d',ax = ax); #annot=True to annotate cells\n",
    "\n",
    "# labels\n",
    "ax.set_xlabel('Predicted labels')\n",
    "ax.set_ylabel('True labels')\n",
    "print(classification_report(y_test,pred_pasteclf))"
   ]
  },
  {
   "cell_type": "markdown",
   "metadata": {},
   "source": [
    "The recall and F1 score of the model is printed"
   ]
  },
  {
   "cell_type": "code",
   "execution_count": 65,
   "metadata": {},
   "outputs": [
    {
     "name": "stdout",
     "output_type": "stream",
     "text": [
      "Recall    : 0.9536423841059603\n",
      "F1Score    : 0.9504950495049505\n"
     ]
    }
   ],
   "source": [
    "from sklearn.metrics import precision_recall_fscore_support as score\n",
    "\n",
    "precision,recall,fscore,support=score(y_test,pred_pasteclf)\n",
    "\n",
    "print ('Recall    : {}'.format(recall[0]))\n",
    "print ('F1Score    : {}'.format(fscore[0]))"
   ]
  },
  {
   "cell_type": "code",
   "execution_count": 66,
   "metadata": {},
   "outputs": [],
   "source": [
    "Classification_Scores.update({'Pasting-Decision Tree':[metrics.accuracy_score(y_test,pred_pasteclf),recall[0],fscore[0]]})"
   ]
  },
  {
   "cell_type": "markdown",
   "metadata": {},
   "source": [
    "### Pasting - KNN"
   ]
  },
  {
   "cell_type": "markdown",
   "metadata": {},
   "source": [
    "KNN classfier with Pasting is modelled with bootstrap=false"
   ]
  },
  {
   "cell_type": "code",
   "execution_count": 67,
   "metadata": {},
   "outputs": [
    {
     "name": "stdout",
     "output_type": "stream",
     "text": [
      "Accuracy on training set: 0.945\n",
      "Accuracy on test set: 0.938\n"
     ]
    }
   ],
   "source": [
    "from sklearn.ensemble import BaggingClassifier\n",
    "\n",
    "pasteknn_clf = BaggingClassifier(KNeighborsClassifier(n_neighbors=4), bootstrap=False, n_jobs=-1, random_state=0)\n",
    "\n",
    "pasteknn_clf.fit(X_train, y_train)\n",
    "print(\"Accuracy on training set: {:.3f}\".format(bagknn_clf.score(X_train, y_train)))\n",
    "print(\"Accuracy on test set: {:.3f}\".format(bagknn_clf.score(X_test, y_test)))"
   ]
  },
  {
   "cell_type": "markdown",
   "metadata": {},
   "source": [
    "Cross validation score is printed for the model"
   ]
  },
  {
   "cell_type": "code",
   "execution_count": 68,
   "metadata": {},
   "outputs": [
    {
     "name": "stdout",
     "output_type": "stream",
     "text": [
      "Cross-validation scores: [0.93264249 0.89119171 0.94818653 0.9119171  0.94818653]\n",
      "Average cross-validation score: 0.93\n"
     ]
    }
   ],
   "source": [
    "scores = cross_val_score(bagknn_clf, X_train, y_train, cv = 5, scoring = 'accuracy' )\n",
    "print(\"Cross-validation scores: {}\".format(scores))\n",
    "\n",
    "print(\"Average cross-validation score: {:.2f}\".format(scores.mean()))"
   ]
  },
  {
   "cell_type": "markdown",
   "metadata": {},
   "source": [
    "Gridsearch is used to find the best parameters for max_samples, max_features and n_estimators are found"
   ]
  },
  {
   "cell_type": "code",
   "execution_count": 69,
   "metadata": {},
   "outputs": [
    {
     "name": "stdout",
     "output_type": "stream",
     "text": [
      "Best parameters: {'max_features': 0.4, 'max_samples': 0.5, 'n_estimators': 500}\n",
      "Best cross-validation score: 0.94\n"
     ]
    }
   ],
   "source": [
    "param_grid = {'max_samples': [0.5,0.6],\n",
    "             'max_features': [0.4,0.5],\n",
    "             'n_estimators': [100,500]}\n",
    "\n",
    "grid_search_pasteknnclf = GridSearchCV(BaggingClassifier(KNeighborsClassifier(),random_state=0,bootstrap=False,n_jobs=-1), param_grid, cv=5, return_train_score=True)\n",
    "\n",
    "grid_search_pasteknnclf.fit(X_train, y_train)\n",
    "\n",
    "print(\"Best parameters: {}\".format(grid_search_pasteknnclf.best_params_))\n",
    "print(\"Best cross-validation score: {:.2f}\".format(grid_search_pasteknnclf.best_score_))"
   ]
  },
  {
   "cell_type": "markdown",
   "metadata": {},
   "source": [
    "Confusion matrix is printed for the model"
   ]
  },
  {
   "cell_type": "code",
   "execution_count": 70,
   "metadata": {},
   "outputs": [
    {
     "name": "stdout",
     "output_type": "stream",
     "text": [
      "0.9380165289256198\n",
      "              precision    recall  f1-score   support\n",
      "\n",
      "           0       0.95      0.95      0.95       151\n",
      "           1       0.91      0.92      0.92        91\n",
      "\n",
      "    accuracy                           0.94       242\n",
      "   macro avg       0.93      0.94      0.93       242\n",
      "weighted avg       0.94      0.94      0.94       242\n",
      "\n"
     ]
    },
    {
     "data": {
      "image/png": "[encoded data removed]",
      "text/plain": [
       "<Figure size 432x288 with 2 Axes>"
      ]
     },
     "metadata": {
      "needs_background": "light"
     },
     "output_type": "display_data"
    }
   ],
   "source": [
    "import sklearn.metrics as metrics\n",
    "from sklearn.metrics import confusion_matrix, classification_report \n",
    "pred_pasteclf = pasteknn_clf.predict(X_test)\n",
    "print(metrics.accuracy_score(y_test,pred_pasteclf))\n",
    "\n",
    "confusion = confusion_matrix(y_test, pred_pasteclf)\n",
    "import seaborn as sns\n",
    "import matplotlib.pyplot as plt     \n",
    "\n",
    "ax= plt.subplot()\n",
    "sns.heatmap(confusion, annot=True,fmt='d', ax = ax); #annot=True to annotate cells\n",
    "\n",
    "# labels, title and ticks\n",
    "ax.set_xlabel('Predicted labels')\n",
    "ax.set_ylabel('True labels')\n",
    "\n",
    "print(classification_report(y_test,pred_pasteclf))"
   ]
  },
  {
   "cell_type": "markdown",
   "metadata": {},
   "source": [
    "Recall and F1 score are printed"
   ]
  },
  {
   "cell_type": "code",
   "execution_count": 71,
   "metadata": {},
   "outputs": [
    {
     "name": "stdout",
     "output_type": "stream",
     "text": [
      "Recall    : 0.9470198675496688\n",
      "F1Score    : 0.9501661129568105\n"
     ]
    }
   ],
   "source": [
    "from sklearn.metrics import precision_recall_fscore_support as score\n",
    "\n",
    "precision,recall,fscore,support=score(y_test,pred_pasteclf)\n",
    "\n",
    "print ('Recall    : {}'.format(recall[0]))\n",
    "print ('F1Score    : {}'.format(fscore[0]))"
   ]
  },
  {
   "cell_type": "code",
   "execution_count": 72,
   "metadata": {},
   "outputs": [],
   "source": [
    "Classification_Scores.update({'Pasting-KNN Classifier':[metrics.accuracy_score(y_test,pred_pasteclf),recall[0],fscore[0]]})"
   ]
  },
  {
   "cell_type": "markdown",
   "metadata": {},
   "source": [
    "## AdaBoosting"
   ]
  },
  {
   "cell_type": "markdown",
   "metadata": {},
   "source": [
    "Adaboost turns multiple weak classifiers into a strong classifier. The important parameters used are n_estimators and learning_rate.\n",
    "\n",
    "Learning rate shrinks the contribution of each classifier by learning_rate chosen."
   ]
  },
  {
   "cell_type": "markdown",
   "metadata": {},
   "source": [
    "### Adaboost with Decision tree"
   ]
  },
  {
   "cell_type": "markdown",
   "metadata": {},
   "source": [
    "The best parameter in learning_rate and n_estimators are identified "
   ]
  },
  {
   "cell_type": "code",
   "execution_count": 73,
   "metadata": {},
   "outputs": [
    {
     "name": "stdout",
     "output_type": "stream",
     "text": [
      "{'learning_rate': 0.01, 'max_depth': 5, 'n_estimators': 50}\n"
     ]
    }
   ],
   "source": [
    "from sklearn.ensemble import AdaBoostClassifier\n",
    "train_score_array = []\n",
    "test_score_array = []\n",
    "best_score=0\n",
    "\n",
    "\n",
    "for n in range(1,10):\n",
    "    for learning_rate in [0.001,0.01]:\n",
    "        for n_estimators in [50,100]:\n",
    "            dtree_reg=DecisionTreeClassifier(max_depth=n)\n",
    "            ada_reg_dtree = AdaBoostClassifier(dtree_reg, n_estimators=n_estimators,learning_rate=learning_rate,random_state=0)\n",
    "            ada_reg_dtree.fit(X_train, y_train)\n",
    "            train_score_array.append(ada_reg_dtree.score(X_train, y_train))\n",
    "            test_score_array.append(ada_reg_dtree.score(X_test, y_test))\n",
    "            score=ada_reg_dtree.score(X_test, y_test)\n",
    "            if(score>best_score):\n",
    "                best_score=score\n",
    "                best_parameters = {'learning_rate': learning_rate, 'max_depth': n,'n_estimators':n_estimators}\n",
    "\n",
    "print(best_parameters)"
   ]
  },
  {
   "cell_type": "markdown",
   "metadata": {},
   "source": [
    "The train and test score for the decision tree model with max_depth =5 and n_estimator=50, learning_rate=0.01"
   ]
  },
  {
   "cell_type": "code",
   "execution_count": 74,
   "metadata": {},
   "outputs": [
    {
     "name": "stdout",
     "output_type": "stream",
     "text": [
      "Train score: 98.5492 %\n",
      "Test score: 94.6281 %\n"
     ]
    }
   ],
   "source": [
    "from sklearn.ensemble import AdaBoostClassifier\n",
    "\n",
    "dt_reg = DecisionTreeClassifier(max_depth=5,random_state=0)\n",
    "ada_reg_dt = AdaBoostClassifier(dt_reg, n_estimators=50,learning_rate=0.01,random_state=0)\n",
    "\n",
    "ada_reg_dt.fit(X_train,y_train)\n",
    "\n",
    "y_pred=ada_reg_dt.predict(X_test)\n",
    "\n",
    "print('Train score: {:.4f} %'.format(ada_reg_dt.score(X_train, y_train)*100))\n",
    "print('Test score: {:.4f} %'.format(ada_reg_dt.score(X_test, y_test)*100))"
   ]
  },
  {
   "cell_type": "markdown",
   "metadata": {},
   "source": [
    "Confusion matrix is printed"
   ]
  },
  {
   "cell_type": "code",
   "execution_count": 75,
   "metadata": {},
   "outputs": [
    {
     "name": "stdout",
     "output_type": "stream",
     "text": [
      "0.9462809917355371\n",
      "              precision    recall  f1-score   support\n",
      "\n",
      "           0       0.97      0.95      0.96       151\n",
      "           1       0.91      0.95      0.93        91\n",
      "\n",
      "    accuracy                           0.95       242\n",
      "   macro avg       0.94      0.95      0.94       242\n",
      "weighted avg       0.95      0.95      0.95       242\n",
      "\n"
     ]
    },
    {
     "data": {
      "image/png": "[encoded data removed]",
      "text/plain": [
       "<Figure size 432x288 with 2 Axes>"
      ]
     },
     "metadata": {
      "needs_background": "light"
     },
     "output_type": "display_data"
    }
   ],
   "source": [
    "pred_ada = ada_reg_dt.predict(X_test)\n",
    "print(metrics.accuracy_score(y_test,pred_ada))\n",
    "\n",
    "confusion = confusion_matrix(y_test, pred_ada)\n",
    "import seaborn as sns\n",
    "import matplotlib.pyplot as plt     \n",
    "\n",
    "ax= plt.subplot()\n",
    "sns.heatmap(confusion, annot=True,fmt='d', ax = ax); #annot=True to annotate cells\n",
    "\n",
    "# labels, title and ticks\n",
    "ax.set_xlabel('Predicted labels')\n",
    "ax.set_ylabel('True labels')\n",
    "\n",
    "print(classification_report(y_test,pred_ada))"
   ]
  },
  {
   "cell_type": "markdown",
   "metadata": {},
   "source": [
    "Recall and F1 score is calculated"
   ]
  },
  {
   "cell_type": "code",
   "execution_count": 76,
   "metadata": {},
   "outputs": [
    {
     "name": "stdout",
     "output_type": "stream",
     "text": [
      "Recall    : 0.9470198675496688\n",
      "F1Score    : 0.9565217391304347\n"
     ]
    }
   ],
   "source": [
    "from sklearn.metrics import precision_recall_fscore_support as score\n",
    "\n",
    "precision,recall,fscore,support=score(y_test,pred_ada)\n",
    "\n",
    "print ('Recall    : {}'.format(recall[0]))\n",
    "print ('F1Score    : {}'.format(fscore[0]))"
   ]
  },
  {
   "cell_type": "code",
   "execution_count": 77,
   "metadata": {},
   "outputs": [],
   "source": [
    "Classification_Scores.update({'Adaboosting-Decision Tree':[metrics.accuracy_score(y_test,pred_ada),recall[0],fscore[0]]})"
   ]
  },
  {
   "cell_type": "markdown",
   "metadata": {},
   "source": [
    "### Adaboost with SVC Poly"
   ]
  },
  {
   "cell_type": "markdown",
   "metadata": {},
   "source": [
    "Kernel =poly, n_estimators=200 and learning_rate=0.1 are used for SVC poly model with adaboost"
   ]
  },
  {
   "cell_type": "code",
   "execution_count": 78,
   "metadata": {},
   "outputs": [
    {
     "name": "stdout",
     "output_type": "stream",
     "text": [
      "Train score: 93.8860 %\n",
      "Test score: 90.9091 %\n"
     ]
    }
   ],
   "source": [
    "from sklearn.svm import SVC\n",
    "svc_clf=SVC(C=1,gamma=0.1, kernel='poly',probability=True)\n",
    "ada_clf_svc = AdaBoostClassifier(svc_clf, n_estimators=200,learning_rate=0.1,random_state=0)\n",
    "ada_clf_svc.fit(X_train, y_train)\n",
    "\n",
    "y_pred=ada_clf_svc.predict(X_test)\n",
    "print('Train score: {:.4f} %'.format(ada_clf_svc.score(X_train, y_train)*100))\n",
    "print('Test score: {:.4f} %'.format(ada_clf_svc.score(X_test, y_test)*100))\n"
   ]
  },
  {
   "cell_type": "markdown",
   "metadata": {},
   "source": [
    "Confusion matrix is printed for the above model"
   ]
  },
  {
   "cell_type": "code",
   "execution_count": 79,
   "metadata": {},
   "outputs": [
    {
     "name": "stdout",
     "output_type": "stream",
     "text": [
      "0.9090909090909091\n",
      "              precision    recall  f1-score   support\n",
      "\n",
      "           0       0.91      0.95      0.93       151\n",
      "           1       0.91      0.85      0.87        91\n",
      "\n",
      "    accuracy                           0.91       242\n",
      "   macro avg       0.91      0.90      0.90       242\n",
      "weighted avg       0.91      0.91      0.91       242\n",
      "\n"
     ]
    },
    {
     "data": {
      "image/png": "[encoded data removed]",
      "text/plain": [
       "<Figure size 432x288 with 2 Axes>"
      ]
     },
     "metadata": {
      "needs_background": "light"
     },
     "output_type": "display_data"
    }
   ],
   "source": [
    "pred_adasvc = ada_clf_svc.predict(X_test)\n",
    "print(metrics.accuracy_score(y_test,pred_adasvc))\n",
    "\n",
    "confusion = confusion_matrix(y_test, pred_adasvc)\n",
    "import seaborn as sns\n",
    "import matplotlib.pyplot as plt     \n",
    "\n",
    "ax= plt.subplot()\n",
    "sns.heatmap(confusion, annot=True, fmt='d',ax = ax); #annot=True to annotate cells\n",
    "\n",
    "# labels, title and ticks\n",
    "ax.set_xlabel('Predicted labels')\n",
    "ax.set_ylabel('True labels')\n",
    "\n",
    "print(classification_report(y_test,pred_adasvc))"
   ]
  },
  {
   "cell_type": "code",
   "execution_count": 80,
   "metadata": {},
   "outputs": [
    {
     "name": "stdout",
     "output_type": "stream",
     "text": [
      "Recall    : 0.9470198675496688\n",
      "F1Score    : 0.9285714285714285\n"
     ]
    }
   ],
   "source": [
    "from sklearn.metrics import precision_recall_fscore_support as score\n",
    "\n",
    "precision,recall,fscore,support=score(y_test,pred_adasvc)\n",
    "\n",
    "print ('Recall    : {}'.format(recall[0]))\n",
    "print ('F1Score    : {}'.format(fscore[0]))"
   ]
  },
  {
   "cell_type": "code",
   "execution_count": 81,
   "metadata": {},
   "outputs": [],
   "source": [
    "Classification_Scores.update({'Adaboosting-SVC Poly Classifier':[metrics.accuracy_score(y_test,pred_adasvc),recall[0],fscore[0]]})"
   ]
  },
  {
   "cell_type": "markdown",
   "metadata": {},
   "source": [
    "## Gradient Boosting"
   ]
  },
  {
   "cell_type": "markdown",
   "metadata": {},
   "source": [
    "Gradient boosting is a technique which minimizes the overall prediction error. The key idea is to set the target outcomes for the next best model in order to minimize the error. Gradient boosting model is primarily used with decision tree.\n",
    "\n",
    "The key parameters used are n_estimators and learning_rate"
   ]
  },
  {
   "cell_type": "code",
   "execution_count": 82,
   "metadata": {},
   "outputs": [
    {
     "name": "stdout",
     "output_type": "stream",
     "text": [
      "Best Parameters: {'learning_rate': 0.5, 'n_estimators': 50}\n",
      "Train score: 0.994\n",
      "Test score: 0.909\n"
     ]
    }
   ],
   "source": [
    "from  sklearn.ensemble import GradientBoostingClassifier\n",
    "\n",
    "gradient_boosting = GradientBoostingClassifier(max_depth=2, random_state=0)\n",
    "param_grid={'n_estimators':[50,100,150],'learning_rate':[0.5,1]}\n",
    "grid7=GridSearchCV(gradient_boosting,param_grid,cv=5,return_train_score=True)\n",
    "grid7.fit(X_train, y_train)\n",
    "train7=grid7.cv_results_['mean_train_score']\n",
    "print(\"Best Parameters: {}\".format(grid7.best_params_))\n",
    "print(\"Train score: {0:.3f}\".format(train7.mean()))\n",
    "print(\"Test score: {0:.3f}\".format(grid7.score(X_test,y_test)))"
   ]
  },
  {
   "cell_type": "markdown",
   "metadata": {},
   "source": [
    "The best params learning_rate=0.5 and n_estimators:20 are used with max_depth=2 for decision tree"
   ]
  },
  {
   "cell_type": "code",
   "execution_count": 83,
   "metadata": {},
   "outputs": [],
   "source": [
    "grad_clf = GradientBoostingClassifier(max_depth=2, n_estimators=50,learning_rate=0.5,random_state=0)\n",
    "grad_clf.fit(X_train, y_train)\n",
    "\n",
    "y_pred=grad_clf.predict(X_test)\n"
   ]
  },
  {
   "cell_type": "code",
   "execution_count": 84,
   "metadata": {},
   "outputs": [
    {
     "name": "stdout",
     "output_type": "stream",
     "text": [
      "Train score: 97.9275 %\n",
      "Test score: 90.9091 %\n"
     ]
    }
   ],
   "source": [
    "print('Train score: {:.4f} %'.format(grad_clf.score(X_train, y_train)*100))\n",
    "print('Test score: {:.4f} %'.format(grad_clf.score(X_test, y_test)*100))"
   ]
  },
  {
   "cell_type": "markdown",
   "metadata": {},
   "source": [
    "Confusion Matrix is printed for the model "
   ]
  },
  {
   "cell_type": "code",
   "execution_count": 85,
   "metadata": {
    "scrolled": true
   },
   "outputs": [
    {
     "name": "stdout",
     "output_type": "stream",
     "text": [
      "0.9090909090909091\n",
      "              precision    recall  f1-score   support\n",
      "\n",
      "           0       0.91      0.95      0.93       151\n",
      "           1       0.91      0.85      0.87        91\n",
      "\n",
      "    accuracy                           0.91       242\n",
      "   macro avg       0.91      0.90      0.90       242\n",
      "weighted avg       0.91      0.91      0.91       242\n",
      "\n"
     ]
    },
    {
     "data": {
      "image/png": "[encoded data removed]",
      "text/plain": [
       "<Figure size 432x288 with 2 Axes>"
      ]
     },
     "metadata": {
      "needs_background": "light"
     },
     "output_type": "display_data"
    }
   ],
   "source": [
    "grad = grad_clf.predict(X_test)\n",
    "print(metrics.accuracy_score(y_test,grad))\n",
    "\n",
    "confusion = confusion_matrix(y_test, grad)\n",
    "import seaborn as sns\n",
    "import matplotlib.pyplot as plt     \n",
    "\n",
    "ax= plt.subplot()\n",
    "sns.heatmap(confusion, annot=True, fmt='d',ax = ax); #annot=True to annotate cells\n",
    "\n",
    "# labels, title and ticks\n",
    "ax.set_xlabel('Predicted labels')\n",
    "ax.set_ylabel('True labels')\n",
    "\n",
    "\n",
    "print(classification_report(y_test,grad))"
   ]
  },
  {
   "cell_type": "code",
   "execution_count": 86,
   "metadata": {},
   "outputs": [
    {
     "name": "stdout",
     "output_type": "stream",
     "text": [
      "Recall    : 0.9470198675496688\n",
      "F1Score    : 0.9285714285714285\n"
     ]
    }
   ],
   "source": [
    "from sklearn.metrics import precision_recall_fscore_support as score\n",
    "\n",
    "precision,recall,fscore,support=score(y_test,grad)\n",
    "\n",
    "print ('Recall    : {}'.format(recall[0]))\n",
    "print ('F1Score    : {}'.format(fscore[0]))"
   ]
  },
  {
   "cell_type": "code",
   "execution_count": 87,
   "metadata": {},
   "outputs": [],
   "source": [
    "Classification_Scores.update({'Gradient boosting':[metrics.accuracy_score(y_test,grad),recall[0],fscore[0]]})"
   ]
  },
  {
   "cell_type": "markdown",
   "metadata": {},
   "source": [
    "## Random Forest"
   ]
  },
  {
   "cell_type": "markdown",
   "metadata": {},
   "source": [
    "The random forest is a classifier consisting of many decisions trees"
   ]
  },
  {
   "cell_type": "code",
   "execution_count": 88,
   "metadata": {},
   "outputs": [
    {
     "name": "stdout",
     "output_type": "stream",
     "text": [
      "Accuracy on training set: 0.997\n",
      "Accuracy on test set: 0.938\n"
     ]
    }
   ],
   "source": [
    "from sklearn.ensemble import RandomForestClassifier\n",
    "\n",
    "forest = RandomForestClassifier(random_state=0)\n",
    "forest.fit(X_train, y_train)\n",
    "\n",
    "print(\"Accuracy on training set: {:.3f}\".format(forest.score(X_train, y_train)))\n",
    "print(\"Accuracy on test set: {:.3f}\".format(forest.score(X_test, y_test)))"
   ]
  },
  {
   "cell_type": "markdown",
   "metadata": {},
   "source": [
    "Confusion Matrix is generated"
   ]
  },
  {
   "cell_type": "code",
   "execution_count": 89,
   "metadata": {},
   "outputs": [
    {
     "name": "stdout",
     "output_type": "stream",
     "text": [
      "0.9380165289256198\n",
      "              precision    recall  f1-score   support\n",
      "\n",
      "           0       0.95      0.95      0.95       151\n",
      "           1       0.92      0.91      0.92        91\n",
      "\n",
      "    accuracy                           0.94       242\n",
      "   macro avg       0.93      0.93      0.93       242\n",
      "weighted avg       0.94      0.94      0.94       242\n",
      "\n"
     ]
    },
    {
     "data": {
      "image/png": "[encoded data removed]",
      "text/plain": [
       "<Figure size 432x288 with 2 Axes>"
      ]
     },
     "metadata": {
      "needs_background": "light"
     },
     "output_type": "display_data"
    }
   ],
   "source": [
    "import sklearn.metrics as metrics\n",
    "from sklearn.metrics import confusion_matrix, classification_report \n",
    "pred_forestclf = forest.predict(X_test)\n",
    "print(metrics.accuracy_score(y_test,pred_forestclf))\n",
    "\n",
    "confusion = confusion_matrix(y_test, pred_forestclf)\n",
    "import seaborn as sns\n",
    "import matplotlib.pyplot as plt     \n",
    "\n",
    "ax= plt.subplot()\n",
    "sns.heatmap(confusion, annot=True, fmt='d',ax = ax); #annot=True to annotate cells\n",
    "\n",
    "# labels, title and ticks\n",
    "ax.set_xlabel('Predicted labels')\n",
    "ax.set_ylabel('True labels')\n",
    "\n",
    "print(classification_report(y_test,pred_forestclf))"
   ]
  },
  {
   "cell_type": "markdown",
   "metadata": {},
   "source": [
    "The recall and F1 score are printed"
   ]
  },
  {
   "cell_type": "code",
   "execution_count": 90,
   "metadata": {},
   "outputs": [
    {
     "name": "stdout",
     "output_type": "stream",
     "text": [
      "Recall    : 0.9536423841059603\n",
      "F1Score    : 0.9504950495049505\n"
     ]
    }
   ],
   "source": [
    "from sklearn.metrics import precision_recall_fscore_support as score\n",
    "\n",
    "precision,recall,fscore,support=score(y_test,pred_forestclf)\n",
    "\n",
    "print ('Recall    : {}'.format(recall[0]))\n",
    "print ('F1Score    : {}'.format(fscore[0]))"
   ]
  },
  {
   "cell_type": "code",
   "execution_count": 91,
   "metadata": {},
   "outputs": [],
   "source": [
    "Classification_Scores.update({'Random Forest':[metrics.accuracy_score(y_test,pred_forestclf),recall[0],fscore[0]]})"
   ]
  },
  {
   "cell_type": "code",
   "execution_count": 92,
   "metadata": {},
   "outputs": [
    {
     "data": {
      "text/plain": [
       "array([0.0629187 , 0.06364299, 0.02162273, 0.01250533, 0.02042624,\n",
       "       0.00529865, 0.00404272, 0.00353806, 0.00871052, 0.00425258,\n",
       "       0.04741042, 0.02148329, 0.00285393, 0.00668045, 0.00122707,\n",
       "       0.00173329, 0.00176495, 0.00229307, 0.00082871, 0.00435428,\n",
       "       0.0019443 , 0.00645337, 0.00466284, 0.00269751, 0.00331846,\n",
       "       0.00221829, 0.00220869, 0.00113739, 0.00128925, 0.00165149,\n",
       "       0.00361966, 0.0095361 , 0.00724962, 0.00976158, 0.00791325,\n",
       "       0.01682447, 0.00158011, 0.00061867, 0.00340788, 0.00454487,\n",
       "       0.28132018, 0.32447714, 0.00397691])"
      ]
     },
     "execution_count": 92,
     "metadata": {},
     "output_type": "execute_result"
    }
   ],
   "source": [
    "forest.feature_importances_"
   ]
  },
  {
   "cell_type": "markdown",
   "metadata": {},
   "source": [
    "## PCA  "
   ]
  },
  {
   "cell_type": "markdown",
   "metadata": {},
   "source": [
    "PCA is statistical technique using dimensionality reduction with sole basis that large number of features add to high dimensionality which essentially leads to overfitting.\n",
    "\n",
    "PCA thus reduces the number of feautures taken into consideration."
   ]
  },
  {
   "cell_type": "code",
   "execution_count": 93,
   "metadata": {},
   "outputs": [],
   "source": [
    "from sklearn.decomposition import PCA\n",
    "\n",
    "# intialize pca and logistic regression model\n",
    "pca = PCA(n_components=0.95)"
   ]
  },
  {
   "cell_type": "code",
   "execution_count": 94,
   "metadata": {},
   "outputs": [
    {
     "name": "stdout",
     "output_type": "stream",
     "text": [
      "(965, 24)\n",
      "(965,)\n",
      "(242, 24)\n",
      "(242,)\n"
     ]
    }
   ],
   "source": [
    "X_train_pca= pca.fit_transform(X_train)  \n",
    "X_test_pca = pca.transform(X_test)\n",
    "\n",
    "print(X_train_pca.shape)\n",
    "print(y_train.shape)\n",
    "print(X_test_pca.shape)\n",
    "print(y_test.shape)"
   ]
  },
  {
   "cell_type": "markdown",
   "metadata": {},
   "source": [
    "PCA is run on all the models "
   ]
  },
  {
   "cell_type": "markdown",
   "metadata": {},
   "source": [
    "### KNN with PCA"
   ]
  },
  {
   "cell_type": "markdown",
   "metadata": {},
   "source": [
    "KNN classifier is modeled with cv=5 and the cross val score is calculated\n",
    "\n",
    "GridSearch is used to find the best neighbor that can be used"
   ]
  },
  {
   "cell_type": "code",
   "execution_count": 95,
   "metadata": {},
   "outputs": [
    {
     "name": "stdout",
     "output_type": "stream",
     "text": [
      "Best parameters: {'n_neighbors': 5}\n",
      "Best cross-validation score: 0.93\n"
     ]
    },
    {
     "data": {
      "image/png": "[encoded data removed]",
      "text/plain": [
       "<Figure size 432x288 with 1 Axes>"
      ]
     },
     "metadata": {
      "needs_background": "light"
     },
     "output_type": "display_data"
    }
   ],
   "source": [
    "k_range = list(range(1, 11))\n",
    "\n",
    "param_grid = dict(n_neighbors=k_range)\n",
    "\n",
    "grid_search_knn = GridSearchCV(KNeighborsClassifier(), param_grid, cv=5, return_train_score=True)\n",
    "\n",
    "grid_search_knn.fit(X_train_pca, y_train)\n",
    "\n",
    "df = pd.DataFrame(grid_search_knn.cv_results_)\n",
    "%matplotlib inline\n",
    "x_axis = range(1,11)\n",
    "plt.plot(x_axis, df.mean_train_score, c = 'g', label = 'Train Score')\n",
    "plt.plot(x_axis, df.mean_test_score, c = 'b', label = 'Validation Score')\n",
    "plt.legend()\n",
    "plt.xlabel('k')\n",
    "plt.ylabel('CV Score')\n",
    "\n",
    "print(\"Best parameters: {}\".format(grid_search_knn.best_params_))\n",
    "print(\"Best cross-validation score: {:.2f}\".format(grid_search_knn.best_score_))"
   ]
  },
  {
   "cell_type": "markdown",
   "metadata": {},
   "source": [
    "Neighbour=5 is taken for the KNN classifier"
   ]
  },
  {
   "cell_type": "code",
   "execution_count": 96,
   "metadata": {},
   "outputs": [
    {
     "name": "stdout",
     "output_type": "stream",
     "text": [
      "Train score on best parameters 0.9461\n",
      "Test score on best parameters 0.9380\n"
     ]
    }
   ],
   "source": [
    "knn = KNeighborsClassifier(n_neighbors=5)\n",
    "knn.fit(X_train_pca, y_train)\n",
    "print('Train score on best parameters {:.4f}'.format(knn.score(X_train_pca,y_train)))\n",
    "print('Test score on best parameters {:.4f}'.format(knn.score(X_test_pca,y_test)))"
   ]
  },
  {
   "cell_type": "markdown",
   "metadata": {},
   "source": [
    "Cross validation score for the KNN is found"
   ]
  },
  {
   "cell_type": "code",
   "execution_count": 97,
   "metadata": {},
   "outputs": [
    {
     "name": "stdout",
     "output_type": "stream",
     "text": [
      "Cross-validation scores: [0.94818653 0.91709845 0.94300518 0.92227979 0.93782383]\n",
      "Average cross-validation score: 0.93\n"
     ]
    }
   ],
   "source": [
    "from sklearn.model_selection import cross_val_score\n",
    "from sklearn.model_selection import GridSearchCV\n",
    "knn_grid = KNeighborsClassifier(5)\n",
    "\n",
    "scores = cross_val_score(knn_grid, X_train_pca, y_train, cv =5, scoring = 'accuracy')\n",
    "print(\"Cross-validation scores: {}\".format(scores))\n",
    "\n",
    "print(\"Average cross-validation score: {:.2f}\".format(scores.mean()))"
   ]
  },
  {
   "cell_type": "markdown",
   "metadata": {},
   "source": [
    "Confusion Matrix is printed for the model"
   ]
  },
  {
   "cell_type": "code",
   "execution_count": 98,
   "metadata": {},
   "outputs": [
    {
     "name": "stdout",
     "output_type": "stream",
     "text": [
      "0.9380165289256198\n",
      "              precision    recall  f1-score   support\n",
      "\n",
      "           0       0.95      0.95      0.95       151\n",
      "           1       0.91      0.92      0.92        91\n",
      "\n",
      "    accuracy                           0.94       242\n",
      "   macro avg       0.93      0.94      0.93       242\n",
      "weighted avg       0.94      0.94      0.94       242\n",
      "\n"
     ]
    },
    {
     "data": {
      "image/png": "[encoded data removed]",
      "text/plain": [
       "<Figure size 432x288 with 2 Axes>"
      ]
     },
     "metadata": {
      "needs_background": "light"
     },
     "output_type": "display_data"
    }
   ],
   "source": [
    "import sklearn.metrics as metrics\n",
    "from sklearn.metrics import confusion_matrix, classification_report\n",
    "\n",
    " \n",
    "pred_knn = knn.predict(X_test_pca)\n",
    "print(metrics.accuracy_score(y_test,pred_knn))\n",
    "\n",
    "confusion = confusion_matrix(y_test, pred_knn)\n",
    "import sklearn.metrics as metrics\n",
    "from sklearn.metrics import confusion_matrix, classification_report \n",
    "import seaborn as sns\n",
    "import matplotlib.pyplot as plt     \n",
    "\n",
    "ax= plt.subplot()\n",
    "sns.heatmap(confusion, annot=True, fmt='d',ax = ax); #annot=True to annotate cells\n",
    "\n",
    "# labels, title and ticks\n",
    "ax.set_xlabel('Predicted labels')\n",
    "ax.set_ylabel('True labels')\n",
    "\n",
    "print(classification_report(y_test,pred_knn))"
   ]
  },
  {
   "cell_type": "markdown",
   "metadata": {},
   "source": [
    "Recall and F1 score is printed"
   ]
  },
  {
   "cell_type": "code",
   "execution_count": 99,
   "metadata": {},
   "outputs": [
    {
     "name": "stdout",
     "output_type": "stream",
     "text": [
      "Recall    : 0.9470198675496688\n",
      "F1Score    : 0.9501661129568105\n"
     ]
    }
   ],
   "source": [
    "from sklearn.metrics import precision_recall_fscore_support as score\n",
    "\n",
    "precision,recall,fscore,support=score(y_test,pred_knn)\n",
    "\n",
    "print ('Recall    : {}'.format(recall[0]))\n",
    "print ('F1Score    : {}'.format(fscore[0]))"
   ]
  },
  {
   "cell_type": "code",
   "execution_count": 100,
   "metadata": {},
   "outputs": [],
   "source": [
    "Classification_Scores.update({'KNN Classification with PCA':[metrics.accuracy_score(y_test,pred_knn),recall[0],fscore[0]]})"
   ]
  },
  {
   "cell_type": "markdown",
   "metadata": {},
   "source": [
    "### Logistic reg after PCA"
   ]
  },
  {
   "cell_type": "markdown",
   "metadata": {},
   "source": [
    "Logistic regression is run after the PCA is done on the dataset"
   ]
  },
  {
   "cell_type": "code",
   "execution_count": 101,
   "metadata": {},
   "outputs": [
    {
     "name": "stdout",
     "output_type": "stream",
     "text": [
      "Best score: 0.94\n",
      "Best parameters: {'C': 0.01, 'penalty': 'l2'}\n"
     ]
    },
    {
     "data": {
      "image/png": "[encoded data removed]",
      "text/plain": [
       "<Figure size 432x288 with 2 Axes>"
      ]
     },
     "metadata": {
      "needs_background": "light"
     },
     "output_type": "display_data"
    }
   ],
   "source": [
    "# import warnings filter\n",
    "from warnings import simplefilter\n",
    "# ignore all future warnings\n",
    "simplefilter(action='ignore', category=FutureWarning)\n",
    "\n",
    "from sklearn.linear_model import LogisticRegression\n",
    "\n",
    "c_range = [0.001, 0.01, 0.1, 1, 10, 100, 1000]\n",
    "train_score_l1 = []\n",
    "train_score_l2 = []\n",
    "valid_score_l1 = []\n",
    "valid_score_l2 = []\n",
    "\n",
    "best_score = 0\n",
    "l1 = 'l1'\n",
    "l2 = 'l2'\n",
    "\n",
    "for c in c_range:\n",
    "    log_l1 = LogisticRegression(penalty = 'l1', C = c,solver='liblinear')\n",
    "    log_l2 = LogisticRegression(penalty = 'l2', C = c,solver='lbfgs')\n",
    "    \n",
    "    log_l1.fit(X_train_pca, y_train)\n",
    "    log_l2.fit(X_train_pca, y_train)\n",
    "    \n",
    "    train_score_l1.append(log_l1.score(X_train_pca, y_train))\n",
    "    train_score_l2.append(log_l2.score(X_train_pca, y_train))\n",
    "    \n",
    "    score = log_l1.score(X_test_pca, y_test)\n",
    "    valid_score_l1.append(score)\n",
    "    if score > best_score:\n",
    "            best_score = score\n",
    "            best_parameters = {'C': c , 'penalty': l1}\n",
    "            best_C = c\n",
    "            best_Penalty = 'l1'\n",
    "    \n",
    "    score = log_l2.score(X_test_pca, y_test)\n",
    "    valid_score_l2.append(score)\n",
    "    if score > best_score:\n",
    "            best_score = score\n",
    "            best_parameters = {'C': c , 'penalty' : l2}\n",
    "            best_C = c\n",
    "            best_Penalty = 'l2'\n",
    "    \n",
    "plt.subplot(1,2,1)\n",
    "plt.plot(c_range, train_score_l1, label = 'Train score, penalty = l1')\n",
    "plt.plot(c_range, valid_score_l1, label = 'Test score, penalty = l1')\n",
    "plt.xscale('log')\n",
    "plt.legend()\n",
    "plt.subplot(1,2,2)\n",
    "plt.plot(c_range, train_score_l2, label = 'Train score, penalty = l2')\n",
    "plt.plot(c_range, valid_score_l2, label = 'Test score, penalty = l2')\n",
    "plt.xscale('log')\n",
    "plt.legend()\n",
    "\n",
    "print(\"Best score: {:.2f}\".format(best_score))\n",
    "print(\"Best parameters: {}\".format(best_parameters))"
   ]
  },
  {
   "cell_type": "markdown",
   "metadata": {},
   "source": [
    "Train and test score are calculated "
   ]
  },
  {
   "cell_type": "code",
   "execution_count": 102,
   "metadata": {},
   "outputs": [
    {
     "name": "stdout",
     "output_type": "stream",
     "text": [
      "Train score on best parameters for Logistic Regression model 0.9420\n",
      "Test score on best parameters for Logistic Regression model 0.9380\n"
     ]
    }
   ],
   "source": [
    "lg = LogisticRegression(C=0.01,penalty='l2').fit(X_train_pca, y_train)\n",
    "print('Train score on best parameters for Logistic Regression model {:.4f}'.format(lg.score(X_train_pca,y_train)))\n",
    "print('Test score on best parameters for Logistic Regression model {:.4f}'.format(lg.score(X_test_pca,y_test)))"
   ]
  },
  {
   "cell_type": "markdown",
   "metadata": {},
   "source": [
    "Logistic regression is modelled with penalty L2 and C=0.01"
   ]
  },
  {
   "cell_type": "code",
   "execution_count": 103,
   "metadata": {},
   "outputs": [
    {
     "name": "stdout",
     "output_type": "stream",
     "text": [
      "Cross-validation scores: [0.96373057 0.92227979 0.93782383 0.9119171  0.97409326]\n",
      "Average cross-validation score: 0.94\n"
     ]
    }
   ],
   "source": [
    "log_grid = LogisticRegression(penalty = 'l2', C = 0.01)\n",
    "\n",
    "scores = cross_val_score(log_grid, X_train_pca, y_train, cv =5, scoring = 'accuracy')\n",
    "print(\"Cross-validation scores: {}\".format(scores))\n",
    "\n",
    "print(\"Average cross-validation score: {:.2f}\".format(scores.mean()))"
   ]
  },
  {
   "cell_type": "code",
   "execution_count": 104,
   "metadata": {
    "scrolled": true
   },
   "outputs": [
    {
     "name": "stdout",
     "output_type": "stream",
     "text": [
      "0.9380165289256198\n",
      "              precision    recall  f1-score   support\n",
      "\n",
      "           0       0.95      0.95      0.95       151\n",
      "           1       0.92      0.91      0.92        91\n",
      "\n",
      "    accuracy                           0.94       242\n",
      "   macro avg       0.93      0.93      0.93       242\n",
      "weighted avg       0.94      0.94      0.94       242\n",
      "\n"
     ]
    },
    {
     "data": {
      "image/png": "[encoded data removed]",
      "text/plain": [
       "<Figure size 432x288 with 2 Axes>"
      ]
     },
     "metadata": {
      "needs_background": "light"
     },
     "output_type": "display_data"
    }
   ],
   "source": [
    "pred_log = lg.predict(X_test_pca)\n",
    "print(metrics.accuracy_score(y_test,pred_log))\n",
    "\n",
    "confusion = confusion_matrix(y_test, pred_log)\n",
    "import seaborn as sns\n",
    "import matplotlib.pyplot as plt     \n",
    "\n",
    "ax= plt.subplot()\n",
    "sns.heatmap(confusion, annot=True,fmt='d', ax = ax); #annot=True to annotate cells\n",
    "\n",
    "# labels, title and ticks\n",
    "ax.set_xlabel('Predicted labels')\n",
    "ax.set_ylabel('True labels')\n",
    "\n",
    "print(classification_report(y_test,pred_log))"
   ]
  },
  {
   "cell_type": "code",
   "execution_count": 105,
   "metadata": {},
   "outputs": [
    {
     "name": "stdout",
     "output_type": "stream",
     "text": [
      "Recall    : 0.9536423841059603\n",
      "F1Score    : 0.9504950495049505\n"
     ]
    }
   ],
   "source": [
    "from sklearn.metrics import precision_recall_fscore_support as score\n",
    "\n",
    "precision,recall,fscore,support=score(y_test,pred_log)\n",
    "\n",
    "print ('Recall    : {}'.format(recall[0]))\n",
    "print ('F1Score    : {}'.format(fscore[0]))"
   ]
  },
  {
   "cell_type": "code",
   "execution_count": 106,
   "metadata": {},
   "outputs": [],
   "source": [
    "Classification_Scores.update({'Logistic Regression with PCA':[metrics.accuracy_score(y_test,pred_log),recall[0],fscore[0]]})"
   ]
  },
  {
   "cell_type": "markdown",
   "metadata": {},
   "source": [
    "### Linear SVC with PCA"
   ]
  },
  {
   "cell_type": "markdown",
   "metadata": {},
   "source": [
    "Linear SVC is modeled with with grid search for best param for C"
   ]
  },
  {
   "cell_type": "code",
   "execution_count": 107,
   "metadata": {},
   "outputs": [
    {
     "name": "stdout",
     "output_type": "stream",
     "text": [
      "Best parameters: {'C': 0.01}\n",
      "Best cross-validation score: 0.94\n"
     ]
    },
    {
     "data": {
      "image/png": "[encoded data removed]",
      "text/plain": [
       "<Figure size 432x288 with 1 Axes>"
      ]
     },
     "metadata": {
      "needs_background": "light"
     },
     "output_type": "display_data"
    }
   ],
   "source": [
    "from sklearn.svm import LinearSVC\n",
    "param_grid = {'C': [0.001, 0.01, 0.1, 1, 10, 100, 1000]}\n",
    "grid_search_lsvc = GridSearchCV(LinearSVC(max_iter=100000000), param_grid, cv=5, return_train_score=True)\n",
    "\n",
    "grid_search_lsvc.fit(X_train_pca, y_train)\n",
    "\n",
    "df = pd.DataFrame(grid_search_lsvc.cv_results_)\n",
    "%matplotlib inline\n",
    "x_range = [0.001, 0.01, 0.1, 1, 10, 100, 1000]\n",
    "plt.plot(x_range, df.mean_train_score, c = 'g', label = 'Train Score')\n",
    "plt.plot(x_range, df.mean_test_score, c = 'b', label = 'Validation Score')\n",
    "plt.xscale('log')\n",
    "plt.legend(loc = 3)\n",
    "plt.xlabel('Regularization Parameter')\n",
    "\n",
    "print(\"Best parameters: {}\".format(grid_search_lsvc.best_params_))\n",
    "print(\"Best cross-validation score: {:.2f}\".format(grid_search_lsvc.best_score_))"
   ]
  },
  {
   "cell_type": "markdown",
   "metadata": {},
   "source": [
    "The train and test score are calculated for this model"
   ]
  },
  {
   "cell_type": "code",
   "execution_count": 108,
   "metadata": {},
   "outputs": [
    {
     "name": "stdout",
     "output_type": "stream",
     "text": [
      "Train score on best parameters for LinearSVC - 0.9440\n",
      "Test score on best parameters ffor LinearSVC - 0.9380\n"
     ]
    }
   ],
   "source": [
    "from sklearn.svm import SVC\n",
    "clf1 = SVC(kernel='linear', C=0.01).fit(X_train_pca, y_train)\n",
    "print('Train score on best parameters for LinearSVC - {:.4f}'.format(clf1.score(X_train_pca, y_train)))\n",
    "print('Test score on best parameters ffor LinearSVC - {:.4f}'.format(clf1.score(X_test_pca,y_test)))"
   ]
  },
  {
   "cell_type": "code",
   "execution_count": 109,
   "metadata": {},
   "outputs": [
    {
     "name": "stdout",
     "output_type": "stream",
     "text": [
      "Cross-validation scores: [0.96373057 0.92227979 0.94300518 0.91709845 0.97409326]\n",
      "Average cross-validation score: 0.94\n"
     ]
    }
   ],
   "source": [
    "linear_svc_grid = LinearSVC(C = 0.01, max_iter=10000)\n",
    "scores = cross_val_score(linear_svc_grid, X_train_pca, y_train, cv = 5, scoring = 'accuracy')\n",
    "print(\"Cross-validation scores: {}\".format(scores))\n",
    "\n",
    "print(\"Average cross-validation score: {:.2f}\".format(scores.mean()))"
   ]
  },
  {
   "cell_type": "markdown",
   "metadata": {},
   "source": [
    "Confusion Matrix is printed"
   ]
  },
  {
   "cell_type": "code",
   "execution_count": 110,
   "metadata": {},
   "outputs": [
    {
     "name": "stdout",
     "output_type": "stream",
     "text": [
      "0.9380165289256198\n",
      "              precision    recall  f1-score   support\n",
      "\n",
      "           0       0.95      0.95      0.95       151\n",
      "           1       0.92      0.91      0.92        91\n",
      "\n",
      "    accuracy                           0.94       242\n",
      "   macro avg       0.93      0.93      0.93       242\n",
      "weighted avg       0.94      0.94      0.94       242\n",
      "\n"
     ]
    },
    {
     "data": {
      "image/png": "[encoded data removed]",
      "text/plain": [
       "<Figure size 432x288 with 2 Axes>"
      ]
     },
     "metadata": {
      "needs_background": "light"
     },
     "output_type": "display_data"
    }
   ],
   "source": [
    "pred_linear_svc = clf1.predict(X_test_pca)\n",
    "print(metrics.accuracy_score(y_test,pred_linear_svc))\n",
    "\n",
    "confusion = confusion_matrix(y_test, pred_linear_svc)\n",
    "import seaborn as sns\n",
    "import matplotlib.pyplot as plt     \n",
    "\n",
    "ax= plt.subplot()\n",
    "sns.heatmap(confusion, annot=True,fmt='d', ax = ax); #annot=True to annotate cells\n",
    "\n",
    "# labels, title and ticks\n",
    "ax.set_xlabel('Predicted labels')\n",
    "ax.set_ylabel('True labels')\n",
    "\n",
    "print(classification_report(y_test,pred_linear_svc)) "
   ]
  },
  {
   "cell_type": "markdown",
   "metadata": {},
   "source": [
    "RECALL and F1 score are printed"
   ]
  },
  {
   "cell_type": "code",
   "execution_count": 111,
   "metadata": {},
   "outputs": [
    {
     "name": "stdout",
     "output_type": "stream",
     "text": [
      "Recall    : 0.9536423841059603\n",
      "F1Score    : 0.9504950495049505\n"
     ]
    }
   ],
   "source": [
    "from sklearn.metrics import precision_recall_fscore_support as score\n",
    "\n",
    "precision,recall,fscore,support=score(y_test,pred_linear_svc)\n",
    "\n",
    "print ('Recall    : {}'.format(recall[0]))\n",
    "print ('F1Score    : {}'.format(fscore[0]))"
   ]
  },
  {
   "cell_type": "code",
   "execution_count": 112,
   "metadata": {},
   "outputs": [],
   "source": [
    "Classification_Scores.update({'Linear SVC with PCA':[metrics.accuracy_score(y_test,pred_linear_svc),recall[0],fscore[0]]})"
   ]
  },
  {
   "cell_type": "markdown",
   "metadata": {},
   "source": [
    "### SVC-rbf pca"
   ]
  },
  {
   "cell_type": "markdown",
   "metadata": {},
   "source": [
    "Gridsearch is used to find the best param of gamma and C"
   ]
  },
  {
   "cell_type": "code",
   "execution_count": 113,
   "metadata": {},
   "outputs": [
    {
     "name": "stdout",
     "output_type": "stream",
     "text": [
      "Best parameters: {'C': 0.1, 'gamma': 0.1}\n",
      "Best cross-validation score: 0.95\n"
     ]
    }
   ],
   "source": [
    "param_grid = {'gamma': [0.001, 0.01, 0.1, 1, 10, 100],\n",
    "             'C': [0.001, 0.01, 0.1, 1, 10, 100]}\n",
    "\n",
    "grid_search_svcr = GridSearchCV(SVC(kernel='rbf'), param_grid, cv=5, return_train_score=True)\n",
    "\n",
    "grid_search_svcr.fit(X_train_pca, y_train)\n",
    "\n",
    "df = pd.DataFrame(grid_search_svcr.cv_results_)\n",
    "print(\"Best parameters: {}\".format(grid_search_svcr.best_params_))\n",
    "print(\"Best cross-validation score: {:.2f}\".format(grid_search_svcr.best_score_))\n"
   ]
  },
  {
   "cell_type": "markdown",
   "metadata": {},
   "source": [
    "The best param of C=0.1 and gamma=0.1 are used"
   ]
  },
  {
   "cell_type": "code",
   "execution_count": 114,
   "metadata": {},
   "outputs": [
    {
     "name": "stdout",
     "output_type": "stream",
     "text": [
      "Train score on best parameters for LinearSVC - 0.9440\n",
      "Test score on best parameters ffor LinearSVC - 0.9380\n"
     ]
    }
   ],
   "source": [
    "clf2 = SVC(kernel='rbf', C=0.1,gamma=0.1).fit(X_train_pca, y_train)\n",
    "print('Train score on best parameters for LinearSVC - {:.4f}'.format(clf1.score(X_train_pca, y_train)))\n",
    "print('Test score on best parameters ffor LinearSVC - {:.4f}'.format(clf1.score(X_test_pca,y_test)))"
   ]
  },
  {
   "cell_type": "code",
   "execution_count": 115,
   "metadata": {},
   "outputs": [
    {
     "name": "stdout",
     "output_type": "stream",
     "text": [
      "Cross-validation scores: [0.94845361 0.96907216 0.89690722 0.95876289 0.96907216 0.91666667\n",
      " 0.95833333 0.875      0.98958333 0.95833333]\n",
      "Average cross-validation score: 0.94\n"
     ]
    }
   ],
   "source": [
    "from sklearn.model_selection import cross_val_score\n",
    "svc_rbf_grid = SVC(kernel='rbf', gamma = 0.1, C = 0.1)\n",
    "\n",
    "scores = cross_val_score(svc_rbf_grid, X_train_pca, y_train, cv =10, scoring = 'accuracy')\n",
    "print(\"Cross-validation scores: {}\".format(scores))\n",
    "\n",
    "print(\"Average cross-validation score: {:.2f}\".format(scores.mean()))"
   ]
  },
  {
   "cell_type": "markdown",
   "metadata": {},
   "source": [
    "Confusion Matrix is printed"
   ]
  },
  {
   "cell_type": "code",
   "execution_count": 116,
   "metadata": {},
   "outputs": [
    {
     "name": "stdout",
     "output_type": "stream",
     "text": [
      "0.9380165289256198\n",
      "              precision    recall  f1-score   support\n",
      "\n",
      "           0       0.95      0.95      0.95       151\n",
      "           1       0.92      0.91      0.92        91\n",
      "\n",
      "    accuracy                           0.94       242\n",
      "   macro avg       0.93      0.93      0.93       242\n",
      "weighted avg       0.94      0.94      0.94       242\n",
      "\n"
     ]
    },
    {
     "data": {
      "image/png": "[encoded data removed]",
      "text/plain": [
       "<Figure size 432x288 with 2 Axes>"
      ]
     },
     "metadata": {
      "needs_background": "light"
     },
     "output_type": "display_data"
    }
   ],
   "source": [
    "pred_rbf = clf2.predict(X_test_pca)\n",
    "print(metrics.accuracy_score(y_test,pred_rbf))\n",
    "\n",
    "confusion = confusion_matrix(y_test, pred_rbf)\n",
    "import seaborn as sns\n",
    "import matplotlib.pyplot as plt     \n",
    "\n",
    "ax= plt.subplot()\n",
    "sns.heatmap(confusion, annot=True,fmt='d', ax = ax); #annot=True to annotate cells\n",
    "\n",
    "# labels, title and ticks\n",
    "ax.set_xlabel('Predicted labels')\n",
    "ax.set_ylabel('True labels')\n",
    "\n",
    "print(classification_report(y_test,pred_rbf))"
   ]
  },
  {
   "cell_type": "code",
   "execution_count": 117,
   "metadata": {},
   "outputs": [
    {
     "name": "stdout",
     "output_type": "stream",
     "text": [
      "Recall    : 0.9536423841059603\n",
      "F1Score    : 0.9504950495049505\n"
     ]
    }
   ],
   "source": [
    "from sklearn.metrics import precision_recall_fscore_support as score\n",
    "\n",
    "precision,recall,fscore,support=score(y_test,pred_rbf)\n",
    "\n",
    "print ('Recall    : {}'.format(recall[0]))\n",
    "print ('F1Score    : {}'.format(fscore[0]))"
   ]
  },
  {
   "cell_type": "code",
   "execution_count": 118,
   "metadata": {},
   "outputs": [],
   "source": [
    "Classification_Scores.update({'SVC-rbf with PCA':[metrics.accuracy_score(y_test,pred_rbf),recall[0],fscore[0]]})"
   ]
  },
  {
   "cell_type": "markdown",
   "metadata": {},
   "source": [
    "### SVC Poly PCA"
   ]
  },
  {
   "cell_type": "markdown",
   "metadata": {},
   "source": [
    "SVC Poly is modeled with grid dearch for best param - gamma, C, degree"
   ]
  },
  {
   "cell_type": "code",
   "execution_count": 119,
   "metadata": {},
   "outputs": [
    {
     "name": "stdout",
     "output_type": "stream",
     "text": [
      "Best parameters: {'C': 0.1, 'degree': 1, 'gamma': 0.1}\n",
      "Best cross-validation score: 0.94\n"
     ]
    }
   ],
   "source": [
    "param_grid = {'gamma': [0.01,0.1],\n",
    "             'C': [0.01, 0.1, 1,10],\n",
    "             'degree': [1,2,3,4,5]}\n",
    "\n",
    "grid_search_svcp = GridSearchCV(SVC(kernel='poly'), param_grid, cv=5, return_train_score=True)\n",
    "\n",
    "grid_search_svcp.fit(X_train_pca, y_train)\n",
    "\n",
    "print(\"Best parameters: {}\".format(grid_search_svcp.best_params_))\n",
    "print(\"Best cross-validation score: {:.2f}\".format(grid_search_svcp.best_score_))"
   ]
  },
  {
   "cell_type": "markdown",
   "metadata": {},
   "source": [
    "Train and Test score of the linear SVC "
   ]
  },
  {
   "cell_type": "code",
   "execution_count": 120,
   "metadata": {},
   "outputs": [
    {
     "name": "stdout",
     "output_type": "stream",
     "text": [
      "Train score on best parameters for LinearSVC - 0.9440\n",
      "Test score on best parameters ffor LinearSVC - 0.9380\n"
     ]
    }
   ],
   "source": [
    "clf3 = SVC(kernel='rbf', C=0.1,gamma=0.1,degree=1).fit(X_train_pca, y_train)\n",
    "print('Train score on best parameters for LinearSVC - {:.4f}'.format(clf1.score(X_train_pca, y_train)))\n",
    "print('Test score on best parameters ffor LinearSVC - {:.4f}'.format(clf1.score(X_test_pca,y_test)))"
   ]
  },
  {
   "cell_type": "code",
   "execution_count": 121,
   "metadata": {},
   "outputs": [
    {
     "name": "stdout",
     "output_type": "stream",
     "text": [
      "Cross-validation scores: [0.96373057 0.92227979 0.94300518 0.91709845 0.97409326]\n",
      "Average cross-validation score: 0.94\n"
     ]
    }
   ],
   "source": [
    "svc_poly_grid = SVC(kernel='poly',degree = 1, C=0.01, gamma=1)\n",
    "\n",
    "scores = cross_val_score(svc_poly_grid, X_train_pca, y_train, cv =5, scoring = 'accuracy')\n",
    "print(\"Cross-validation scores: {}\".format(scores))\n",
    "\n",
    "print(\"Average cross-validation score: {:.2f}\".format(scores.mean()))"
   ]
  },
  {
   "cell_type": "markdown",
   "metadata": {},
   "source": [
    "Confusion Matrix "
   ]
  },
  {
   "cell_type": "code",
   "execution_count": 122,
   "metadata": {},
   "outputs": [
    {
     "name": "stdout",
     "output_type": "stream",
     "text": [
      "0.9380165289256198\n",
      "              precision    recall  f1-score   support\n",
      "\n",
      "           0       0.95      0.95      0.95       151\n",
      "           1       0.92      0.91      0.92        91\n",
      "\n",
      "    accuracy                           0.94       242\n",
      "   macro avg       0.93      0.93      0.93       242\n",
      "weighted avg       0.94      0.94      0.94       242\n",
      "\n"
     ]
    },
    {
     "data": {
      "image/png": "[encoded data removed]",
      "text/plain": [
       "<Figure size 432x288 with 2 Axes>"
      ]
     },
     "metadata": {
      "needs_background": "light"
     },
     "output_type": "display_data"
    }
   ],
   "source": [
    "# import warnings filter\n",
    "from warnings import simplefilter\n",
    "# ignore all future warnings\n",
    "simplefilter(action='ignore', category=FutureWarning)\n",
    "\n",
    "pred_poly = clf3.predict(X_test_pca)\n",
    "print(metrics.accuracy_score(y_test,pred_poly))\n",
    "\n",
    "confusion = confusion_matrix(y_test, pred_poly)\n",
    "\n",
    "import seaborn as sns\n",
    "import matplotlib.pyplot as plt     \n",
    "\n",
    "ax= plt.subplot()\n",
    "sns.heatmap(confusion, annot=True,fmt='d', ax = ax); #annot=True to annotate cells\n",
    "\n",
    "# labels, title and ticks\n",
    "ax.set_xlabel('Predicted labels')\n",
    "ax.set_ylabel('True labels')\n",
    "\n",
    "print(classification_report(y_test,pred_poly))"
   ]
  },
  {
   "cell_type": "markdown",
   "metadata": {},
   "source": [
    "Recall and F1 score are printed"
   ]
  },
  {
   "cell_type": "code",
   "execution_count": 123,
   "metadata": {},
   "outputs": [
    {
     "name": "stdout",
     "output_type": "stream",
     "text": [
      "Recall    : 0.9536423841059603\n",
      "F1Score    : 0.9504950495049505\n"
     ]
    }
   ],
   "source": [
    "from sklearn.metrics import precision_recall_fscore_support as score\n",
    "\n",
    "precision,recall,fscore,support=score(y_test,pred_poly)\n",
    "\n",
    "print ('Recall    : {}'.format(recall[0]))\n",
    "print ('F1Score    : {}'.format(fscore[0]))"
   ]
  },
  {
   "cell_type": "code",
   "execution_count": 124,
   "metadata": {},
   "outputs": [],
   "source": [
    "Classification_Scores.update({'SVC-poly with PCA':[metrics.accuracy_score(y_test,pred_poly),recall[0],fscore[0]]})"
   ]
  },
  {
   "cell_type": "markdown",
   "metadata": {},
   "source": [
    "### SVC rbf and linear with PCA"
   ]
  },
  {
   "cell_type": "markdown",
   "metadata": {},
   "source": [
    "SVC RBF is modelled with gridsearch for selecting the best params for C, gamma"
   ]
  },
  {
   "cell_type": "code",
   "execution_count": 125,
   "metadata": {},
   "outputs": [],
   "source": [
    "#using Kernel SVM\n",
    "from sklearn.svm import SVC \n",
    "KernelSVC = SVC(max_iter=10000000)\n",
    "kernelSVC_params = {'C':[0.001, 0.01, 0.1, 1],'gamma':[1,0.1,0.001], 'kernel':['rbf','linear']}"
   ]
  },
  {
   "cell_type": "code",
   "execution_count": 126,
   "metadata": {},
   "outputs": [
    {
     "name": "stdout",
     "output_type": "stream",
     "text": [
      "Train score on best parameters for LinearSVC - 0.9440\n",
      "Test score on best parameters ffor LinearSVC - 0.9380\n"
     ]
    }
   ],
   "source": [
    "# Using Grid search to find the best parameters and fitting the model\n",
    "KernelSVC_clf = GridSearchCV(KernelSVC, kernelSVC_params,cv=5)\n",
    "KernelSVC_clf.fit(X_train_pca,y_train)\n",
    "print('Train score on best parameters for LinearSVC - {:.4f}'.format(clf1.score(X_train_pca, y_train)))\n",
    "print('Test score on best parameters ffor LinearSVC - {:.4f}'.format(clf1.score(X_test_pca,y_test)))"
   ]
  },
  {
   "cell_type": "code",
   "execution_count": 127,
   "metadata": {},
   "outputs": [
    {
     "data": {
      "text/plain": [
       "{'C': 0.1, 'gamma': 0.1, 'kernel': 'rbf'}"
      ]
     },
     "execution_count": 127,
     "metadata": {},
     "output_type": "execute_result"
    }
   ],
   "source": [
    "#finding the best paramrter\n",
    "KernelSVC_clf.best_params_"
   ]
  },
  {
   "cell_type": "markdown",
   "metadata": {},
   "source": [
    "CONFUSION MATRIX"
   ]
  },
  {
   "cell_type": "code",
   "execution_count": 128,
   "metadata": {},
   "outputs": [
    {
     "name": "stdout",
     "output_type": "stream",
     "text": [
      "0.9380165289256198\n",
      "              precision    recall  f1-score   support\n",
      "\n",
      "           0       0.95      0.95      0.95       151\n",
      "           1       0.92      0.91      0.92        91\n",
      "\n",
      "    accuracy                           0.94       242\n",
      "   macro avg       0.93      0.93      0.93       242\n",
      "weighted avg       0.94      0.94      0.94       242\n",
      "\n"
     ]
    },
    {
     "data": {
      "image/png": "[encoded data removed]",
      "text/plain": [
       "<Figure size 432x288 with 2 Axes>"
      ]
     },
     "metadata": {
      "needs_background": "light"
     },
     "output_type": "display_data"
    }
   ],
   "source": [
    "pred_ker_svc = KernelSVC_clf.predict(X_test_pca)\n",
    "print(metrics.accuracy_score(y_test,pred_ker_svc))\n",
    "\n",
    "confusion = confusion_matrix(y_test, pred_ker_svc)\n",
    "import seaborn as sns\n",
    "import matplotlib.pyplot as plt     \n",
    "\n",
    "ax= plt.subplot()\n",
    "sns.heatmap(confusion, annot=True,fmt='d', ax = ax); #annot=True to annotate cells\n",
    "\n",
    "# labels, title and ticks\n",
    "ax.set_xlabel('Predicted labels')\n",
    "ax.set_ylabel('True labels')\n",
    "\n",
    "\n",
    "print(classification_report(y_test,pred_ker_svc))"
   ]
  },
  {
   "cell_type": "code",
   "execution_count": 129,
   "metadata": {},
   "outputs": [
    {
     "name": "stdout",
     "output_type": "stream",
     "text": [
      "Recall    : 0.9536423841059603\n",
      "F1Score    : 0.9504950495049505\n"
     ]
    }
   ],
   "source": [
    "from sklearn.metrics import precision_recall_fscore_support as score\n",
    "\n",
    "precision,recall,fscore,support=score(y_test,pred_ker_svc)\n",
    "\n",
    "print ('Recall    : {}'.format(recall[0]))\n",
    "print ('F1Score    : {}'.format(fscore[0]))"
   ]
  },
  {
   "cell_type": "code",
   "execution_count": 130,
   "metadata": {},
   "outputs": [],
   "source": [
    "Classification_Scores.update({'SVC-linear with PCA':[metrics.accuracy_score(y_test,pred_ker_svc),recall[0],fscore[0]]})"
   ]
  },
  {
   "cell_type": "markdown",
   "metadata": {},
   "source": [
    "### Decision Tree PCA"
   ]
  },
  {
   "cell_type": "markdown",
   "metadata": {},
   "source": [
    "Decision tree is modeled after PCA on the dataset with grid search for best param of max_depth and min_sample_leaf"
   ]
  },
  {
   "cell_type": "code",
   "execution_count": 131,
   "metadata": {},
   "outputs": [
    {
     "name": "stdout",
     "output_type": "stream",
     "text": [
      "Best parameters: {'criterion': 'gini', 'max_depth': 1, 'min_samples_leaf': 1}\n",
      "Best cross-validation score: 0.93\n"
     ]
    }
   ],
   "source": [
    "from sklearn.tree import DecisionTreeClassifier\n",
    "\n",
    "param_grid = {'criterion': ['gini','entropy'],\n",
    "             'max_depth': [1,2,3,4,5,6,7,8,9,10],\n",
    "             'min_samples_leaf': [1,2,3,4,5,6,7,8,9,10]}\n",
    "\n",
    "grid_search_dtree = GridSearchCV(DecisionTreeClassifier(random_state=0), param_grid, cv=5, return_train_score=True)\n",
    "\n",
    "grid_search_dtree.fit(X_train_pca, y_train)\n",
    "\n",
    "print(\"Best parameters: {}\".format(grid_search_dtree.best_params_))\n",
    "print(\"Best cross-validation score: {:.2f}\".format(grid_search_dtree.best_score_))"
   ]
  },
  {
   "cell_type": "code",
   "execution_count": 132,
   "metadata": {},
   "outputs": [
    {
     "name": "stdout",
     "output_type": "stream",
     "text": [
      "Accuracy on training set: 0.940\n",
      "Accuracy on test set: 0.934\n"
     ]
    }
   ],
   "source": [
    "dtree = DecisionTreeClassifier(max_depth=1,min_samples_leaf=1,criterion='gini')\n",
    "\n",
    "dtree.fit(X_train_pca, y_train)\n",
    "print(\"Accuracy on training set: {:.3f}\".format(dtree.score(X_train_pca, y_train)))\n",
    "print(\"Accuracy on test set: {:.3f}\".format(dtree.score(X_test_pca, y_test)))"
   ]
  },
  {
   "cell_type": "markdown",
   "metadata": {},
   "source": [
    "Cross validations score is obtained"
   ]
  },
  {
   "cell_type": "code",
   "execution_count": 133,
   "metadata": {},
   "outputs": [
    {
     "name": "stdout",
     "output_type": "stream",
     "text": [
      "Cross-validation scores: [0.88601036 0.86528497 0.90673575 0.87564767 0.92227979]\n",
      "Average cross-validation score: 0.89\n"
     ]
    }
   ],
   "source": [
    "dtree_cv = DecisionTreeClassifier()\n",
    "scores = cross_val_score(dtree_cv, X_train_pca, y_train, cv = 5, scoring = 'accuracy' )\n",
    "print(\"Cross-validation scores: {}\".format(scores))\n",
    "\n",
    "print(\"Average cross-validation score: {:.2f}\".format(scores.mean()))"
   ]
  },
  {
   "cell_type": "markdown",
   "metadata": {},
   "source": [
    "CONFUSION MATRIX"
   ]
  },
  {
   "cell_type": "code",
   "execution_count": 134,
   "metadata": {},
   "outputs": [
    {
     "name": "stdout",
     "output_type": "stream",
     "text": [
      "0.9338842975206612\n",
      "              precision    recall  f1-score   support\n",
      "\n",
      "           0       0.95      0.94      0.95       151\n",
      "           1       0.90      0.92      0.91        91\n",
      "\n",
      "    accuracy                           0.93       242\n",
      "   macro avg       0.93      0.93      0.93       242\n",
      "weighted avg       0.93      0.93      0.93       242\n",
      "\n"
     ]
    },
    {
     "data": {
      "image/png": "[encoded data removed]",
      "text/plain": [
       "<Figure size 432x288 with 2 Axes>"
      ]
     },
     "metadata": {
      "needs_background": "light"
     },
     "output_type": "display_data"
    }
   ],
   "source": [
    "import sklearn.metrics as metrics\n",
    "from sklearn.metrics import confusion_matrix, classification_report \n",
    "pred_tree = grid_search_dtree.predict(X_test_pca)\n",
    "print(metrics.accuracy_score(y_test,pred_tree))\n",
    "\n",
    "confusion = confusion_matrix(y_test, pred_tree)\n",
    "import seaborn as sns\n",
    "import matplotlib.pyplot as plt     \n",
    "\n",
    "ax= plt.subplot()\n",
    "sns.heatmap(confusion, annot=True,fmt='d', ax = ax); #annot=True to annotate cells\n",
    "\n",
    "# labels, title and ticks\n",
    "ax.set_xlabel('Predicted labels')\n",
    "ax.set_ylabel('True labels')\n",
    "\n",
    "print(classification_report(y_test,pred_tree))"
   ]
  },
  {
   "cell_type": "code",
   "execution_count": 135,
   "metadata": {},
   "outputs": [
    {
     "name": "stdout",
     "output_type": "stream",
     "text": [
      "Recall    : 0.9403973509933775\n",
      "F1Score    : 0.9466666666666667\n"
     ]
    }
   ],
   "source": [
    "from sklearn.metrics import precision_recall_fscore_support as score\n",
    "\n",
    "precision,recall,fscore,support=score(y_test,pred_tree)\n",
    "\n",
    "print ('Recall    : {}'.format(recall[0]))\n",
    "print ('F1Score    : {}'.format(fscore[0]))"
   ]
  },
  {
   "cell_type": "code",
   "execution_count": 136,
   "metadata": {},
   "outputs": [],
   "source": [
    "Classification_Scores.update({'Decision Tree with PCA':[metrics.accuracy_score(y_test,pred_tree),recall[0],fscore[0]]})"
   ]
  },
  {
   "cell_type": "markdown",
   "metadata": {},
   "source": [
    "### COMPARISON OF ALL MODELS"
   ]
  },
  {
   "cell_type": "code",
   "execution_count": 137,
   "metadata": {},
   "outputs": [
    {
     "data": {
      "text/html": [
       "<div>\n",
       "<style scoped>\n",
       "    .dataframe tbody tr th:only-of-type {\n",
       "        vertical-align: middle;\n",
       "    }\n",
       "\n",
       "    .dataframe tbody tr th {\n",
       "        vertical-align: top;\n",
       "    }\n",
       "\n",
       "    .dataframe thead th {\n",
       "        text-align: right;\n",
       "    }\n",
       "</style>\n",
       "<table border=\"1\" class=\"dataframe\">\n",
       "  <thead>\n",
       "    <tr style=\"text-align: right;\">\n",
       "      <th></th>\n",
       "      <th>Hard voting Classifier</th>\n",
       "      <th>Soft voting calssifier</th>\n",
       "      <th>Bagging-Decision Tree Classifier</th>\n",
       "      <th>Bagging-KNN Classifier</th>\n",
       "      <th>Pasting-Decision Tree</th>\n",
       "      <th>Pasting-KNN Classifier</th>\n",
       "      <th>Adaboosting-Decision Tree</th>\n",
       "      <th>Adaboosting-SVC Poly Classifier</th>\n",
       "      <th>Gradient boosting</th>\n",
       "      <th>Random Forest</th>\n",
       "      <th>KNN Classification with PCA</th>\n",
       "      <th>Logistic Regression with PCA</th>\n",
       "      <th>Linear SVC with PCA</th>\n",
       "      <th>SVC-rbf with PCA</th>\n",
       "      <th>SVC-poly with PCA</th>\n",
       "      <th>SVC-linear with PCA</th>\n",
       "      <th>Decision Tree with PCA</th>\n",
       "    </tr>\n",
       "  </thead>\n",
       "  <tbody>\n",
       "    <tr>\n",
       "      <th>Accuracy</th>\n",
       "      <td>0.938017</td>\n",
       "      <td>0.938017</td>\n",
       "      <td>0.942149</td>\n",
       "      <td>0.938017</td>\n",
       "      <td>0.938017</td>\n",
       "      <td>0.938017</td>\n",
       "      <td>0.946281</td>\n",
       "      <td>0.909091</td>\n",
       "      <td>0.909091</td>\n",
       "      <td>0.938017</td>\n",
       "      <td>0.938017</td>\n",
       "      <td>0.938017</td>\n",
       "      <td>0.938017</td>\n",
       "      <td>0.938017</td>\n",
       "      <td>0.938017</td>\n",
       "      <td>0.938017</td>\n",
       "      <td>0.933884</td>\n",
       "    </tr>\n",
       "    <tr>\n",
       "      <th>Recall</th>\n",
       "      <td>0.953642</td>\n",
       "      <td>0.953642</td>\n",
       "      <td>0.953642</td>\n",
       "      <td>0.953642</td>\n",
       "      <td>0.953642</td>\n",
       "      <td>0.947020</td>\n",
       "      <td>0.947020</td>\n",
       "      <td>0.947020</td>\n",
       "      <td>0.947020</td>\n",
       "      <td>0.953642</td>\n",
       "      <td>0.947020</td>\n",
       "      <td>0.953642</td>\n",
       "      <td>0.953642</td>\n",
       "      <td>0.953642</td>\n",
       "      <td>0.953642</td>\n",
       "      <td>0.953642</td>\n",
       "      <td>0.940397</td>\n",
       "    </tr>\n",
       "    <tr>\n",
       "      <th>F1Score</th>\n",
       "      <td>0.950495</td>\n",
       "      <td>0.950495</td>\n",
       "      <td>0.953642</td>\n",
       "      <td>0.950495</td>\n",
       "      <td>0.950495</td>\n",
       "      <td>0.950166</td>\n",
       "      <td>0.956522</td>\n",
       "      <td>0.928571</td>\n",
       "      <td>0.928571</td>\n",
       "      <td>0.950495</td>\n",
       "      <td>0.950166</td>\n",
       "      <td>0.950495</td>\n",
       "      <td>0.950495</td>\n",
       "      <td>0.950495</td>\n",
       "      <td>0.950495</td>\n",
       "      <td>0.950495</td>\n",
       "      <td>0.946667</td>\n",
       "    </tr>\n",
       "  </tbody>\n",
       "</table>\n",
       "</div>"
      ],
      "text/plain": [
       "          Hard voting Classifier  Soft voting calssifier  \\\n",
       "Accuracy                0.938017                0.938017   \n",
       "Recall                  0.953642                0.953642   \n",
       "F1Score                 0.950495                0.950495   \n",
       "\n",
       "          Bagging-Decision Tree Classifier  Bagging-KNN Classifier  \\\n",
       "Accuracy                          0.942149                0.938017   \n",
       "Recall                            0.953642                0.953642   \n",
       "F1Score                           0.953642                0.950495   \n",
       "\n",
       "          Pasting-Decision Tree  Pasting-KNN Classifier  \\\n",
       "Accuracy               0.938017                0.938017   \n",
       "Recall                 0.953642                0.947020   \n",
       "F1Score                0.950495                0.950166   \n",
       "\n",
       "          Adaboosting-Decision Tree  Adaboosting-SVC Poly Classifier  \\\n",
       "Accuracy                   0.946281                         0.909091   \n",
       "Recall                     0.947020                         0.947020   \n",
       "F1Score                    0.956522                         0.928571   \n",
       "\n",
       "          Gradient boosting  Random Forest  KNN Classification with PCA  \\\n",
       "Accuracy           0.909091       0.938017                     0.938017   \n",
       "Recall             0.947020       0.953642                     0.947020   \n",
       "F1Score            0.928571       0.950495                     0.950166   \n",
       "\n",
       "          Logistic Regression with PCA  Linear SVC with PCA  SVC-rbf with PCA  \\\n",
       "Accuracy                      0.938017             0.938017          0.938017   \n",
       "Recall                        0.953642             0.953642          0.953642   \n",
       "F1Score                       0.950495             0.950495          0.950495   \n",
       "\n",
       "          SVC-poly with PCA  SVC-linear with PCA  Decision Tree with PCA  \n",
       "Accuracy           0.938017             0.938017                0.933884  \n",
       "Recall             0.953642             0.953642                0.940397  \n",
       "F1Score            0.950495             0.950495                0.946667  "
      ]
     },
     "execution_count": 137,
     "metadata": {},
     "output_type": "execute_result"
    }
   ],
   "source": [
    "x1=Classification_Scores.keys()\n",
    "df1=pd.DataFrame(Classification_Scores,index=['Accuracy','Recall','F1Score'])\n",
    "df1"
   ]
  },
  {
   "cell_type": "markdown",
   "metadata": {},
   "source": [
    "The accuracy, recall and F1 score for the models are printed before and after PCA"
   ]
  },
  {
   "cell_type": "code",
   "execution_count": 138,
   "metadata": {},
   "outputs": [
    {
     "data": {
      "text/plain": [
       "<matplotlib.legend.Legend at 0x1d1d382ca88>"
      ]
     },
     "execution_count": 138,
     "metadata": {},
     "output_type": "execute_result"
    },
    {
     "data": {
      "image/png": "[encoded data removed]",
      "text/plain": [
       "<Figure size 720x720 with 1 Axes>"
      ]
     },
     "metadata": {
      "needs_background": "light"
     },
     "output_type": "display_data"
    }
   ],
   "source": [
    "pd.DataFrame(df1).plot(kind='barh',figsize=(10,10))\n",
    "plt.grid(which='both')\n",
    "plt.xticks(np.arange(0,1,step=0.05))\n",
    "plt.legend(loc='center',prop={'size':12})"
   ]
  },
  {
   "cell_type": "code",
   "execution_count": 139,
   "metadata": {},
   "outputs": [
    {
     "data": {
      "text/html": [
       "<div>\n",
       "<style scoped>\n",
       "    .dataframe tbody tr th:only-of-type {\n",
       "        vertical-align: middle;\n",
       "    }\n",
       "\n",
       "    .dataframe tbody tr th {\n",
       "        vertical-align: top;\n",
       "    }\n",
       "\n",
       "    .dataframe thead th {\n",
       "        text-align: right;\n",
       "    }\n",
       "</style>\n",
       "<table border=\"1\" class=\"dataframe\">\n",
       "  <thead>\n",
       "    <tr style=\"text-align: right;\">\n",
       "      <th></th>\n",
       "      <th>classifier</th>\n",
       "      <th>Train Score</th>\n",
       "      <th>Test score</th>\n",
       "      <th>Accuracy</th>\n",
       "    </tr>\n",
       "  </thead>\n",
       "  <tbody>\n",
       "    <tr>\n",
       "      <th>0</th>\n",
       "      <td>KNN Classification without PCA</td>\n",
       "      <td>0.9389</td>\n",
       "      <td>0.9380</td>\n",
       "      <td>93.80</td>\n",
       "    </tr>\n",
       "    <tr>\n",
       "      <th>1</th>\n",
       "      <td>KNN Classification with PCA</td>\n",
       "      <td>0.9461</td>\n",
       "      <td>0.9380</td>\n",
       "      <td>93.80</td>\n",
       "    </tr>\n",
       "    <tr>\n",
       "      <th>2</th>\n",
       "      <td>Logistic Regression without PCA</td>\n",
       "      <td>0.9461</td>\n",
       "      <td>0.9339</td>\n",
       "      <td>93.38</td>\n",
       "    </tr>\n",
       "    <tr>\n",
       "      <th>3</th>\n",
       "      <td>Logistic Regression with PCA</td>\n",
       "      <td>0.9420</td>\n",
       "      <td>0.9380</td>\n",
       "      <td>93.80</td>\n",
       "    </tr>\n",
       "    <tr>\n",
       "      <th>4</th>\n",
       "      <td>Linear_SVC without PCA</td>\n",
       "      <td>0.9461</td>\n",
       "      <td>0.9380</td>\n",
       "      <td>93.80</td>\n",
       "    </tr>\n",
       "    <tr>\n",
       "      <th>5</th>\n",
       "      <td>Linear_SVC with PCA</td>\n",
       "      <td>0.9440</td>\n",
       "      <td>0.9380</td>\n",
       "      <td>93.80</td>\n",
       "    </tr>\n",
       "    <tr>\n",
       "      <th>6</th>\n",
       "      <td>SVC_RBF Kernel without PCA</td>\n",
       "      <td>0.6070</td>\n",
       "      <td>0.6240</td>\n",
       "      <td>62.39</td>\n",
       "    </tr>\n",
       "    <tr>\n",
       "      <th>7</th>\n",
       "      <td>SVC_RBF Kernel with PCA</td>\n",
       "      <td>0.9440</td>\n",
       "      <td>0.9380</td>\n",
       "      <td>93.80</td>\n",
       "    </tr>\n",
       "    <tr>\n",
       "      <th>8</th>\n",
       "      <td>SVC_Poly Kernel without PCA</td>\n",
       "      <td>0.9472</td>\n",
       "      <td>0.9380</td>\n",
       "      <td>93.80</td>\n",
       "    </tr>\n",
       "    <tr>\n",
       "      <th>9</th>\n",
       "      <td>SVC_Poly Kernel with PCA</td>\n",
       "      <td>0.9440</td>\n",
       "      <td>0.9380</td>\n",
       "      <td>93.80</td>\n",
       "    </tr>\n",
       "    <tr>\n",
       "      <th>10</th>\n",
       "      <td>Decision Tree without PCA</td>\n",
       "      <td>0.9472</td>\n",
       "      <td>0.9380</td>\n",
       "      <td>62.39</td>\n",
       "    </tr>\n",
       "    <tr>\n",
       "      <th>11</th>\n",
       "      <td>Decision Tree with PCA</td>\n",
       "      <td>0.9440</td>\n",
       "      <td>0.9380</td>\n",
       "      <td>93.80</td>\n",
       "    </tr>\n",
       "    <tr>\n",
       "      <th>12</th>\n",
       "      <td>SVC linear kernal without PCA</td>\n",
       "      <td>0.9482</td>\n",
       "      <td>0.9380</td>\n",
       "      <td>93.80</td>\n",
       "    </tr>\n",
       "    <tr>\n",
       "      <th>13</th>\n",
       "      <td>SVC linear kernal with PCA</td>\n",
       "      <td>0.9400</td>\n",
       "      <td>0.9340</td>\n",
       "      <td>93.38</td>\n",
       "    </tr>\n",
       "  </tbody>\n",
       "</table>\n",
       "</div>"
      ],
      "text/plain": [
       "                         classifier  Train Score  Test score  Accuracy\n",
       "0    KNN Classification without PCA       0.9389      0.9380     93.80\n",
       "1       KNN Classification with PCA       0.9461      0.9380     93.80\n",
       "2   Logistic Regression without PCA       0.9461      0.9339     93.38\n",
       "3      Logistic Regression with PCA       0.9420      0.9380     93.80\n",
       "4            Linear_SVC without PCA       0.9461      0.9380     93.80\n",
       "5               Linear_SVC with PCA       0.9440      0.9380     93.80\n",
       "6        SVC_RBF Kernel without PCA       0.6070      0.6240     62.39\n",
       "7           SVC_RBF Kernel with PCA       0.9440      0.9380     93.80\n",
       "8       SVC_Poly Kernel without PCA       0.9472      0.9380     93.80\n",
       "9          SVC_Poly Kernel with PCA       0.9440      0.9380     93.80\n",
       "10        Decision Tree without PCA       0.9472      0.9380     62.39\n",
       "11           Decision Tree with PCA       0.9440      0.9380     93.80\n",
       "12   SVC linear kernal without PCA        0.9482      0.9380     93.80\n",
       "13       SVC linear kernal with PCA       0.9400      0.9340     93.38"
      ]
     },
     "execution_count": 139,
     "metadata": {},
     "output_type": "execute_result"
    }
   ],
   "source": [
    "import pandas as pd\n",
    "project_1=pd.DataFrame({\"classifier\":[\"KNN Classification without PCA\",\"KNN Classification with PCA\",\"Logistic Regression without PCA\",\"Logistic Regression with PCA\",\"Linear_SVC without PCA\",\"Linear_SVC with PCA\",\"SVC_RBF Kernel without PCA\",\"SVC_RBF Kernel with PCA\",\"SVC_Poly Kernel without PCA\",\"SVC_Poly Kernel with PCA\",\"Decision Tree without PCA\",\"Decision Tree with PCA\",\"SVC linear kernal without PCA \",\"SVC linear kernal with PCA\"],\n",
    "                        \"Train Score\":[0.9389,0.9461,0.9461,0.9420,0.9461,0.9440,0.6070,0.9440,0.9472,0.9440,0.9472, 0.9440,0.9482,0.9400],\n",
    "                        \"Test score\":[0.9380,0.9380,0.9339,0.9380,0.9380, 0.9380,0.6240,0.9380,0.9380,0.9380,0.9380,0.9380,0.9380,0.9340],\n",
    "                        \"Accuracy\":[93.80,93.80,93.38,93.80,93.80,93.80,62.39,93.80, 93.80,93.80,62.39,93.80,93.80,93.38 ]})\n",
    "project_1"
   ]
  },
  {
   "cell_type": "markdown",
   "metadata": {},
   "source": [
    "### BEFORE PCA"
   ]
  },
  {
   "cell_type": "code",
   "execution_count": 140,
   "metadata": {},
   "outputs": [
    {
     "data": {
      "image/png": "[encoded data removed]",
      "text/plain": [
       "<Figure size 1080x360 with 1 Axes>"
      ]
     },
     "metadata": {
      "needs_background": "light"
     },
     "output_type": "display_data"
    }
   ],
   "source": [
    "import matplotlib.pyplot as plt\n",
    "btrainscore=[0.9389,0.9461,0.9461,0.6070,0.9472,0.9472, 0.9482]              \n",
    "btestscore =[0.9380,0.9339,0.9380,0.6240,0.9380,0.9380,0.9380]\n",
    "Models=[\"KNN Classification\",\"Logistic Regression\",\"Linear_SVC\",\"SVC_RBF Kernel\",\"SVC_Poly Kernel\",\"Decision Tree\",\"SVC linear kernal\"]\n",
    "                  \n",
    "plt.figure(figsize=(15,5))\n",
    "plt.plot(Models,btrainscore,marker='*',label='Train Score')\n",
    "plt.plot(Models,btestscore,marker='o',label='Test Score')\n",
    "plt.legend(prop={'size': 12})\n",
    "plt.grid()\n",
    "plt.xticks(rotation='vertical')\n",
    "plt.title('Before PCA, ML Models Train Vs Test score comparison')\n",
    "plt.xlabel('ML Model Name')\n",
    "plt.ylabel('Accuracy')\n",
    "plt.show()"
   ]
  },
  {
   "cell_type": "markdown",
   "metadata": {},
   "source": [
    "Before PCA, we find that SVM Kernel poly was the better model with low test and train score difference."
   ]
  },
  {
   "cell_type": "markdown",
   "metadata": {},
   "source": [
    "### AFTER PCA"
   ]
  },
  {
   "cell_type": "code",
   "execution_count": 141,
   "metadata": {},
   "outputs": [
    {
     "data": {
      "image/png": "[encoded data removed]",
      "text/plain": [
       "<Figure size 1080x360 with 1 Axes>"
      ]
     },
     "metadata": {
      "needs_background": "light"
     },
     "output_type": "display_data"
    }
   ],
   "source": [
    "import matplotlib.pyplot as plt\n",
    "btrainscore=[0.9461,0.9420,0.9440,0.9440,0.9440, 0.9440,0.9400]\n",
    "                                \n",
    "btestscore =[0.9380,0.9380, 0.9380,0.9380,0.9380,0.9380,0.9340]\n",
    "Models=[\"KNN Classification\",\"Logistic Regression\",\"Linear_SVC\",\"SVC_RBF Kernel\",\"SVC_Poly Kernel\",\"Decision Tree\",\"SVC linear kernal\"]\n",
    "                   \n",
    "plt.figure(figsize=(15,5))\n",
    "plt.plot(Models,btrainscore,marker='*',label='Train Score')\n",
    "plt.plot(Models,btestscore,marker='o',label='Test Score')\n",
    "plt.legend(prop={'size': 12})\n",
    "plt.grid()\n",
    "plt.xticks(rotation='vertical')\n",
    "plt.title('Before PCA, ML Models Train Vs Test score comparison')\n",
    "plt.xlabel('ML Model Name')\n",
    "plt.ylabel('Accuracy')\n",
    "plt.show()"
   ]
  },
  {
   "cell_type": "markdown",
   "metadata": {},
   "source": [
    "After PCA was performed, we find that KNN model was better with a higher train and lower difference with test and train score"
   ]
  },
  {
   "cell_type": "markdown",
   "metadata": {},
   "source": [
    "OverAll, we find that after use of PCA on the dataset, KNN and SVC RBF have performed better than before. This is owed to the dimension reduction in the dataset."
   ]
  },
  {
   "cell_type": "markdown",
   "metadata": {},
   "source": [
    "For our dataset, we see that KNN has performed better as its accuracy and test and train core difference is less after PCA. "
   ]
  },
  {
   "cell_type": "markdown",
   "metadata": {},
   "source": [
    "BEST MODEL OVERALL:\n",
    "KNN Classifier with Train - 0.946 and test= 0.9380 and accuracy 93.80"
   ]
  },
  {
   "cell_type": "markdown",
   "metadata": {},
   "source": [
    "## Deep Learning Tasks"
   ]
  },
  {
   "cell_type": "markdown",
   "metadata": {},
   "source": [
    "### Neural Networks"
   ]
  },
  {
   "cell_type": "code",
   "execution_count": 142,
   "metadata": {},
   "outputs": [],
   "source": [
    "import tensorflow as tf\n",
    "from tensorflow.keras.models import Sequential\n",
    "from tensorflow.keras.layers import Dense\n",
    "import numpy\n",
    "\n",
    "# fix random seed for reproducibility\n",
    "numpy.random.seed(10)"
   ]
  },
  {
   "cell_type": "code",
   "execution_count": 143,
   "metadata": {},
   "outputs": [],
   "source": [
    "import tensorflow as tf"
   ]
  },
  {
   "cell_type": "code",
   "execution_count": 144,
   "metadata": {},
   "outputs": [],
   "source": [
    "model = Sequential()\n",
    "model.add(Dense(12, input_dim=43, activation='relu'))\n",
    "model.add(Dense(8, activation='relu'))\n",
    "model.add(Dense(1, activation='sigmoid'))"
   ]
  },
  {
   "cell_type": "code",
   "execution_count": 145,
   "metadata": {},
   "outputs": [],
   "source": [
    "model.compile(loss='binary_crossentropy', optimizer='adam', metrics=['accuracy'])"
   ]
  },
  {
   "cell_type": "code",
   "execution_count": 146,
   "metadata": {},
   "outputs": [],
   "source": [
    "X_train=np.asarray(X_train)\n",
    "y_train = np.asarray(y_train)\n",
    "X_test=np.asarray(X_test)\n",
    "y_test = np.asarray(y_test)"
   ]
  },
  {
   "cell_type": "code",
   "execution_count": 147,
   "metadata": {
    "scrolled": true
   },
   "outputs": [
    {
     "name": "stdout",
     "output_type": "stream",
     "text": [
      "Epoch 1/150\n",
      "97/97 [==============================] - 0s 1ms/step - loss: 0.6643 - accuracy: 0.4777\n",
      "Epoch 2/150\n",
      "97/97 [==============================] - 0s 1ms/step - loss: 0.5585 - accuracy: 0.8176\n",
      "Epoch 3/150\n",
      "97/97 [==============================] - 0s 1ms/step - loss: 0.4940 - accuracy: 0.9244\n",
      "Epoch 4/150\n",
      "97/97 [==============================] - 0s 1ms/step - loss: 0.4598 - accuracy: 0.9358\n",
      "Epoch 5/150\n",
      "97/97 [==============================] - 0s 1ms/step - loss: 0.4340 - accuracy: 0.9430\n",
      "Epoch 6/150\n",
      "97/97 [==============================] - 0s 1ms/step - loss: 0.4135 - accuracy: 0.9451\n",
      "Epoch 7/150\n",
      "97/97 [==============================] - 0s 1ms/step - loss: 0.3951 - accuracy: 0.9451\n",
      "Epoch 8/150\n",
      "97/97 [==============================] - 0s 1ms/step - loss: 0.3774 - accuracy: 0.9451\n",
      "Epoch 9/150\n",
      "97/97 [==============================] - 0s 1ms/step - loss: 0.3626 - accuracy: 0.9451\n",
      "Epoch 10/150\n",
      "97/97 [==============================] - 0s 1ms/step - loss: 0.3490 - accuracy: 0.9451\n",
      "Epoch 11/150\n",
      "97/97 [==============================] - 0s 1ms/step - loss: 0.3347 - accuracy: 0.9451\n",
      "Epoch 12/150\n",
      "97/97 [==============================] - 0s 1ms/step - loss: 0.3231 - accuracy: 0.9451\n",
      "Epoch 13/150\n",
      "97/97 [==============================] - 0s 1ms/step - loss: 0.3125 - accuracy: 0.9451\n",
      "Epoch 14/150\n",
      "97/97 [==============================] - 0s 1ms/step - loss: 0.3008 - accuracy: 0.9451\n",
      "Epoch 15/150\n",
      "97/97 [==============================] - 0s 1ms/step - loss: 0.2930 - accuracy: 0.9451\n",
      "Epoch 16/150\n",
      "97/97 [==============================] - 0s 1ms/step - loss: 0.2839 - accuracy: 0.9461\n",
      "Epoch 17/150\n",
      "97/97 [==============================] - 0s 1ms/step - loss: 0.2770 - accuracy: 0.9451\n",
      "Epoch 18/150\n",
      "97/97 [==============================] - 0s 1ms/step - loss: 0.2709 - accuracy: 0.9461\n",
      "Epoch 19/150\n",
      "97/97 [==============================] - 0s 1ms/step - loss: 0.2622 - accuracy: 0.9451\n",
      "Epoch 20/150\n",
      "97/97 [==============================] - 0s 1ms/step - loss: 0.2552 - accuracy: 0.9451\n",
      "Epoch 21/150\n",
      "97/97 [==============================] - 0s 1ms/step - loss: 0.2497 - accuracy: 0.9451\n",
      "Epoch 22/150\n",
      "97/97 [==============================] - 0s 1ms/step - loss: 0.2453 - accuracy: 0.9451\n",
      "Epoch 23/150\n",
      "97/97 [==============================] - 0s 1ms/step - loss: 0.2390 - accuracy: 0.9451\n",
      "Epoch 24/150\n",
      "97/97 [==============================] - 0s 1ms/step - loss: 0.2331 - accuracy: 0.9461\n",
      "Epoch 25/150\n",
      "97/97 [==============================] - 0s 1ms/step - loss: 0.2291 - accuracy: 0.9461\n",
      "Epoch 26/150\n",
      "97/97 [==============================] - 0s 1ms/step - loss: 0.2237 - accuracy: 0.9472\n",
      "Epoch 27/150\n",
      "97/97 [==============================] - 0s 1ms/step - loss: 0.2174 - accuracy: 0.9472\n",
      "Epoch 28/150\n",
      "97/97 [==============================] - 0s 1ms/step - loss: 0.2136 - accuracy: 0.9472\n",
      "Epoch 29/150\n",
      "97/97 [==============================] - 0s 1ms/step - loss: 0.2113 - accuracy: 0.9472\n",
      "Epoch 30/150\n",
      "97/97 [==============================] - 0s 2ms/step - loss: 0.2061 - accuracy: 0.9482\n",
      "Epoch 31/150\n",
      "97/97 [==============================] - 0s 1ms/step - loss: 0.2025 - accuracy: 0.9482\n",
      "Epoch 32/150\n",
      "97/97 [==============================] - 0s 1ms/step - loss: 0.1986 - accuracy: 0.9482\n",
      "Epoch 33/150\n",
      "97/97 [==============================] - 0s 1ms/step - loss: 0.1958 - accuracy: 0.9492\n",
      "Epoch 34/150\n",
      "97/97 [==============================] - 0s 1ms/step - loss: 0.1924 - accuracy: 0.9482\n",
      "Epoch 35/150\n",
      "97/97 [==============================] - 0s 1ms/step - loss: 0.1889 - accuracy: 0.9534\n",
      "Epoch 36/150\n",
      "97/97 [==============================] - 0s 1ms/step - loss: 0.1857 - accuracy: 0.9523\n",
      "Epoch 37/150\n",
      "97/97 [==============================] - 0s 1ms/step - loss: 0.1834 - accuracy: 0.9523\n",
      "Epoch 38/150\n",
      "97/97 [==============================] - 0s 1ms/step - loss: 0.1810 - accuracy: 0.9523\n",
      "Epoch 39/150\n",
      "97/97 [==============================] - 0s 1ms/step - loss: 0.1777 - accuracy: 0.9534\n",
      "Epoch 40/150\n",
      "97/97 [==============================] - 0s 1ms/step - loss: 0.1763 - accuracy: 0.9554\n",
      "Epoch 41/150\n",
      "97/97 [==============================] - 0s 1ms/step - loss: 0.1724 - accuracy: 0.9565\n",
      "Epoch 42/150\n",
      "97/97 [==============================] - 0s 1ms/step - loss: 0.1720 - accuracy: 0.9565\n",
      "Epoch 43/150\n",
      "97/97 [==============================] - 0s 1ms/step - loss: 0.1698 - accuracy: 0.9544\n",
      "Epoch 44/150\n",
      "97/97 [==============================] - 0s 1ms/step - loss: 0.1681 - accuracy: 0.9554\n",
      "Epoch 45/150\n",
      "97/97 [==============================] - 0s 1ms/step - loss: 0.1653 - accuracy: 0.9554\n",
      "Epoch 46/150\n",
      "97/97 [==============================] - 0s 1ms/step - loss: 0.1640 - accuracy: 0.9544\n",
      "Epoch 47/150\n",
      "97/97 [==============================] - 0s 1ms/step - loss: 0.1620 - accuracy: 0.9565\n",
      "Epoch 48/150\n",
      "97/97 [==============================] - 0s 1ms/step - loss: 0.1624 - accuracy: 0.9554\n",
      "Epoch 49/150\n",
      "97/97 [==============================] - 0s 1ms/step - loss: 0.1579 - accuracy: 0.9575\n",
      "Epoch 50/150\n",
      "97/97 [==============================] - 0s 1ms/step - loss: 0.1577 - accuracy: 0.9596\n",
      "Epoch 51/150\n",
      "97/97 [==============================] - 0s 1ms/step - loss: 0.1564 - accuracy: 0.9575\n",
      "Epoch 52/150\n",
      "97/97 [==============================] - 0s 1ms/step - loss: 0.1546 - accuracy: 0.9575\n",
      "Epoch 53/150\n",
      "97/97 [==============================] - 0s 1ms/step - loss: 0.1525 - accuracy: 0.9565\n",
      "Epoch 54/150\n",
      "97/97 [==============================] - 0s 1ms/step - loss: 0.1504 - accuracy: 0.9606\n",
      "Epoch 55/150\n",
      "97/97 [==============================] - 0s 1ms/step - loss: 0.1512 - accuracy: 0.9585\n",
      "Epoch 56/150\n",
      "97/97 [==============================] - 0s 1ms/step - loss: 0.1497 - accuracy: 0.9565\n",
      "Epoch 57/150\n",
      "97/97 [==============================] - 0s 1ms/step - loss: 0.1483 - accuracy: 0.9575\n",
      "Epoch 58/150\n",
      "97/97 [==============================] - 0s 1ms/step - loss: 0.1493 - accuracy: 0.9585\n",
      "Epoch 59/150\n",
      "97/97 [==============================] - 0s 1ms/step - loss: 0.1459 - accuracy: 0.9596\n",
      "Epoch 60/150\n",
      "97/97 [==============================] - 0s 1ms/step - loss: 0.1453 - accuracy: 0.9554\n",
      "Epoch 61/150\n",
      "97/97 [==============================] - 0s 1ms/step - loss: 0.1444 - accuracy: 0.9585\n",
      "Epoch 62/150\n",
      "97/97 [==============================] - 0s 1ms/step - loss: 0.1416 - accuracy: 0.9554\n",
      "Epoch 63/150\n",
      "97/97 [==============================] - 0s 1ms/step - loss: 0.1423 - accuracy: 0.9585\n",
      "Epoch 64/150\n",
      "97/97 [==============================] - 0s 1ms/step - loss: 0.1411 - accuracy: 0.9585\n",
      "Epoch 65/150\n",
      "97/97 [==============================] - 0s 1ms/step - loss: 0.1408 - accuracy: 0.9575\n",
      "Epoch 66/150\n",
      "97/97 [==============================] - 0s 1ms/step - loss: 0.1382 - accuracy: 0.9585\n",
      "Epoch 67/150\n",
      "97/97 [==============================] - 0s 1ms/step - loss: 0.1392 - accuracy: 0.9596\n",
      "Epoch 68/150\n",
      "97/97 [==============================] - 0s 1ms/step - loss: 0.1402 - accuracy: 0.9596\n",
      "Epoch 69/150\n",
      "97/97 [==============================] - 0s 1ms/step - loss: 0.1364 - accuracy: 0.9585\n",
      "Epoch 70/150\n",
      "97/97 [==============================] - 0s 1ms/step - loss: 0.1371 - accuracy: 0.9617\n",
      "Epoch 71/150\n",
      "97/97 [==============================] - 0s 1ms/step - loss: 0.1370 - accuracy: 0.9585\n",
      "Epoch 72/150\n",
      "97/97 [==============================] - 0s 1ms/step - loss: 0.1349 - accuracy: 0.9617\n",
      "Epoch 73/150\n",
      "97/97 [==============================] - 0s 1ms/step - loss: 0.1346 - accuracy: 0.9585\n",
      "Epoch 74/150\n",
      "97/97 [==============================] - 0s 1ms/step - loss: 0.1335 - accuracy: 0.9606\n",
      "Epoch 75/150\n",
      "97/97 [==============================] - 0s 1ms/step - loss: 0.1340 - accuracy: 0.9596\n",
      "Epoch 76/150\n",
      "97/97 [==============================] - 0s 1ms/step - loss: 0.1316 - accuracy: 0.9617\n",
      "Epoch 77/150\n",
      "97/97 [==============================] - 0s 1ms/step - loss: 0.1304 - accuracy: 0.9606\n",
      "Epoch 78/150\n",
      "97/97 [==============================] - 0s 1ms/step - loss: 0.1317 - accuracy: 0.9606\n",
      "Epoch 79/150\n",
      "97/97 [==============================] - 0s 1ms/step - loss: 0.1306 - accuracy: 0.9575\n",
      "Epoch 80/150\n",
      "97/97 [==============================] - 0s 1ms/step - loss: 0.1303 - accuracy: 0.9606\n",
      "Epoch 81/150\n",
      "97/97 [==============================] - 0s 1ms/step - loss: 0.1303 - accuracy: 0.9596\n",
      "Epoch 82/150\n",
      "97/97 [==============================] - 0s 1ms/step - loss: 0.1280 - accuracy: 0.9596\n",
      "Epoch 83/150\n",
      "97/97 [==============================] - 0s 1ms/step - loss: 0.1273 - accuracy: 0.9617\n",
      "Epoch 84/150\n",
      "97/97 [==============================] - 0s 1ms/step - loss: 0.1266 - accuracy: 0.9596\n",
      "Epoch 85/150\n",
      "97/97 [==============================] - 0s 1ms/step - loss: 0.1257 - accuracy: 0.9606\n",
      "Epoch 86/150\n",
      "97/97 [==============================] - 0s 1ms/step - loss: 0.1267 - accuracy: 0.9606\n",
      "Epoch 87/150\n",
      "97/97 [==============================] - 0s 1ms/step - loss: 0.1257 - accuracy: 0.9617\n",
      "Epoch 88/150\n",
      "97/97 [==============================] - 0s 1ms/step - loss: 0.1236 - accuracy: 0.9617\n",
      "Epoch 89/150\n",
      "97/97 [==============================] - 0s 1ms/step - loss: 0.1258 - accuracy: 0.9617\n",
      "Epoch 90/150\n",
      "97/97 [==============================] - 0s 1ms/step - loss: 0.1240 - accuracy: 0.9627\n",
      "Epoch 91/150\n",
      "97/97 [==============================] - 0s 1ms/step - loss: 0.1238 - accuracy: 0.9606\n",
      "Epoch 92/150\n",
      "97/97 [==============================] - 0s 1ms/step - loss: 0.1241 - accuracy: 0.9627\n",
      "Epoch 93/150\n",
      "97/97 [==============================] - 0s 1ms/step - loss: 0.1230 - accuracy: 0.9606\n",
      "Epoch 94/150\n",
      "97/97 [==============================] - 0s 1ms/step - loss: 0.1213 - accuracy: 0.9617\n",
      "Epoch 95/150\n",
      "97/97 [==============================] - 0s 1ms/step - loss: 0.1231 - accuracy: 0.9627\n",
      "Epoch 96/150\n",
      "97/97 [==============================] - 0s 1ms/step - loss: 0.1200 - accuracy: 0.9627\n",
      "Epoch 97/150\n",
      "97/97 [==============================] - 0s 1ms/step - loss: 0.1200 - accuracy: 0.9627\n",
      "Epoch 98/150\n",
      "97/97 [==============================] - 0s 1ms/step - loss: 0.1212 - accuracy: 0.9627\n",
      "Epoch 99/150\n",
      "97/97 [==============================] - 0s 1ms/step - loss: 0.1198 - accuracy: 0.9575\n",
      "Epoch 100/150\n",
      "97/97 [==============================] - 0s 1ms/step - loss: 0.1188 - accuracy: 0.9596\n",
      "Epoch 101/150\n",
      "97/97 [==============================] - 0s 1ms/step - loss: 0.1200 - accuracy: 0.9627\n",
      "Epoch 102/150\n",
      "97/97 [==============================] - 0s 1ms/step - loss: 0.1191 - accuracy: 0.9617\n",
      "Epoch 103/150\n",
      "97/97 [==============================] - 0s 1ms/step - loss: 0.1184 - accuracy: 0.9637\n",
      "Epoch 104/150\n",
      "97/97 [==============================] - 0s 1ms/step - loss: 0.1169 - accuracy: 0.9627\n",
      "Epoch 105/150\n",
      "97/97 [==============================] - 0s 1ms/step - loss: 0.1166 - accuracy: 0.9596\n",
      "Epoch 106/150\n",
      "97/97 [==============================] - 0s 1ms/step - loss: 0.1155 - accuracy: 0.9627\n",
      "Epoch 107/150\n",
      "97/97 [==============================] - 0s 1ms/step - loss: 0.1157 - accuracy: 0.9606\n",
      "Epoch 108/150\n",
      "97/97 [==============================] - 0s 1ms/step - loss: 0.1154 - accuracy: 0.9606\n",
      "Epoch 109/150\n",
      "97/97 [==============================] - 0s 1ms/step - loss: 0.1153 - accuracy: 0.9617\n",
      "Epoch 110/150\n",
      "97/97 [==============================] - 0s 1ms/step - loss: 0.1160 - accuracy: 0.9637\n",
      "Epoch 111/150\n",
      "97/97 [==============================] - 0s 1ms/step - loss: 0.1134 - accuracy: 0.9637\n",
      "Epoch 112/150\n",
      "97/97 [==============================] - 0s 1ms/step - loss: 0.1143 - accuracy: 0.9627\n",
      "Epoch 113/150\n",
      "97/97 [==============================] - 0s 1ms/step - loss: 0.1121 - accuracy: 0.9617\n",
      "Epoch 114/150\n",
      "97/97 [==============================] - 0s 1ms/step - loss: 0.1119 - accuracy: 0.9627\n",
      "Epoch 115/150\n",
      "97/97 [==============================] - 0s 1ms/step - loss: 0.1135 - accuracy: 0.9627\n",
      "Epoch 116/150\n",
      "97/97 [==============================] - 0s 1ms/step - loss: 0.1109 - accuracy: 0.9648\n",
      "Epoch 117/150\n",
      "97/97 [==============================] - 0s 1ms/step - loss: 0.1137 - accuracy: 0.9606\n",
      "Epoch 118/150\n",
      "97/97 [==============================] - 0s 1ms/step - loss: 0.1121 - accuracy: 0.9637\n",
      "Epoch 119/150\n",
      "97/97 [==============================] - 0s 1ms/step - loss: 0.1098 - accuracy: 0.9637\n",
      "Epoch 120/150\n",
      "97/97 [==============================] - 0s 1ms/step - loss: 0.1103 - accuracy: 0.9648\n",
      "Epoch 121/150\n",
      "97/97 [==============================] - 0s 1ms/step - loss: 0.1093 - accuracy: 0.9648\n",
      "Epoch 122/150\n",
      "97/97 [==============================] - 0s 1ms/step - loss: 0.1108 - accuracy: 0.9648\n",
      "Epoch 123/150\n",
      "97/97 [==============================] - 0s 1ms/step - loss: 0.1088 - accuracy: 0.9637\n",
      "Epoch 124/150\n",
      "97/97 [==============================] - 0s 1ms/step - loss: 0.1084 - accuracy: 0.9658\n",
      "Epoch 125/150\n",
      "97/97 [==============================] - 0s 1ms/step - loss: 0.1080 - accuracy: 0.9637\n",
      "Epoch 126/150\n",
      "97/97 [==============================] - 0s 1ms/step - loss: 0.1087 - accuracy: 0.9648\n",
      "Epoch 127/150\n",
      "97/97 [==============================] - 0s 1ms/step - loss: 0.1067 - accuracy: 0.9668\n",
      "Epoch 128/150\n",
      "97/97 [==============================] - 0s 1ms/step - loss: 0.1065 - accuracy: 0.9679\n",
      "Epoch 129/150\n",
      "97/97 [==============================] - 0s 1ms/step - loss: 0.1071 - accuracy: 0.9648\n",
      "Epoch 130/150\n",
      "97/97 [==============================] - 0s 1ms/step - loss: 0.1057 - accuracy: 0.9658\n",
      "Epoch 131/150\n",
      "97/97 [==============================] - 0s 1ms/step - loss: 0.1044 - accuracy: 0.9679\n",
      "Epoch 132/150\n",
      "97/97 [==============================] - 0s 1ms/step - loss: 0.1057 - accuracy: 0.9648\n",
      "Epoch 133/150\n",
      "97/97 [==============================] - 0s 1ms/step - loss: 0.1049 - accuracy: 0.9668\n",
      "Epoch 134/150\n",
      "97/97 [==============================] - 0s 1ms/step - loss: 0.1038 - accuracy: 0.9668\n",
      "Epoch 135/150\n",
      "97/97 [==============================] - 0s 1ms/step - loss: 0.1041 - accuracy: 0.9648\n",
      "Epoch 136/150\n",
      "97/97 [==============================] - 0s 1ms/step - loss: 0.1036 - accuracy: 0.9658\n",
      "Epoch 137/150\n",
      "97/97 [==============================] - 0s 1ms/step - loss: 0.1026 - accuracy: 0.9710\n",
      "Epoch 138/150\n",
      "97/97 [==============================] - 0s 1ms/step - loss: 0.1023 - accuracy: 0.9648\n",
      "Epoch 139/150\n",
      "97/97 [==============================] - 0s 1ms/step - loss: 0.1014 - accuracy: 0.9689\n",
      "Epoch 140/150\n",
      "97/97 [==============================] - 0s 1ms/step - loss: 0.1050 - accuracy: 0.9658\n",
      "Epoch 141/150\n",
      "97/97 [==============================] - 0s 1ms/step - loss: 0.1009 - accuracy: 0.9668\n",
      "Epoch 142/150\n",
      "97/97 [==============================] - 0s 1ms/step - loss: 0.1020 - accuracy: 0.9658\n",
      "Epoch 143/150\n",
      "97/97 [==============================] - 0s 1ms/step - loss: 0.1001 - accuracy: 0.9668\n",
      "Epoch 144/150\n",
      "97/97 [==============================] - 0s 1ms/step - loss: 0.0989 - accuracy: 0.9699\n",
      "Epoch 145/150\n",
      "97/97 [==============================] - 0s 1ms/step - loss: 0.1001 - accuracy: 0.9679\n",
      "Epoch 146/150\n",
      "97/97 [==============================] - 0s 1ms/step - loss: 0.0999 - accuracy: 0.9668\n",
      "Epoch 147/150\n",
      "97/97 [==============================] - 0s 1ms/step - loss: 0.0989 - accuracy: 0.9679\n",
      "Epoch 148/150\n",
      "97/97 [==============================] - 0s 1ms/step - loss: 0.0994 - accuracy: 0.9658\n",
      "Epoch 149/150\n",
      "97/97 [==============================] - 0s 1ms/step - loss: 0.0973 - accuracy: 0.9699\n",
      "Epoch 150/150\n",
      "97/97 [==============================] - 0s 1ms/step - loss: 0.0987 - accuracy: 0.9689\n"
     ]
    }
   ],
   "source": [
    "from tensorflow import keras\n",
    "neural_model=model.fit(X_train, y_train, epochs=150,batch_size=10)"
   ]
  },
  {
   "cell_type": "markdown",
   "metadata": {},
   "source": [
    "evaluate the model"
   ]
  },
  {
   "cell_type": "code",
   "execution_count": 148,
   "metadata": {},
   "outputs": [
    {
     "name": "stdout",
     "output_type": "stream",
     "text": [
      "8/8 [==============================] - 0s 876us/step - loss: 0.3090 - accuracy: 0.9298\n",
      "\n",
      "accuracy: 92.98%\n"
     ]
    }
   ],
   "source": [
    "scores = model.evaluate(X_test, y_test)\n",
    "print(\"\\n%s: %.2f%%\" % (model.metrics_names[1], scores[1]*100))"
   ]
  },
  {
   "cell_type": "markdown",
   "metadata": {},
   "source": [
    "### Single Layer Perceptron"
   ]
  },
  {
   "cell_type": "code",
   "execution_count": 149,
   "metadata": {},
   "outputs": [],
   "source": [
    "def create_model():\n",
    "    #step 1: build model\n",
    "    model = Sequential()\n",
    "    #input layer\n",
    "    model.add(Dense(12, input_dim = 43, activation = 'relu'))\n",
    "    #hidden layers\n",
    "    #output layer\n",
    "    model.add(Dense(1, activation = 'sigmoid'))\n",
    "    #step 2: make computational graph - compile\n",
    "    model.compile(loss= 'binary_crossentropy' , optimizer = 'adam',metrics = ['accuracy'] )\n",
    "    return model"
   ]
  },
  {
   "cell_type": "code",
   "execution_count": 150,
   "metadata": {},
   "outputs": [],
   "source": [
    "seed = 10\n",
    "np.random.seed(10)"
   ]
  },
  {
   "cell_type": "code",
   "execution_count": 151,
   "metadata": {},
   "outputs": [],
   "source": [
    "import tensorflow as tf\n",
    "from tensorflow import keras\n",
    "from tensorflow.keras import Sequential\n",
    "from tensorflow.keras.layers import Dense\n",
    "from keras.wrappers.scikit_learn import KerasClassifier\n",
    "from sklearn.model_selection import GridSearchCV\n",
    "\n",
    "model = KerasClassifier(build_fn = create_model, verbose = 0)\n",
    "\n",
    "param_grid = {'batch_size':[10,30,40] , 'epochs':[50, 100]}\n",
    "grid_search = GridSearchCV(estimator= model, param_grid = param_grid, cv = 5)"
   ]
  },
  {
   "cell_type": "code",
   "execution_count": 152,
   "metadata": {},
   "outputs": [],
   "source": [
    "grid_search_result = grid_search.fit(X_train, y_train)"
   ]
  },
  {
   "cell_type": "code",
   "execution_count": 153,
   "metadata": {},
   "outputs": [
    {
     "name": "stdout",
     "output_type": "stream",
     "text": [
      "Best parameters: {'batch_size': 40, 'epochs': 50}\n",
      "Best cross-validation score: 0.95\n"
     ]
    }
   ],
   "source": [
    "print(\"Best parameters: {}\".format(grid_search.best_params_))\n",
    "print(\"Best cross-validation score: {:.2f}\".format(grid_search.best_score_))"
   ]
  },
  {
   "cell_type": "code",
   "execution_count": 154,
   "metadata": {},
   "outputs": [],
   "source": [
    "#step 1: build model\n",
    "model1 = Sequential()\n",
    "#input layer\n",
    "model1.add(Dense(12, input_dim = 43, activation = 'relu'))\n",
    "#hidden layers\n",
    "#output layer\n",
    "model1.add(Dense(1, activation = 'sigmoid'))\n",
    "#step 2: make computational graph - compile\n",
    "model1.compile(loss= 'binary_crossentropy' , optimizer = 'adam',metrics = ['accuracy'] )"
   ]
  },
  {
   "cell_type": "code",
   "execution_count": 155,
   "metadata": {},
   "outputs": [
    {
     "name": "stdout",
     "output_type": "stream",
     "text": [
      "Epoch 1/100\n",
      "33/33 [==============================] - 0s 997us/step - loss: 0.7132 - accuracy: 0.5824\n",
      "Epoch 2/100\n",
      "33/33 [==============================] - 0s 1ms/step - loss: 0.6381 - accuracy: 0.6456\n",
      "Epoch 3/100\n",
      "33/33 [==============================] - 0s 1ms/step - loss: 0.5715 - accuracy: 0.7254\n",
      "Epoch 4/100\n",
      "33/33 [==============================] - 0s 1ms/step - loss: 0.5078 - accuracy: 0.8093\n",
      "Epoch 5/100\n",
      "33/33 [==============================] - 0s 1ms/step - loss: 0.4451 - accuracy: 0.8570\n",
      "Epoch 6/100\n",
      "33/33 [==============================] - 0s 1ms/step - loss: 0.3805 - accuracy: 0.8902\n",
      "Epoch 7/100\n",
      "33/33 [==============================] - 0s 1ms/step - loss: 0.3227 - accuracy: 0.9130\n",
      "Epoch 8/100\n",
      "33/33 [==============================] - 0s 1ms/step - loss: 0.2798 - accuracy: 0.9233\n",
      "Epoch 9/100\n",
      "33/33 [==============================] - 0s 1ms/step - loss: 0.2519 - accuracy: 0.9275\n",
      "Epoch 10/100\n",
      "33/33 [==============================] - 0s 1ms/step - loss: 0.2322 - accuracy: 0.9306\n",
      "Epoch 11/100\n",
      "33/33 [==============================] - 0s 1ms/step - loss: 0.2194 - accuracy: 0.9358\n",
      "Epoch 12/100\n",
      "33/33 [==============================] - 0s 1ms/step - loss: 0.2101 - accuracy: 0.9409\n",
      "Epoch 13/100\n",
      "33/33 [==============================] - 0s 1ms/step - loss: 0.2016 - accuracy: 0.9451\n",
      "Epoch 14/100\n",
      "33/33 [==============================] - 0s 1ms/step - loss: 0.1964 - accuracy: 0.9451\n",
      "Epoch 15/100\n",
      "33/33 [==============================] - 0s 1ms/step - loss: 0.1934 - accuracy: 0.9440\n",
      "Epoch 16/100\n",
      "33/33 [==============================] - 0s 1ms/step - loss: 0.1895 - accuracy: 0.9451\n",
      "Epoch 17/100\n",
      "33/33 [==============================] - 0s 1ms/step - loss: 0.1867 - accuracy: 0.9461\n",
      "Epoch 18/100\n",
      "33/33 [==============================] - 0s 1ms/step - loss: 0.1842 - accuracy: 0.9451\n",
      "Epoch 19/100\n",
      "33/33 [==============================] - 0s 1ms/step - loss: 0.1827 - accuracy: 0.9451\n",
      "Epoch 20/100\n",
      "33/33 [==============================] - 0s 1ms/step - loss: 0.1816 - accuracy: 0.9461\n",
      "Epoch 21/100\n",
      "33/33 [==============================] - 0s 1ms/step - loss: 0.1794 - accuracy: 0.9451\n",
      "Epoch 22/100\n",
      "33/33 [==============================] - 0s 1ms/step - loss: 0.1789 - accuracy: 0.9451\n",
      "Epoch 23/100\n",
      "33/33 [==============================] - 0s 1ms/step - loss: 0.1768 - accuracy: 0.9440\n",
      "Epoch 24/100\n",
      "33/33 [==============================] - 0s 1ms/step - loss: 0.1765 - accuracy: 0.9451\n",
      "Epoch 25/100\n",
      "33/33 [==============================] - 0s 1ms/step - loss: 0.1752 - accuracy: 0.9461\n",
      "Epoch 26/100\n",
      "33/33 [==============================] - 0s 1ms/step - loss: 0.1738 - accuracy: 0.9472\n",
      "Epoch 27/100\n",
      "33/33 [==============================] - 0s 1ms/step - loss: 0.1741 - accuracy: 0.9482\n",
      "Epoch 28/100\n",
      "33/33 [==============================] - 0s 1ms/step - loss: 0.1720 - accuracy: 0.9472\n",
      "Epoch 29/100\n",
      "33/33 [==============================] - 0s 1ms/step - loss: 0.1719 - accuracy: 0.9461\n",
      "Epoch 30/100\n",
      "33/33 [==============================] - 0s 1ms/step - loss: 0.1702 - accuracy: 0.9482\n",
      "Epoch 31/100\n",
      "33/33 [==============================] - 0s 1ms/step - loss: 0.1701 - accuracy: 0.9482\n",
      "Epoch 32/100\n",
      "33/33 [==============================] - 0s 1ms/step - loss: 0.1694 - accuracy: 0.9472\n",
      "Epoch 33/100\n",
      "33/33 [==============================] - 0s 1ms/step - loss: 0.1680 - accuracy: 0.9482\n",
      "Epoch 34/100\n",
      "33/33 [==============================] - 0s 1ms/step - loss: 0.1669 - accuracy: 0.9482\n",
      "Epoch 35/100\n",
      "33/33 [==============================] - 0s 1ms/step - loss: 0.1659 - accuracy: 0.9482\n",
      "Epoch 36/100\n",
      "33/33 [==============================] - 0s 1ms/step - loss: 0.1652 - accuracy: 0.9482\n",
      "Epoch 37/100\n",
      "33/33 [==============================] - 0s 1ms/step - loss: 0.1648 - accuracy: 0.9482\n",
      "Epoch 38/100\n",
      "33/33 [==============================] - 0s 1ms/step - loss: 0.1640 - accuracy: 0.9482\n",
      "Epoch 39/100\n",
      "33/33 [==============================] - 0s 1ms/step - loss: 0.1634 - accuracy: 0.9482\n",
      "Epoch 40/100\n",
      "33/33 [==============================] - 0s 1ms/step - loss: 0.1627 - accuracy: 0.9482\n",
      "Epoch 41/100\n",
      "33/33 [==============================] - 0s 1ms/step - loss: 0.1619 - accuracy: 0.9482\n",
      "Epoch 42/100\n",
      "33/33 [==============================] - 0s 1ms/step - loss: 0.1615 - accuracy: 0.9482\n",
      "Epoch 43/100\n",
      "33/33 [==============================] - 0s 1ms/step - loss: 0.1614 - accuracy: 0.9482\n",
      "Epoch 44/100\n",
      "33/33 [==============================] - 0s 1ms/step - loss: 0.1602 - accuracy: 0.9492\n",
      "Epoch 45/100\n",
      "33/33 [==============================] - 0s 1ms/step - loss: 0.1600 - accuracy: 0.9482\n",
      "Epoch 46/100\n",
      "33/33 [==============================] - 0s 1ms/step - loss: 0.1591 - accuracy: 0.9482\n",
      "Epoch 47/100\n",
      "33/33 [==============================] - 0s 1ms/step - loss: 0.1583 - accuracy: 0.9492\n",
      "Epoch 48/100\n",
      "33/33 [==============================] - 0s 1ms/step - loss: 0.1578 - accuracy: 0.9492\n",
      "Epoch 49/100\n",
      "33/33 [==============================] - 0s 1ms/step - loss: 0.1583 - accuracy: 0.9492\n",
      "Epoch 50/100\n",
      "33/33 [==============================] - 0s 1ms/step - loss: 0.1577 - accuracy: 0.9482\n",
      "Epoch 51/100\n",
      "33/33 [==============================] - 0s 1ms/step - loss: 0.1567 - accuracy: 0.9482\n",
      "Epoch 52/100\n",
      "33/33 [==============================] - 0s 1ms/step - loss: 0.1563 - accuracy: 0.9492\n",
      "Epoch 53/100\n",
      "33/33 [==============================] - 0s 1ms/step - loss: 0.1563 - accuracy: 0.9482\n",
      "Epoch 54/100\n",
      "33/33 [==============================] - 0s 1ms/step - loss: 0.1550 - accuracy: 0.9472\n",
      "Epoch 55/100\n",
      "33/33 [==============================] - 0s 1ms/step - loss: 0.1548 - accuracy: 0.9492\n",
      "Epoch 56/100\n",
      "33/33 [==============================] - 0s 1ms/step - loss: 0.1548 - accuracy: 0.9492\n",
      "Epoch 57/100\n",
      "33/33 [==============================] - 0s 1ms/step - loss: 0.1539 - accuracy: 0.9492\n",
      "Epoch 58/100\n",
      "33/33 [==============================] - 0s 1ms/step - loss: 0.1540 - accuracy: 0.9492\n",
      "Epoch 59/100\n",
      "33/33 [==============================] - 0s 1ms/step - loss: 0.1533 - accuracy: 0.9482\n",
      "Epoch 60/100\n",
      "33/33 [==============================] - 0s 1ms/step - loss: 0.1530 - accuracy: 0.9492\n",
      "Epoch 61/100\n",
      "33/33 [==============================] - 0s 1ms/step - loss: 0.1523 - accuracy: 0.9492\n",
      "Epoch 62/100\n",
      "33/33 [==============================] - 0s 1ms/step - loss: 0.1521 - accuracy: 0.9492\n",
      "Epoch 63/100\n",
      "33/33 [==============================] - 0s 1ms/step - loss: 0.1517 - accuracy: 0.9492\n",
      "Epoch 64/100\n",
      "33/33 [==============================] - 0s 1ms/step - loss: 0.1514 - accuracy: 0.9492\n",
      "Epoch 65/100\n",
      "33/33 [==============================] - 0s 1ms/step - loss: 0.1511 - accuracy: 0.9482\n",
      "Epoch 66/100\n",
      "33/33 [==============================] - 0s 1ms/step - loss: 0.1505 - accuracy: 0.9492\n",
      "Epoch 67/100\n",
      "33/33 [==============================] - 0s 1ms/step - loss: 0.1499 - accuracy: 0.9492\n",
      "Epoch 68/100\n",
      "33/33 [==============================] - 0s 1ms/step - loss: 0.1497 - accuracy: 0.9492\n",
      "Epoch 69/100\n",
      "33/33 [==============================] - 0s 1ms/step - loss: 0.1496 - accuracy: 0.9523\n",
      "Epoch 70/100\n",
      "33/33 [==============================] - 0s 1ms/step - loss: 0.1496 - accuracy: 0.9523\n",
      "Epoch 71/100\n",
      "33/33 [==============================] - 0s 1ms/step - loss: 0.1485 - accuracy: 0.9503\n",
      "Epoch 72/100\n",
      "33/33 [==============================] - 0s 1ms/step - loss: 0.1487 - accuracy: 0.9492\n",
      "Epoch 73/100\n",
      "33/33 [==============================] - 0s 1ms/step - loss: 0.1481 - accuracy: 0.9503\n",
      "Epoch 74/100\n",
      "33/33 [==============================] - 0s 1ms/step - loss: 0.1483 - accuracy: 0.9523\n",
      "Epoch 75/100\n",
      "33/33 [==============================] - 0s 1ms/step - loss: 0.1474 - accuracy: 0.9523\n",
      "Epoch 76/100\n",
      "33/33 [==============================] - 0s 1ms/step - loss: 0.1473 - accuracy: 0.9513\n",
      "Epoch 77/100\n",
      "33/33 [==============================] - 0s 1ms/step - loss: 0.1473 - accuracy: 0.9513\n",
      "Epoch 78/100\n",
      "33/33 [==============================] - 0s 1ms/step - loss: 0.1466 - accuracy: 0.9503\n",
      "Epoch 79/100\n",
      "33/33 [==============================] - 0s 1ms/step - loss: 0.1462 - accuracy: 0.9513\n",
      "Epoch 80/100\n",
      "33/33 [==============================] - 0s 1ms/step - loss: 0.1461 - accuracy: 0.9523\n",
      "Epoch 81/100\n",
      "33/33 [==============================] - 0s 1ms/step - loss: 0.1457 - accuracy: 0.9534\n",
      "Epoch 82/100\n",
      "33/33 [==============================] - 0s 1ms/step - loss: 0.1454 - accuracy: 0.9534\n",
      "Epoch 83/100\n",
      "33/33 [==============================] - 0s 1ms/step - loss: 0.1457 - accuracy: 0.9523\n",
      "Epoch 84/100\n",
      "33/33 [==============================] - 0s 1ms/step - loss: 0.1451 - accuracy: 0.9534\n",
      "Epoch 85/100\n",
      "33/33 [==============================] - 0s 1ms/step - loss: 0.1453 - accuracy: 0.9513\n",
      "Epoch 86/100\n",
      "33/33 [==============================] - 0s 1ms/step - loss: 0.1444 - accuracy: 0.9534\n",
      "Epoch 87/100\n",
      "33/33 [==============================] - 0s 1ms/step - loss: 0.1446 - accuracy: 0.9534\n",
      "Epoch 88/100\n",
      "33/33 [==============================] - 0s 1ms/step - loss: 0.1440 - accuracy: 0.9534\n",
      "Epoch 89/100\n",
      "33/33 [==============================] - 0s 1ms/step - loss: 0.1434 - accuracy: 0.9534\n",
      "Epoch 90/100\n",
      "33/33 [==============================] - 0s 1ms/step - loss: 0.1432 - accuracy: 0.9534\n",
      "Epoch 91/100\n",
      "33/33 [==============================] - 0s 1ms/step - loss: 0.1427 - accuracy: 0.9544\n",
      "Epoch 92/100\n",
      "33/33 [==============================] - 0s 1ms/step - loss: 0.1427 - accuracy: 0.9534\n",
      "Epoch 93/100\n",
      "33/33 [==============================] - 0s 1ms/step - loss: 0.1424 - accuracy: 0.9544\n",
      "Epoch 94/100\n",
      "33/33 [==============================] - 0s 1ms/step - loss: 0.1429 - accuracy: 0.9513\n",
      "Epoch 95/100\n",
      "33/33 [==============================] - 0s 1ms/step - loss: 0.1421 - accuracy: 0.9544\n",
      "Epoch 96/100\n",
      "33/33 [==============================] - 0s 1ms/step - loss: 0.1420 - accuracy: 0.9523\n",
      "Epoch 97/100\n",
      "33/33 [==============================] - 0s 1ms/step - loss: 0.1417 - accuracy: 0.9544\n",
      "Epoch 98/100\n",
      "33/33 [==============================] - 0s 1ms/step - loss: 0.1424 - accuracy: 0.9534\n",
      "Epoch 99/100\n",
      "33/33 [==============================] - 0s 1ms/step - loss: 0.1412 - accuracy: 0.9534\n",
      "Epoch 100/100\n",
      "33/33 [==============================] - 0s 1ms/step - loss: 0.1406 - accuracy: 0.9544\n"
     ]
    },
    {
     "data": {
      "text/plain": [
       "<tensorflow.python.keras.callbacks.History at 0x1d1fc094888>"
      ]
     },
     "execution_count": 155,
     "metadata": {},
     "output_type": "execute_result"
    }
   ],
   "source": [
    "# Fit the model\n",
    "model1.fit(X_train, y_train, epochs=100, batch_size=30)"
   ]
  },
  {
   "cell_type": "markdown",
   "metadata": {},
   "source": [
    "### Evaluation Metrics"
   ]
  },
  {
   "cell_type": "code",
   "execution_count": 156,
   "metadata": {},
   "outputs": [
    {
     "name": "stdout",
     "output_type": "stream",
     "text": [
      " 1/31 [..............................] - ETA: 0s - loss: 0.1076 - accuracy: 0.9688WARNING:tensorflow:Callbacks method `on_test_batch_end` is slow compared to the batch time (batch time: 0.0000s vs `on_test_batch_end` time: 0.0010s). Check your callbacks.\n",
      "31/31 [==============================] - 0s 837us/step - loss: 0.1397 - accuracy: 0.9544\n"
     ]
    },
    {
     "data": {
      "text/plain": [
       "[0.13971954584121704, 0.9544041156768799]"
      ]
     },
     "execution_count": 156,
     "metadata": {},
     "output_type": "execute_result"
    }
   ],
   "source": [
    "model1.evaluate(X_train, y_train)"
   ]
  },
  {
   "cell_type": "code",
   "execution_count": 157,
   "metadata": {},
   "outputs": [
    {
     "name": "stdout",
     "output_type": "stream",
     "text": [
      "8/8 [==============================] - 0s 997us/step - loss: 0.2075 - accuracy: 0.9380\n"
     ]
    },
    {
     "data": {
      "text/plain": [
       "[0.2074800431728363, 0.9380165338516235]"
      ]
     },
     "execution_count": 157,
     "metadata": {},
     "output_type": "execute_result"
    }
   ],
   "source": [
    "model1.evaluate(X_test, y_test)"
   ]
  },
  {
   "cell_type": "markdown",
   "metadata": {},
   "source": [
    "#### Prediction Score"
   ]
  },
  {
   "cell_type": "code",
   "execution_count": 158,
   "metadata": {},
   "outputs": [],
   "source": [
    "import tensorflow as tf \n",
    "import logging\n",
    "tf.get_logger().setLevel(logging.ERROR)\n",
    "train_pred=model1.predict_classes(X_train)\n",
    "pred=model1.predict_classes(X_test)"
   ]
  },
  {
   "cell_type": "code",
   "execution_count": 159,
   "metadata": {},
   "outputs": [
    {
     "name": "stdout",
     "output_type": "stream",
     "text": [
      "train 0.9257425742574258\n",
      "test 0.9042553191489362\n"
     ]
    }
   ],
   "source": [
    "from sklearn.metrics import precision_score\n",
    "print(\"train\",precision_score(y_train, train_pred))\n",
    "print(\"test\",precision_score(y_test,pred))"
   ]
  },
  {
   "cell_type": "markdown",
   "metadata": {},
   "source": [
    "# 2.Multi-Level Perceptron"
   ]
  },
  {
   "cell_type": "code",
   "execution_count": 160,
   "metadata": {},
   "outputs": [],
   "source": [
    "def create_model1():\n",
    "    #step 1: build model\n",
    "    model1 = Sequential()\n",
    "    #input layer\n",
    "    model1.add(Dense(30, input_dim = 76, activation = 'relu'))\n",
    "    #hidden layers\n",
    "    model1.add(Dense(20, activation = 'relu'))\n",
    "    model1.add(Dense(10, activation = 'relu'))\n",
    "    #output layer\n",
    "    model1.add(Dense(1, activation = 'sigmoid'))\n",
    "\n",
    "    #step 2: make computational graph - compile\n",
    "    model1.compile(loss= 'binary_crossentropy' , optimizer = 'adam',metrics = ['accuracy'] )\n",
    "    return model1"
   ]
  },
  {
   "cell_type": "code",
   "execution_count": 161,
   "metadata": {},
   "outputs": [],
   "source": [
    "from sklearn.model_selection import GridSearchCV\n",
    "\n",
    "model = KerasClassifier(build_fn = create_model, verbose = 0)\n",
    "\n",
    "param_grid = {'batch_size':[10,30,40] , 'epochs':[50, 100]}\n",
    "grid_search = GridSearchCV(estimator= model, param_grid = param_grid, cv = 5)"
   ]
  },
  {
   "cell_type": "code",
   "execution_count": 162,
   "metadata": {},
   "outputs": [],
   "source": [
    "grid_search_result = grid_search.fit(X_train, y_train)"
   ]
  },
  {
   "cell_type": "code",
   "execution_count": 163,
   "metadata": {},
   "outputs": [
    {
     "name": "stdout",
     "output_type": "stream",
     "text": [
      "Best parameters: {'batch_size': 40, 'epochs': 50}\n",
      "Best cross-validation score: 0.95\n"
     ]
    }
   ],
   "source": [
    "print(\"Best parameters: {}\".format(grid_search.best_params_))\n",
    "print(\"Best cross-validation score: {:.2f}\".format(grid_search.best_score_))"
   ]
  },
  {
   "cell_type": "code",
   "execution_count": 164,
   "metadata": {},
   "outputs": [],
   "source": [
    "#step 1: build model\n",
    "model1 = Sequential()\n",
    "#input layer\n",
    "model1.add(Dense(30, input_dim = 43, activation = 'relu'))\n",
    "#hidden layers\n",
    "model1.add(Dense(20, activation = 'relu'))\n",
    "model1.add(Dense(10, activation = 'relu'))\n",
    "#output layer\n",
    "model1.add(Dense(1, activation = 'sigmoid'))\n",
    "\n",
    "#step 2: make computational graph - compile\n",
    "model1.compile(loss= 'binary_crossentropy' , optimizer = 'adam',metrics = ['accuracy'] )"
   ]
  },
  {
   "cell_type": "code",
   "execution_count": 165,
   "metadata": {},
   "outputs": [
    {
     "name": "stdout",
     "output_type": "stream",
     "text": [
      "Epoch 1/100\n",
      "33/33 [==============================] - 0s 1ms/step - loss: 0.6818 - accuracy: 0.5399\n",
      "Epoch 2/100\n",
      "33/33 [==============================] - 0s 1ms/step - loss: 0.5995 - accuracy: 0.6508\n",
      "Epoch 3/100\n",
      "33/33 [==============================] - 0s 1ms/step - loss: 0.4570 - accuracy: 0.8902\n",
      "Epoch 4/100\n",
      "33/33 [==============================] - 0s 1ms/step - loss: 0.2822 - accuracy: 0.9347\n",
      "Epoch 5/100\n",
      "33/33 [==============================] - 0s 1ms/step - loss: 0.2148 - accuracy: 0.9430\n",
      "Epoch 6/100\n",
      "33/33 [==============================] - 0s 1ms/step - loss: 0.1988 - accuracy: 0.9430\n",
      "Epoch 7/100\n",
      "33/33 [==============================] - 0s 1ms/step - loss: 0.1877 - accuracy: 0.9451\n",
      "Epoch 8/100\n",
      "33/33 [==============================] - 0s 1ms/step - loss: 0.1799 - accuracy: 0.9461\n",
      "Epoch 9/100\n",
      "33/33 [==============================] - 0s 1ms/step - loss: 0.1761 - accuracy: 0.9451\n",
      "Epoch 10/100\n",
      "33/33 [==============================] - 0s 1ms/step - loss: 0.1717 - accuracy: 0.9451\n",
      "Epoch 11/100\n",
      "33/33 [==============================] - 0s 1ms/step - loss: 0.1709 - accuracy: 0.9472\n",
      "Epoch 12/100\n",
      "33/33 [==============================] - 0s 1ms/step - loss: 0.1644 - accuracy: 0.9513\n",
      "Epoch 13/100\n",
      "33/33 [==============================] - 0s 1ms/step - loss: 0.1617 - accuracy: 0.9482\n",
      "Epoch 14/100\n",
      "33/33 [==============================] - 0s 1ms/step - loss: 0.1589 - accuracy: 0.9513\n",
      "Epoch 15/100\n",
      "33/33 [==============================] - 0s 1ms/step - loss: 0.1569 - accuracy: 0.9554\n",
      "Epoch 16/100\n",
      "33/33 [==============================] - 0s 1ms/step - loss: 0.1550 - accuracy: 0.9523\n",
      "Epoch 17/100\n",
      "33/33 [==============================] - 0s 1ms/step - loss: 0.1528 - accuracy: 0.9534\n",
      "Epoch 18/100\n",
      "33/33 [==============================] - 0s 1ms/step - loss: 0.1488 - accuracy: 0.9575\n",
      "Epoch 19/100\n",
      "33/33 [==============================] - 0s 1ms/step - loss: 0.1475 - accuracy: 0.9534\n",
      "Epoch 20/100\n",
      "33/33 [==============================] - 0s 1ms/step - loss: 0.1452 - accuracy: 0.9534\n",
      "Epoch 21/100\n",
      "33/33 [==============================] - 0s 1ms/step - loss: 0.1442 - accuracy: 0.9565\n",
      "Epoch 22/100\n",
      "33/33 [==============================] - 0s 1ms/step - loss: 0.1414 - accuracy: 0.9565\n",
      "Epoch 23/100\n",
      "33/33 [==============================] - 0s 1ms/step - loss: 0.1398 - accuracy: 0.9575\n",
      "Epoch 24/100\n",
      "33/33 [==============================] - 0s 1ms/step - loss: 0.1381 - accuracy: 0.9554\n",
      "Epoch 25/100\n",
      "33/33 [==============================] - 0s 1ms/step - loss: 0.1352 - accuracy: 0.9575\n",
      "Epoch 26/100\n",
      "33/33 [==============================] - 0s 1ms/step - loss: 0.1339 - accuracy: 0.9596\n",
      "Epoch 27/100\n",
      "33/33 [==============================] - 0s 1ms/step - loss: 0.1323 - accuracy: 0.9596\n",
      "Epoch 28/100\n",
      "33/33 [==============================] - 0s 1ms/step - loss: 0.1307 - accuracy: 0.9565\n",
      "Epoch 29/100\n",
      "33/33 [==============================] - 0s 1ms/step - loss: 0.1294 - accuracy: 0.9596\n",
      "Epoch 30/100\n",
      "33/33 [==============================] - 0s 1ms/step - loss: 0.1277 - accuracy: 0.9585\n",
      "Epoch 31/100\n",
      "33/33 [==============================] - 0s 1ms/step - loss: 0.1275 - accuracy: 0.9596\n",
      "Epoch 32/100\n",
      "33/33 [==============================] - 0s 1ms/step - loss: 0.1232 - accuracy: 0.9596\n",
      "Epoch 33/100\n",
      "33/33 [==============================] - 0s 1ms/step - loss: 0.1220 - accuracy: 0.9596\n",
      "Epoch 34/100\n",
      "33/33 [==============================] - 0s 1ms/step - loss: 0.1209 - accuracy: 0.9585\n",
      "Epoch 35/100\n",
      "33/33 [==============================] - 0s 1ms/step - loss: 0.1218 - accuracy: 0.9617\n",
      "Epoch 36/100\n",
      "33/33 [==============================] - 0s 1ms/step - loss: 0.1176 - accuracy: 0.9606\n",
      "Epoch 37/100\n",
      "33/33 [==============================] - 0s 1ms/step - loss: 0.1159 - accuracy: 0.9617\n",
      "Epoch 38/100\n",
      "33/33 [==============================] - 0s 1ms/step - loss: 0.1148 - accuracy: 0.9617\n",
      "Epoch 39/100\n",
      "33/33 [==============================] - 0s 1ms/step - loss: 0.1153 - accuracy: 0.9627\n",
      "Epoch 40/100\n",
      "33/33 [==============================] - 0s 1ms/step - loss: 0.1179 - accuracy: 0.9585\n",
      "Epoch 41/100\n",
      "33/33 [==============================] - 0s 1ms/step - loss: 0.1118 - accuracy: 0.9606\n",
      "Epoch 42/100\n",
      "33/33 [==============================] - 0s 1ms/step - loss: 0.1089 - accuracy: 0.9606\n",
      "Epoch 43/100\n",
      "33/33 [==============================] - 0s 1ms/step - loss: 0.1126 - accuracy: 0.9617\n",
      "Epoch 44/100\n",
      "33/33 [==============================] - 0s 1ms/step - loss: 0.1098 - accuracy: 0.9606\n",
      "Epoch 45/100\n",
      "33/33 [==============================] - 0s 1ms/step - loss: 0.1055 - accuracy: 0.9627\n",
      "Epoch 46/100\n",
      "33/33 [==============================] - 0s 1ms/step - loss: 0.1055 - accuracy: 0.9606\n",
      "Epoch 47/100\n",
      "33/33 [==============================] - 0s 1ms/step - loss: 0.1060 - accuracy: 0.9606\n",
      "Epoch 48/100\n",
      "33/33 [==============================] - 0s 1ms/step - loss: 0.1050 - accuracy: 0.9627\n",
      "Epoch 49/100\n",
      "33/33 [==============================] - 0s 1ms/step - loss: 0.1084 - accuracy: 0.9606\n",
      "Epoch 50/100\n",
      "33/33 [==============================] - 0s 1ms/step - loss: 0.1032 - accuracy: 0.9617\n",
      "Epoch 51/100\n",
      "33/33 [==============================] - 0s 1ms/step - loss: 0.1009 - accuracy: 0.9648\n",
      "Epoch 52/100\n",
      "33/33 [==============================] - 0s 1ms/step - loss: 0.1054 - accuracy: 0.9617\n",
      "Epoch 53/100\n",
      "33/33 [==============================] - 0s 1ms/step - loss: 0.1000 - accuracy: 0.9637\n",
      "Epoch 54/100\n",
      "33/33 [==============================] - 0s 1ms/step - loss: 0.0967 - accuracy: 0.9658\n",
      "Epoch 55/100\n",
      "33/33 [==============================] - 0s 1ms/step - loss: 0.0962 - accuracy: 0.9648\n",
      "Epoch 56/100\n",
      "33/33 [==============================] - 0s 1ms/step - loss: 0.0966 - accuracy: 0.9637\n",
      "Epoch 57/100\n",
      "33/33 [==============================] - 0s 1ms/step - loss: 0.0944 - accuracy: 0.9637\n",
      "Epoch 58/100\n",
      "33/33 [==============================] - 0s 1ms/step - loss: 0.0943 - accuracy: 0.9648\n",
      "Epoch 59/100\n",
      "33/33 [==============================] - 0s 1ms/step - loss: 0.0916 - accuracy: 0.9668\n",
      "Epoch 60/100\n",
      "33/33 [==============================] - 0s 1ms/step - loss: 0.0935 - accuracy: 0.9668\n",
      "Epoch 61/100\n",
      "33/33 [==============================] - 0s 1ms/step - loss: 0.0911 - accuracy: 0.9648\n",
      "Epoch 62/100\n",
      "33/33 [==============================] - 0s 1ms/step - loss: 0.0900 - accuracy: 0.9668\n",
      "Epoch 63/100\n",
      "33/33 [==============================] - 0s 1ms/step - loss: 0.0896 - accuracy: 0.9658\n",
      "Epoch 64/100\n",
      "33/33 [==============================] - 0s 1ms/step - loss: 0.0955 - accuracy: 0.9648\n",
      "Epoch 65/100\n",
      "33/33 [==============================] - 0s 1ms/step - loss: 0.0867 - accuracy: 0.9648\n",
      "Epoch 66/100\n",
      "33/33 [==============================] - 0s 1ms/step - loss: 0.0866 - accuracy: 0.9658\n",
      "Epoch 67/100\n",
      "33/33 [==============================] - 0s 1ms/step - loss: 0.0900 - accuracy: 0.9637\n",
      "Epoch 68/100\n",
      "33/33 [==============================] - 0s 1ms/step - loss: 0.0872 - accuracy: 0.9637\n",
      "Epoch 69/100\n",
      "33/33 [==============================] - 0s 1ms/step - loss: 0.0852 - accuracy: 0.9668\n",
      "Epoch 70/100\n",
      "33/33 [==============================] - 0s 1ms/step - loss: 0.0885 - accuracy: 0.9658\n",
      "Epoch 71/100\n",
      "33/33 [==============================] - 0s 1ms/step - loss: 0.0835 - accuracy: 0.9658\n",
      "Epoch 72/100\n",
      "33/33 [==============================] - 0s 1ms/step - loss: 0.0859 - accuracy: 0.9637\n",
      "Epoch 73/100\n",
      "33/33 [==============================] - 0s 1ms/step - loss: 0.0825 - accuracy: 0.9648\n",
      "Epoch 74/100\n",
      "33/33 [==============================] - 0s 1ms/step - loss: 0.0815 - accuracy: 0.9658\n",
      "Epoch 75/100\n",
      "33/33 [==============================] - 0s 1ms/step - loss: 0.0815 - accuracy: 0.9658\n",
      "Epoch 76/100\n",
      "33/33 [==============================] - 0s 1ms/step - loss: 0.0821 - accuracy: 0.9658\n",
      "Epoch 77/100\n",
      "33/33 [==============================] - 0s 1ms/step - loss: 0.0791 - accuracy: 0.9689\n",
      "Epoch 78/100\n",
      "33/33 [==============================] - 0s 1ms/step - loss: 0.0815 - accuracy: 0.9658\n",
      "Epoch 79/100\n",
      "33/33 [==============================] - 0s 1ms/step - loss: 0.0794 - accuracy: 0.9658\n",
      "Epoch 80/100\n",
      "33/33 [==============================] - 0s 1ms/step - loss: 0.0802 - accuracy: 0.9689\n",
      "Epoch 81/100\n",
      "33/33 [==============================] - 0s 1ms/step - loss: 0.0793 - accuracy: 0.9658\n",
      "Epoch 82/100\n",
      "33/33 [==============================] - 0s 1ms/step - loss: 0.0780 - accuracy: 0.9699\n",
      "Epoch 83/100\n",
      "33/33 [==============================] - 0s 1ms/step - loss: 0.0782 - accuracy: 0.9689\n",
      "Epoch 84/100\n",
      "33/33 [==============================] - 0s 1ms/step - loss: 0.0750 - accuracy: 0.9689\n",
      "Epoch 85/100\n",
      "33/33 [==============================] - 0s 1ms/step - loss: 0.0793 - accuracy: 0.9648\n",
      "Epoch 86/100\n",
      "33/33 [==============================] - 0s 1ms/step - loss: 0.0743 - accuracy: 0.9658\n",
      "Epoch 87/100\n",
      "33/33 [==============================] - 0s 1ms/step - loss: 0.0782 - accuracy: 0.9668\n",
      "Epoch 88/100\n",
      "33/33 [==============================] - 0s 1ms/step - loss: 0.0765 - accuracy: 0.9668\n",
      "Epoch 89/100\n",
      "33/33 [==============================] - 0s 1ms/step - loss: 0.0763 - accuracy: 0.9689\n",
      "Epoch 90/100\n",
      "33/33 [==============================] - 0s 1ms/step - loss: 0.0831 - accuracy: 0.9699\n",
      "Epoch 91/100\n",
      "33/33 [==============================] - 0s 1ms/step - loss: 0.0737 - accuracy: 0.9679\n",
      "Epoch 92/100\n",
      "33/33 [==============================] - 0s 1ms/step - loss: 0.0778 - accuracy: 0.9668\n",
      "Epoch 93/100\n",
      "33/33 [==============================] - 0s 1ms/step - loss: 0.0726 - accuracy: 0.9699\n",
      "Epoch 94/100\n",
      "33/33 [==============================] - 0s 1ms/step - loss: 0.0725 - accuracy: 0.9689\n",
      "Epoch 95/100\n",
      "33/33 [==============================] - 0s 1ms/step - loss: 0.0704 - accuracy: 0.9710\n",
      "Epoch 96/100\n",
      "33/33 [==============================] - 0s 1ms/step - loss: 0.0728 - accuracy: 0.9679\n",
      "Epoch 97/100\n",
      "33/33 [==============================] - 0s 1ms/step - loss: 0.0699 - accuracy: 0.9689\n",
      "Epoch 98/100\n",
      "33/33 [==============================] - 0s 1ms/step - loss: 0.0735 - accuracy: 0.9699\n",
      "Epoch 99/100\n",
      "33/33 [==============================] - 0s 1ms/step - loss: 0.0708 - accuracy: 0.9699\n",
      "Epoch 100/100\n",
      "33/33 [==============================] - 0s 1ms/step - loss: 0.0699 - accuracy: 0.9699\n"
     ]
    },
    {
     "data": {
      "text/plain": [
       "<tensorflow.python.keras.callbacks.History at 0x1d1fc6c60c8>"
      ]
     },
     "execution_count": 165,
     "metadata": {},
     "output_type": "execute_result"
    }
   ],
   "source": [
    "# Fit the model\n",
    "model1.fit(X_train, y_train, epochs=100, batch_size=30)"
   ]
  },
  {
   "cell_type": "markdown",
   "metadata": {},
   "source": [
    "### Multi Layer Perceptron Evaluation Metrics\n"
   ]
  },
  {
   "cell_type": "code",
   "execution_count": 166,
   "metadata": {},
   "outputs": [
    {
     "name": "stdout",
     "output_type": "stream",
     "text": [
      "31/31 [==============================] - 0s 740us/step - loss: 0.0652 - accuracy: 0.9720\n"
     ]
    },
    {
     "data": {
      "text/plain": [
       "[0.0652037039399147, 0.9720207452774048]"
      ]
     },
     "execution_count": 166,
     "metadata": {},
     "output_type": "execute_result"
    }
   ],
   "source": [
    "model1.evaluate(X_train, y_train)"
   ]
  },
  {
   "cell_type": "code",
   "execution_count": 167,
   "metadata": {},
   "outputs": [
    {
     "name": "stdout",
     "output_type": "stream",
     "text": [
      "8/8 [==============================] - 0s 1ms/step - loss: 0.4219 - accuracy: 0.9298\n"
     ]
    },
    {
     "data": {
      "text/plain": [
       "[0.42187103629112244, 0.9297520518302917]"
      ]
     },
     "execution_count": 167,
     "metadata": {},
     "output_type": "execute_result"
    }
   ],
   "source": [
    "model1.evaluate(X_test, y_test)"
   ]
  },
  {
   "cell_type": "markdown",
   "metadata": {},
   "source": [
    "### Multi Layer Perceptron Precision Scores"
   ]
  },
  {
   "cell_type": "code",
   "execution_count": 168,
   "metadata": {},
   "outputs": [],
   "source": [
    "train_pred=model1.predict_classes(X_train)\n",
    "pred=model1.predict_classes(X_test)"
   ]
  },
  {
   "cell_type": "code",
   "execution_count": 169,
   "metadata": {},
   "outputs": [
    {
     "name": "stdout",
     "output_type": "stream",
     "text": [
      "train 0.941320293398533\n",
      "test 0.8936170212765957\n"
     ]
    }
   ],
   "source": [
    "print(\"train\",precision_score(y_train, train_pred))\n",
    "print(\"test\",precision_score(y_test,pred))"
   ]
  },
  {
   "cell_type": "code",
   "execution_count": 170,
   "metadata": {},
   "outputs": [
    {
     "name": "stdout",
     "output_type": "stream",
     "text": [
      "train 0.9922680412371134\n",
      "test 0.9230769230769231\n"
     ]
    }
   ],
   "source": [
    "from sklearn.metrics import recall_score\n",
    "print(\"train\",recall_score(y_train, train_pred))\n",
    "print(\"test\",recall_score(y_test,pred))"
   ]
  }
 ],
 "metadata": {
  "kernelspec": {
   "display_name": "Python 3",
   "language": "python",
   "name": "python3"
  },
  "language_info": {
   "codemirror_mode": {
    "name": "ipython",
    "version": 3
   },
   "file_extension": ".py",
   "mimetype": "text/x-python",
   "name": "python",
   "nbconvert_exporter": "python",
   "pygments_lexer": "ipython3",
   "version": "3.7.6"
  }
 },
 "nbformat": 4,
 "nbformat_minor": 4
}
